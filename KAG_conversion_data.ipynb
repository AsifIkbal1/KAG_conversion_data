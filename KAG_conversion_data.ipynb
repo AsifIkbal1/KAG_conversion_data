{
 "cells": [
  {
   "cell_type": "code",
   "execution_count": 1,
   "metadata": {},
   "outputs": [],
   "source": [
    "import pandas as pd\n",
    "from pandas.plotting import scatter_matrix\n",
    "import matplotlib.pyplot as plt\n",
    "from sklearn import model_selection\n",
    "from sklearn.metrics import classification_report\n",
    "from sklearn.metrics import confusion_matrix\n",
    "from sklearn.metrics import accuracy_score\n",
    "from sklearn.linear_model import LogisticRegression\n",
    "from sklearn.tree import DecisionTreeClassifier\n",
    "from sklearn.neighbors import KNeighborsClassifier\n",
    "from sklearn.discriminant_analysis import LinearDiscriminantAnalysis\n",
    "from sklearn.naive_bayes import GaussianNB\n",
    "from sklearn.svm import SVC\n",
    "from sklearn.model_selection import train_test_split\n",
    "from sklearn.linear_model import LinearRegression\n",
    "from sklearn.linear_model import LogisticRegression\n",
    "import numpy as np\n",
    "import pandas as pd\n",
    "from sklearn.preprocessing import StandardScaler\n",
    "from sklearn.metrics import f1_score\n",
    "from sklearn.metrics import accuracy_score\n",
    "%matplotlib inline\n",
    "import seaborn as sns\n",
    "import pandas as pd\n",
    "from sklearn.naive_bayes import GaussianNB\n",
    "from sklearn.model_selection import train_test_split\n",
    "from sklearn.preprocessing import LabelEncoder\n"
   ]
  },
  {
   "cell_type": "code",
   "execution_count": 2,
   "metadata": {},
   "outputs": [
    {
     "data": {
      "text/html": [
       "<div>\n",
       "<style scoped>\n",
       "    .dataframe tbody tr th:only-of-type {\n",
       "        vertical-align: middle;\n",
       "    }\n",
       "\n",
       "    .dataframe tbody tr th {\n",
       "        vertical-align: top;\n",
       "    }\n",
       "\n",
       "    .dataframe thead th {\n",
       "        text-align: right;\n",
       "    }\n",
       "</style>\n",
       "<table border=\"1\" class=\"dataframe\">\n",
       "  <thead>\n",
       "    <tr style=\"text-align: right;\">\n",
       "      <th></th>\n",
       "      <th>ad_id</th>\n",
       "      <th>xyz_campaign_id</th>\n",
       "      <th>fb_campaign_id</th>\n",
       "      <th>age</th>\n",
       "      <th>gender</th>\n",
       "      <th>interest</th>\n",
       "      <th>Impressions</th>\n",
       "      <th>Clicks</th>\n",
       "      <th>Spent</th>\n",
       "      <th>Total_Conversion</th>\n",
       "      <th>Approved_Conversion</th>\n",
       "    </tr>\n",
       "  </thead>\n",
       "  <tbody>\n",
       "    <tr>\n",
       "      <th>0</th>\n",
       "      <td>708746</td>\n",
       "      <td>916</td>\n",
       "      <td>103916</td>\n",
       "      <td>30-34</td>\n",
       "      <td>M</td>\n",
       "      <td>15</td>\n",
       "      <td>7350</td>\n",
       "      <td>1</td>\n",
       "      <td>1.43</td>\n",
       "      <td>2</td>\n",
       "      <td>1</td>\n",
       "    </tr>\n",
       "    <tr>\n",
       "      <th>1</th>\n",
       "      <td>708749</td>\n",
       "      <td>916</td>\n",
       "      <td>103917</td>\n",
       "      <td>30-34</td>\n",
       "      <td>M</td>\n",
       "      <td>16</td>\n",
       "      <td>17861</td>\n",
       "      <td>2</td>\n",
       "      <td>1.82</td>\n",
       "      <td>2</td>\n",
       "      <td>0</td>\n",
       "    </tr>\n",
       "    <tr>\n",
       "      <th>2</th>\n",
       "      <td>708771</td>\n",
       "      <td>916</td>\n",
       "      <td>103920</td>\n",
       "      <td>30-34</td>\n",
       "      <td>M</td>\n",
       "      <td>20</td>\n",
       "      <td>693</td>\n",
       "      <td>0</td>\n",
       "      <td>0.00</td>\n",
       "      <td>1</td>\n",
       "      <td>0</td>\n",
       "    </tr>\n",
       "    <tr>\n",
       "      <th>3</th>\n",
       "      <td>708815</td>\n",
       "      <td>916</td>\n",
       "      <td>103928</td>\n",
       "      <td>30-34</td>\n",
       "      <td>M</td>\n",
       "      <td>28</td>\n",
       "      <td>4259</td>\n",
       "      <td>1</td>\n",
       "      <td>1.25</td>\n",
       "      <td>1</td>\n",
       "      <td>0</td>\n",
       "    </tr>\n",
       "    <tr>\n",
       "      <th>4</th>\n",
       "      <td>708818</td>\n",
       "      <td>916</td>\n",
       "      <td>103928</td>\n",
       "      <td>30-34</td>\n",
       "      <td>M</td>\n",
       "      <td>28</td>\n",
       "      <td>4133</td>\n",
       "      <td>1</td>\n",
       "      <td>1.29</td>\n",
       "      <td>1</td>\n",
       "      <td>1</td>\n",
       "    </tr>\n",
       "  </tbody>\n",
       "</table>\n",
       "</div>"
      ],
      "text/plain": [
       "    ad_id  xyz_campaign_id  fb_campaign_id    age gender  interest  \\\n",
       "0  708746              916          103916  30-34      M        15   \n",
       "1  708749              916          103917  30-34      M        16   \n",
       "2  708771              916          103920  30-34      M        20   \n",
       "3  708815              916          103928  30-34      M        28   \n",
       "4  708818              916          103928  30-34      M        28   \n",
       "\n",
       "   Impressions  Clicks  Spent  Total_Conversion  Approved_Conversion  \n",
       "0         7350       1   1.43                 2                    1  \n",
       "1        17861       2   1.82                 2                    0  \n",
       "2          693       0   0.00                 1                    0  \n",
       "3         4259       1   1.25                 1                    0  \n",
       "4         4133       1   1.29                 1                    1  "
      ]
     },
     "execution_count": 2,
     "metadata": {},
     "output_type": "execute_result"
    }
   ],
   "source": [
    "df=pd.read_csv('file:///C:/Users/Md%20Asif%20Ikbal/Downloads/KAG_conversion_data.csv.csv')\n",
    "df.head()"
   ]
  },
  {
   "cell_type": "code",
   "execution_count": 3,
   "metadata": {},
   "outputs": [
    {
     "data": {
      "text/plain": [
       "(1143, 11)"
      ]
     },
     "execution_count": 3,
     "metadata": {},
     "output_type": "execute_result"
    }
   ],
   "source": [
    "df.shape"
   ]
  },
  {
   "cell_type": "code",
   "execution_count": 4,
   "metadata": {},
   "outputs": [],
   "source": [
    "le=LabelEncoder()"
   ]
  },
  {
   "cell_type": "code",
   "execution_count": 5,
   "metadata": {},
   "outputs": [],
   "source": [
    "df['gender']=le.fit_transform(df['gender'])"
   ]
  },
  {
   "cell_type": "code",
   "execution_count": 6,
   "metadata": {},
   "outputs": [],
   "source": [
    "df=df.drop(['ad_id','age'],axis='columns')"
   ]
  },
  {
   "cell_type": "code",
   "execution_count": 7,
   "metadata": {},
   "outputs": [
    {
     "name": "stdout",
     "output_type": "stream",
     "text": [
      "<class 'pandas.core.frame.DataFrame'>\n",
      "RangeIndex: 1143 entries, 0 to 1142\n",
      "Data columns (total 9 columns):\n",
      " #   Column               Non-Null Count  Dtype  \n",
      "---  ------               --------------  -----  \n",
      " 0   xyz_campaign_id      1143 non-null   int64  \n",
      " 1   fb_campaign_id       1143 non-null   int64  \n",
      " 2   gender               1143 non-null   int32  \n",
      " 3   interest             1143 non-null   int64  \n",
      " 4   Impressions          1143 non-null   int64  \n",
      " 5   Clicks               1143 non-null   int64  \n",
      " 6   Spent                1143 non-null   float64\n",
      " 7   Total_Conversion     1143 non-null   int64  \n",
      " 8   Approved_Conversion  1143 non-null   int64  \n",
      "dtypes: float64(1), int32(1), int64(7)\n",
      "memory usage: 76.0 KB\n"
     ]
    }
   ],
   "source": [
    "df.info()"
   ]
  },
  {
   "cell_type": "code",
   "execution_count": 8,
   "metadata": {},
   "outputs": [
    {
     "data": {
      "text/plain": [
       "xyz_campaign_id          int64\n",
       "fb_campaign_id           int64\n",
       "gender                   int32\n",
       "interest                 int64\n",
       "Impressions              int64\n",
       "Clicks                   int64\n",
       "Spent                  float64\n",
       "Total_Conversion         int64\n",
       "Approved_Conversion      int64\n",
       "dtype: object"
      ]
     },
     "execution_count": 8,
     "metadata": {},
     "output_type": "execute_result"
    }
   ],
   "source": [
    "df.dtypes"
   ]
  },
  {
   "cell_type": "code",
   "execution_count": 9,
   "metadata": {},
   "outputs": [
    {
     "data": {
      "text/plain": [
       "xyz_campaign_id  fb_campaign_id  gender  interest  Impressions  Clicks  Spent       Total_Conversion  Approved_Conversion\n",
       "936              123532          1       65        152          0       0.000000    1                 1                      2\n",
       "916              103916          1       15        7350         1       1.430000    2                 1                      1\n",
       "1178             144618          1       65        188440       40      60.730000   2                 1                      1\n",
       "                 144624          1       16        159478       20      33.900000   3                 1                      1\n",
       "                 144623          1       15        506916       89      133.699999  2                 2                      1\n",
       "                                                                                                                            ..\n",
       "936              116367          0       29        164754       49      67.980000   2                 1                      1\n",
       "                 116371          0       10        6424         1       0.530000    1                 0                      1\n",
       "                                                   7449         1       1.640000    1                 1                      1\n",
       "                 116385          1       63        2086         0       0.000000    1                 0                      1\n",
       "1178             179982          0       114       513161       114     165.609999  5                 2                      1\n",
       "Length: 1142, dtype: int64"
      ]
     },
     "execution_count": 9,
     "metadata": {},
     "output_type": "execute_result"
    }
   ],
   "source": [
    "df.value_counts()"
   ]
  },
  {
   "cell_type": "code",
   "execution_count": 10,
   "metadata": {},
   "outputs": [
    {
     "data": {
      "text/plain": [
       "xyz_campaign_id        0\n",
       "fb_campaign_id         0\n",
       "gender                 0\n",
       "interest               0\n",
       "Impressions            0\n",
       "Clicks                 0\n",
       "Spent                  0\n",
       "Total_Conversion       0\n",
       "Approved_Conversion    0\n",
       "dtype: int64"
      ]
     },
     "execution_count": 10,
     "metadata": {},
     "output_type": "execute_result"
    }
   ],
   "source": [
    "df.isnull().sum()"
   ]
  },
  {
   "cell_type": "code",
   "execution_count": 11,
   "metadata": {},
   "outputs": [
    {
     "data": {
      "text/html": [
       "<div>\n",
       "<style scoped>\n",
       "    .dataframe tbody tr th:only-of-type {\n",
       "        vertical-align: middle;\n",
       "    }\n",
       "\n",
       "    .dataframe tbody tr th {\n",
       "        vertical-align: top;\n",
       "    }\n",
       "\n",
       "    .dataframe thead th {\n",
       "        text-align: right;\n",
       "    }\n",
       "</style>\n",
       "<table border=\"1\" class=\"dataframe\">\n",
       "  <thead>\n",
       "    <tr style=\"text-align: right;\">\n",
       "      <th></th>\n",
       "      <th>xyz_campaign_id</th>\n",
       "      <th>fb_campaign_id</th>\n",
       "      <th>gender</th>\n",
       "      <th>interest</th>\n",
       "      <th>Impressions</th>\n",
       "      <th>Clicks</th>\n",
       "      <th>Spent</th>\n",
       "      <th>Total_Conversion</th>\n",
       "      <th>Approved_Conversion</th>\n",
       "    </tr>\n",
       "  </thead>\n",
       "  <tbody>\n",
       "    <tr>\n",
       "      <th>count</th>\n",
       "      <td>1143.000000</td>\n",
       "      <td>1143.000000</td>\n",
       "      <td>1143.000000</td>\n",
       "      <td>1143.000000</td>\n",
       "      <td>1.143000e+03</td>\n",
       "      <td>1143.000000</td>\n",
       "      <td>1143.000000</td>\n",
       "      <td>1143.000000</td>\n",
       "      <td>1143.000000</td>\n",
       "    </tr>\n",
       "    <tr>\n",
       "      <th>mean</th>\n",
       "      <td>1067.382327</td>\n",
       "      <td>133783.989501</td>\n",
       "      <td>0.517935</td>\n",
       "      <td>32.766404</td>\n",
       "      <td>1.867321e+05</td>\n",
       "      <td>33.390201</td>\n",
       "      <td>51.360656</td>\n",
       "      <td>2.855643</td>\n",
       "      <td>0.944007</td>\n",
       "    </tr>\n",
       "    <tr>\n",
       "      <th>std</th>\n",
       "      <td>121.629393</td>\n",
       "      <td>20500.308622</td>\n",
       "      <td>0.499897</td>\n",
       "      <td>26.952131</td>\n",
       "      <td>3.127622e+05</td>\n",
       "      <td>56.892438</td>\n",
       "      <td>86.908418</td>\n",
       "      <td>4.483593</td>\n",
       "      <td>1.737708</td>\n",
       "    </tr>\n",
       "    <tr>\n",
       "      <th>min</th>\n",
       "      <td>916.000000</td>\n",
       "      <td>103916.000000</td>\n",
       "      <td>0.000000</td>\n",
       "      <td>2.000000</td>\n",
       "      <td>8.700000e+01</td>\n",
       "      <td>0.000000</td>\n",
       "      <td>0.000000</td>\n",
       "      <td>0.000000</td>\n",
       "      <td>0.000000</td>\n",
       "    </tr>\n",
       "    <tr>\n",
       "      <th>25%</th>\n",
       "      <td>936.000000</td>\n",
       "      <td>115716.000000</td>\n",
       "      <td>0.000000</td>\n",
       "      <td>16.000000</td>\n",
       "      <td>6.503500e+03</td>\n",
       "      <td>1.000000</td>\n",
       "      <td>1.480000</td>\n",
       "      <td>1.000000</td>\n",
       "      <td>0.000000</td>\n",
       "    </tr>\n",
       "    <tr>\n",
       "      <th>50%</th>\n",
       "      <td>1178.000000</td>\n",
       "      <td>144549.000000</td>\n",
       "      <td>1.000000</td>\n",
       "      <td>25.000000</td>\n",
       "      <td>5.150900e+04</td>\n",
       "      <td>8.000000</td>\n",
       "      <td>12.370000</td>\n",
       "      <td>1.000000</td>\n",
       "      <td>1.000000</td>\n",
       "    </tr>\n",
       "    <tr>\n",
       "      <th>75%</th>\n",
       "      <td>1178.000000</td>\n",
       "      <td>144657.500000</td>\n",
       "      <td>1.000000</td>\n",
       "      <td>31.000000</td>\n",
       "      <td>2.217690e+05</td>\n",
       "      <td>37.500000</td>\n",
       "      <td>60.025000</td>\n",
       "      <td>3.000000</td>\n",
       "      <td>1.000000</td>\n",
       "    </tr>\n",
       "    <tr>\n",
       "      <th>max</th>\n",
       "      <td>1178.000000</td>\n",
       "      <td>179982.000000</td>\n",
       "      <td>1.000000</td>\n",
       "      <td>114.000000</td>\n",
       "      <td>3.052003e+06</td>\n",
       "      <td>421.000000</td>\n",
       "      <td>639.949998</td>\n",
       "      <td>60.000000</td>\n",
       "      <td>21.000000</td>\n",
       "    </tr>\n",
       "  </tbody>\n",
       "</table>\n",
       "</div>"
      ],
      "text/plain": [
       "       xyz_campaign_id  fb_campaign_id       gender     interest  \\\n",
       "count      1143.000000     1143.000000  1143.000000  1143.000000   \n",
       "mean       1067.382327   133783.989501     0.517935    32.766404   \n",
       "std         121.629393    20500.308622     0.499897    26.952131   \n",
       "min         916.000000   103916.000000     0.000000     2.000000   \n",
       "25%         936.000000   115716.000000     0.000000    16.000000   \n",
       "50%        1178.000000   144549.000000     1.000000    25.000000   \n",
       "75%        1178.000000   144657.500000     1.000000    31.000000   \n",
       "max        1178.000000   179982.000000     1.000000   114.000000   \n",
       "\n",
       "        Impressions       Clicks        Spent  Total_Conversion  \\\n",
       "count  1.143000e+03  1143.000000  1143.000000       1143.000000   \n",
       "mean   1.867321e+05    33.390201    51.360656          2.855643   \n",
       "std    3.127622e+05    56.892438    86.908418          4.483593   \n",
       "min    8.700000e+01     0.000000     0.000000          0.000000   \n",
       "25%    6.503500e+03     1.000000     1.480000          1.000000   \n",
       "50%    5.150900e+04     8.000000    12.370000          1.000000   \n",
       "75%    2.217690e+05    37.500000    60.025000          3.000000   \n",
       "max    3.052003e+06   421.000000   639.949998         60.000000   \n",
       "\n",
       "       Approved_Conversion  \n",
       "count          1143.000000  \n",
       "mean              0.944007  \n",
       "std               1.737708  \n",
       "min               0.000000  \n",
       "25%               0.000000  \n",
       "50%               1.000000  \n",
       "75%               1.000000  \n",
       "max              21.000000  "
      ]
     },
     "execution_count": 11,
     "metadata": {},
     "output_type": "execute_result"
    }
   ],
   "source": [
    "df.describe()"
   ]
  },
  {
   "cell_type": "code",
   "execution_count": 12,
   "metadata": {},
   "outputs": [
    {
     "data": {
      "text/html": [
       "<div>\n",
       "<style scoped>\n",
       "    .dataframe tbody tr th:only-of-type {\n",
       "        vertical-align: middle;\n",
       "    }\n",
       "\n",
       "    .dataframe tbody tr th {\n",
       "        vertical-align: top;\n",
       "    }\n",
       "\n",
       "    .dataframe thead th {\n",
       "        text-align: right;\n",
       "    }\n",
       "</style>\n",
       "<table border=\"1\" class=\"dataframe\">\n",
       "  <thead>\n",
       "    <tr style=\"text-align: right;\">\n",
       "      <th></th>\n",
       "      <th>count</th>\n",
       "      <th>mean</th>\n",
       "      <th>std</th>\n",
       "      <th>min</th>\n",
       "      <th>25%</th>\n",
       "      <th>50%</th>\n",
       "      <th>75%</th>\n",
       "      <th>max</th>\n",
       "    </tr>\n",
       "  </thead>\n",
       "  <tbody>\n",
       "    <tr>\n",
       "      <th>xyz_campaign_id</th>\n",
       "      <td>9.0</td>\n",
       "      <td>0.478237</td>\n",
       "      <td>0.291289</td>\n",
       "      <td>0.086118</td>\n",
       "      <td>0.284968</td>\n",
       "      <td>0.469729</td>\n",
       "      <td>0.495273</td>\n",
       "      <td>1.0</td>\n",
       "    </tr>\n",
       "    <tr>\n",
       "      <th>fb_campaign_id</th>\n",
       "      <td>9.0</td>\n",
       "      <td>0.484218</td>\n",
       "      <td>0.298675</td>\n",
       "      <td>0.038037</td>\n",
       "      <td>0.344170</td>\n",
       "      <td>0.406978</td>\n",
       "      <td>0.595753</td>\n",
       "      <td>1.0</td>\n",
       "    </tr>\n",
       "    <tr>\n",
       "      <th>gender</th>\n",
       "      <td>9.0</td>\n",
       "      <td>0.079323</td>\n",
       "      <td>0.354341</td>\n",
       "      <td>-0.168725</td>\n",
       "      <td>-0.067059</td>\n",
       "      <td>-0.027559</td>\n",
       "      <td>0.038037</td>\n",
       "      <td>1.0</td>\n",
       "    </tr>\n",
       "    <tr>\n",
       "      <th>interest</th>\n",
       "      <td>9.0</td>\n",
       "      <td>0.251148</td>\n",
       "      <td>0.336281</td>\n",
       "      <td>-0.047230</td>\n",
       "      <td>0.070226</td>\n",
       "      <td>0.101973</td>\n",
       "      <td>0.272282</td>\n",
       "      <td>1.0</td>\n",
       "    </tr>\n",
       "    <tr>\n",
       "      <th>Impressions</th>\n",
       "      <td>9.0</td>\n",
       "      <td>0.598401</td>\n",
       "      <td>0.387422</td>\n",
       "      <td>-0.067059</td>\n",
       "      <td>0.439439</td>\n",
       "      <td>0.684249</td>\n",
       "      <td>0.948514</td>\n",
       "      <td>1.0</td>\n",
       "    </tr>\n",
       "    <tr>\n",
       "      <th>Clicks</th>\n",
       "      <td>9.0</td>\n",
       "      <td>0.554696</td>\n",
       "      <td>0.408434</td>\n",
       "      <td>-0.168725</td>\n",
       "      <td>0.406978</td>\n",
       "      <td>0.559526</td>\n",
       "      <td>0.948514</td>\n",
       "      <td>1.0</td>\n",
       "    </tr>\n",
       "    <tr>\n",
       "      <th>Spent</th>\n",
       "      <td>9.0</td>\n",
       "      <td>0.567475</td>\n",
       "      <td>0.405883</td>\n",
       "      <td>-0.125022</td>\n",
       "      <td>0.403532</td>\n",
       "      <td>0.593178</td>\n",
       "      <td>0.970386</td>\n",
       "      <td>1.0</td>\n",
       "    </tr>\n",
       "    <tr>\n",
       "      <th>Total_Conversion</th>\n",
       "      <td>9.0</td>\n",
       "      <td>0.542272</td>\n",
       "      <td>0.357646</td>\n",
       "      <td>-0.027559</td>\n",
       "      <td>0.344170</td>\n",
       "      <td>0.694632</td>\n",
       "      <td>0.812838</td>\n",
       "      <td>1.0</td>\n",
       "    </tr>\n",
       "    <tr>\n",
       "      <th>Approved_Conversion</th>\n",
       "      <td>9.0</td>\n",
       "      <td>0.480813</td>\n",
       "      <td>0.344727</td>\n",
       "      <td>0.025350</td>\n",
       "      <td>0.257658</td>\n",
       "      <td>0.559526</td>\n",
       "      <td>0.684249</td>\n",
       "      <td>1.0</td>\n",
       "    </tr>\n",
       "  </tbody>\n",
       "</table>\n",
       "</div>"
      ],
      "text/plain": [
       "                     count      mean       std       min       25%       50%  \\\n",
       "xyz_campaign_id        9.0  0.478237  0.291289  0.086118  0.284968  0.469729   \n",
       "fb_campaign_id         9.0  0.484218  0.298675  0.038037  0.344170  0.406978   \n",
       "gender                 9.0  0.079323  0.354341 -0.168725 -0.067059 -0.027559   \n",
       "interest               9.0  0.251148  0.336281 -0.047230  0.070226  0.101973   \n",
       "Impressions            9.0  0.598401  0.387422 -0.067059  0.439439  0.684249   \n",
       "Clicks                 9.0  0.554696  0.408434 -0.168725  0.406978  0.559526   \n",
       "Spent                  9.0  0.567475  0.405883 -0.125022  0.403532  0.593178   \n",
       "Total_Conversion       9.0  0.542272  0.357646 -0.027559  0.344170  0.694632   \n",
       "Approved_Conversion    9.0  0.480813  0.344727  0.025350  0.257658  0.559526   \n",
       "\n",
       "                          75%  max  \n",
       "xyz_campaign_id      0.495273  1.0  \n",
       "fb_campaign_id       0.595753  1.0  \n",
       "gender               0.038037  1.0  \n",
       "interest             0.272282  1.0  \n",
       "Impressions          0.948514  1.0  \n",
       "Clicks               0.948514  1.0  \n",
       "Spent                0.970386  1.0  \n",
       "Total_Conversion     0.812838  1.0  \n",
       "Approved_Conversion  0.684249  1.0  "
      ]
     },
     "execution_count": 12,
     "metadata": {},
     "output_type": "execute_result"
    }
   ],
   "source": [
    "df.corr().describe().T"
   ]
  },
  {
   "cell_type": "code",
   "execution_count": 13,
   "metadata": {},
   "outputs": [
    {
     "data": {
      "text/plain": [
       "xyz_campaign_id          1067.382327\n",
       "fb_campaign_id         133783.989501\n",
       "gender                      0.517935\n",
       "interest                   32.766404\n",
       "Impressions            186732.132983\n",
       "Clicks                     33.390201\n",
       "Spent                      51.360656\n",
       "Total_Conversion            2.855643\n",
       "Approved_Conversion         0.944007\n",
       "dtype: float64"
      ]
     },
     "execution_count": 13,
     "metadata": {},
     "output_type": "execute_result"
    }
   ],
   "source": [
    "df.mean()"
   ]
  },
  {
   "cell_type": "code",
   "execution_count": 14,
   "metadata": {},
   "outputs": [
    {
     "data": {
      "text/plain": [
       "xyz_campaign_id        1.178000e+03\n",
       "fb_campaign_id         1.799820e+05\n",
       "gender                 1.000000e+00\n",
       "interest               1.140000e+02\n",
       "Impressions            3.052003e+06\n",
       "Clicks                 4.210000e+02\n",
       "Spent                  6.399500e+02\n",
       "Total_Conversion       6.000000e+01\n",
       "Approved_Conversion    2.100000e+01\n",
       "dtype: float64"
      ]
     },
     "execution_count": 14,
     "metadata": {},
     "output_type": "execute_result"
    }
   ],
   "source": [
    "df.max()"
   ]
  },
  {
   "cell_type": "code",
   "execution_count": 15,
   "metadata": {},
   "outputs": [
    {
     "data": {
      "text/plain": [
       "xyz_campaign_id           916.0\n",
       "fb_campaign_id         103916.0\n",
       "gender                      0.0\n",
       "interest                    2.0\n",
       "Impressions                87.0\n",
       "Clicks                      0.0\n",
       "Spent                       0.0\n",
       "Total_Conversion            0.0\n",
       "Approved_Conversion         0.0\n",
       "dtype: float64"
      ]
     },
     "execution_count": 15,
     "metadata": {},
     "output_type": "execute_result"
    }
   ],
   "source": [
    "df.min()"
   ]
  },
  {
   "cell_type": "code",
   "execution_count": null,
   "metadata": {},
   "outputs": [],
   "source": []
  },
  {
   "cell_type": "code",
   "execution_count": 16,
   "metadata": {},
   "outputs": [],
   "source": [
    "x=df.drop(['gender'],axis='columns')"
   ]
  },
  {
   "cell_type": "code",
   "execution_count": 17,
   "metadata": {},
   "outputs": [],
   "source": [
    "y=df.gender.values"
   ]
  },
  {
   "cell_type": "code",
   "execution_count": 18,
   "metadata": {},
   "outputs": [],
   "source": [
    "xtrain,xtest,ytrain,ytest=train_test_split(x,y,test_size=0.3)"
   ]
  },
  {
   "cell_type": "code",
   "execution_count": 19,
   "metadata": {},
   "outputs": [
    {
     "data": {
      "text/plain": [
       "94.46064139941691"
      ]
     },
     "execution_count": 19,
     "metadata": {},
     "output_type": "execute_result"
    }
   ],
   "source": [
    "tre=DecisionTreeClassifier()\n",
    "tre.fit(xtrain,ytrain)\n",
    "pred_tre=tre.predict(xtest)\n",
    "accu_tre=accuracy_score(ytest , pred_tre)*100\n",
    "accu_tre"
   ]
  },
  {
   "cell_type": "code",
   "execution_count": 20,
   "metadata": {},
   "outputs": [
    {
     "name": "stdout",
     "output_type": "stream",
     "text": [
      "              precision    recall  f1-score   support\n",
      "\n",
      "           0       0.95      0.94      0.94       165\n",
      "           1       0.94      0.95      0.95       178\n",
      "\n",
      "    accuracy                           0.94       343\n",
      "   macro avg       0.94      0.94      0.94       343\n",
      "weighted avg       0.94      0.94      0.94       343\n",
      "\n"
     ]
    }
   ],
   "source": [
    "print(classification_report(ytest,pred_tre))"
   ]
  },
  {
   "cell_type": "code",
   "execution_count": 21,
   "metadata": {},
   "outputs": [
    {
     "data": {
      "text/plain": [
       "55.68513119533528"
      ]
     },
     "execution_count": 21,
     "metadata": {},
     "output_type": "execute_result"
    }
   ],
   "source": [
    "lo=LogisticRegression()\n",
    "lo.fit(xtrain,ytrain)\n",
    "pred_lo=lo.predict(xtest)\n",
    "accu_lo=accuracy_score(ytest,pred_lo)*100\n",
    "accu_lo"
   ]
  },
  {
   "cell_type": "code",
   "execution_count": 22,
   "metadata": {},
   "outputs": [
    {
     "name": "stdout",
     "output_type": "stream",
     "text": [
      "              precision    recall  f1-score   support\n",
      "\n",
      "           0       0.62      0.21      0.31       165\n",
      "           1       0.55      0.88      0.67       178\n",
      "\n",
      "    accuracy                           0.56       343\n",
      "   macro avg       0.58      0.54      0.49       343\n",
      "weighted avg       0.58      0.56      0.50       343\n",
      "\n"
     ]
    }
   ],
   "source": [
    "print(classification_report(ytest,pred_lo))"
   ]
  },
  {
   "cell_type": "code",
   "execution_count": 23,
   "metadata": {},
   "outputs": [],
   "source": [
    "from sklearn.neighbors import KNeighborsClassifier"
   ]
  },
  {
   "cell_type": "code",
   "execution_count": 24,
   "metadata": {},
   "outputs": [
    {
     "data": {
      "text/plain": [
       "57.7259475218659"
      ]
     },
     "execution_count": 24,
     "metadata": {},
     "output_type": "execute_result"
    }
   ],
   "source": [
    "kne=KNeighborsClassifier()\n",
    "kne.fit(xtrain,ytrain)\n",
    "pred_kne=kne.predict(xtest)\n",
    "accu_kne=accuracy_score(ytest,pred_kne)*100\n",
    "accu_kne"
   ]
  },
  {
   "cell_type": "code",
   "execution_count": 25,
   "metadata": {},
   "outputs": [
    {
     "name": "stdout",
     "output_type": "stream",
     "text": [
      "              precision    recall  f1-score   support\n",
      "\n",
      "           0       0.57      0.52      0.54       165\n",
      "           1       0.59      0.63      0.61       178\n",
      "\n",
      "    accuracy                           0.58       343\n",
      "   macro avg       0.58      0.58      0.57       343\n",
      "weighted avg       0.58      0.58      0.58       343\n",
      "\n"
     ]
    }
   ],
   "source": [
    "print(classification_report(ytest,pred_kne))"
   ]
  },
  {
   "cell_type": "code",
   "execution_count": 26,
   "metadata": {},
   "outputs": [],
   "source": [
    "from sklearn.ensemble import AdaBoostClassifier"
   ]
  },
  {
   "cell_type": "code",
   "execution_count": 27,
   "metadata": {},
   "outputs": [
    {
     "data": {
      "text/plain": [
       "97.37609329446065"
      ]
     },
     "execution_count": 27,
     "metadata": {},
     "output_type": "execute_result"
    }
   ],
   "source": [
    "ada=AdaBoostClassifier()\n",
    "ada.fit(xtrain,ytrain)\n",
    "pred_ada=ada.predict(xtest)\n",
    "accu_ada=accuracy_score(ytest , pred_ada)*100\n",
    "accu_ada"
   ]
  },
  {
   "cell_type": "code",
   "execution_count": 28,
   "metadata": {},
   "outputs": [
    {
     "name": "stdout",
     "output_type": "stream",
     "text": [
      "              precision    recall  f1-score   support\n",
      "\n",
      "           0       0.96      0.98      0.97       165\n",
      "           1       0.98      0.97      0.97       178\n",
      "\n",
      "    accuracy                           0.97       343\n",
      "   macro avg       0.97      0.97      0.97       343\n",
      "weighted avg       0.97      0.97      0.97       343\n",
      "\n"
     ]
    }
   ],
   "source": [
    "print(classification_report(ytest,pred_ada))"
   ]
  },
  {
   "cell_type": "code",
   "execution_count": 29,
   "metadata": {},
   "outputs": [],
   "source": [
    "from sklearn.ensemble import BaggingClassifier"
   ]
  },
  {
   "cell_type": "code",
   "execution_count": 30,
   "metadata": {},
   "outputs": [
    {
     "data": {
      "text/plain": [
       "92.71137026239067"
      ]
     },
     "execution_count": 30,
     "metadata": {},
     "output_type": "execute_result"
    }
   ],
   "source": [
    "bag=BaggingClassifier()\n",
    "bag.fit(xtrain,ytrain)\n",
    "pred_bag=bag.predict(xtest)\n",
    "accu_bag=accuracy_score(ytest , pred_bag)*100\n",
    "accu_bag"
   ]
  },
  {
   "cell_type": "code",
   "execution_count": 31,
   "metadata": {},
   "outputs": [
    {
     "name": "stdout",
     "output_type": "stream",
     "text": [
      "              precision    recall  f1-score   support\n",
      "\n",
      "           0       0.90      0.95      0.93       165\n",
      "           1       0.95      0.90      0.93       178\n",
      "\n",
      "    accuracy                           0.93       343\n",
      "   macro avg       0.93      0.93      0.93       343\n",
      "weighted avg       0.93      0.93      0.93       343\n",
      "\n"
     ]
    }
   ],
   "source": [
    "print(classification_report(ytest,pred_bag))"
   ]
  },
  {
   "cell_type": "code",
   "execution_count": 32,
   "metadata": {},
   "outputs": [],
   "source": [
    "from sklearn.naive_bayes import GaussianNB"
   ]
  },
  {
   "cell_type": "code",
   "execution_count": 33,
   "metadata": {},
   "outputs": [
    {
     "data": {
      "text/plain": [
       "58.60058309037901"
      ]
     },
     "execution_count": 33,
     "metadata": {},
     "output_type": "execute_result"
    }
   ],
   "source": [
    "gau=GaussianNB()\n",
    "gau.fit(xtrain,ytrain)\n",
    "pre_gau=gau.predict(xtest)\n",
    "accu_l=accuracy_score(ytest,pre_gau)*100\n",
    "accu_l"
   ]
  },
  {
   "cell_type": "code",
   "execution_count": 34,
   "metadata": {},
   "outputs": [
    {
     "name": "stdout",
     "output_type": "stream",
     "text": [
      "              precision    recall  f1-score   support\n",
      "\n",
      "           0       0.68      0.27      0.38       165\n",
      "           1       0.56      0.88      0.69       178\n",
      "\n",
      "    accuracy                           0.59       343\n",
      "   macro avg       0.62      0.57      0.54       343\n",
      "weighted avg       0.62      0.59      0.54       343\n",
      "\n"
     ]
    }
   ],
   "source": [
    "print(classification_report(ytest,pre_gau))"
   ]
  },
  {
   "cell_type": "code",
   "execution_count": 35,
   "metadata": {},
   "outputs": [],
   "source": [
    "from sklearn.ensemble import AdaBoostClassifier"
   ]
  },
  {
   "cell_type": "code",
   "execution_count": 36,
   "metadata": {},
   "outputs": [],
   "source": [
    "from sklearn.ensemble import ExtraTreesClassifier"
   ]
  },
  {
   "cell_type": "code",
   "execution_count": 37,
   "metadata": {},
   "outputs": [
    {
     "data": {
      "text/plain": [
       "81.92419825072886"
      ]
     },
     "execution_count": 37,
     "metadata": {},
     "output_type": "execute_result"
    }
   ],
   "source": [
    "etc=ExtraTreesClassifier()\n",
    "etc.fit(xtrain,ytrain)\n",
    "pre_etc=etc.predict(xtest)\n",
    "accu_etc=accuracy_score(ytest,pre_etc)*100\n",
    "accu_etc"
   ]
  },
  {
   "cell_type": "code",
   "execution_count": 38,
   "metadata": {},
   "outputs": [
    {
     "name": "stdout",
     "output_type": "stream",
     "text": [
      "              precision    recall  f1-score   support\n",
      "\n",
      "           0       0.82      0.81      0.81       165\n",
      "           1       0.82      0.83      0.83       178\n",
      "\n",
      "    accuracy                           0.82       343\n",
      "   macro avg       0.82      0.82      0.82       343\n",
      "weighted avg       0.82      0.82      0.82       343\n",
      "\n"
     ]
    }
   ],
   "source": [
    "print(classification_report(ytest,pre_etc))"
   ]
  },
  {
   "cell_type": "code",
   "execution_count": 39,
   "metadata": {},
   "outputs": [],
   "source": [
    "from sklearn.svm import SVC"
   ]
  },
  {
   "cell_type": "code",
   "execution_count": 40,
   "metadata": {},
   "outputs": [
    {
     "data": {
      "text/plain": [
       "54.81049562682215"
      ]
     },
     "execution_count": 40,
     "metadata": {},
     "output_type": "execute_result"
    }
   ],
   "source": [
    "svc=SVC()\n",
    "svc.fit(xtrain,ytrain)\n",
    "pre_siv=svc.predict(xtest)\n",
    "accu_siv=accuracy_score(ytest,pre_siv)*100\n",
    "accu_siv"
   ]
  },
  {
   "cell_type": "code",
   "execution_count": 41,
   "metadata": {},
   "outputs": [
    {
     "name": "stdout",
     "output_type": "stream",
     "text": [
      "              precision    recall  f1-score   support\n",
      "\n",
      "           0       0.60      0.19      0.29       165\n",
      "           1       0.54      0.88      0.67       178\n",
      "\n",
      "    accuracy                           0.55       343\n",
      "   macro avg       0.57      0.53      0.48       343\n",
      "weighted avg       0.57      0.55      0.48       343\n",
      "\n"
     ]
    }
   ],
   "source": [
    "print(classification_report(ytest,pre_siv))"
   ]
  },
  {
   "cell_type": "code",
   "execution_count": 42,
   "metadata": {},
   "outputs": [],
   "source": [
    "from sklearn.ensemble import RandomForestClassifier"
   ]
  },
  {
   "cell_type": "code",
   "execution_count": 43,
   "metadata": {},
   "outputs": [
    {
     "data": {
      "text/plain": [
       "88.92128279883383"
      ]
     },
     "execution_count": 43,
     "metadata": {},
     "output_type": "execute_result"
    }
   ],
   "source": [
    "rnd=RandomForestClassifier()\n",
    "rnd.fit(xtrain,ytrain)\n",
    "pre_rnd=rnd.predict(xtest)\n",
    "accu_rnd=accuracy_score(ytest,pre_rnd)*100\n",
    "accu_rnd"
   ]
  },
  {
   "cell_type": "code",
   "execution_count": 44,
   "metadata": {},
   "outputs": [
    {
     "name": "stdout",
     "output_type": "stream",
     "text": [
      "              precision    recall  f1-score   support\n",
      "\n",
      "           0       0.88      0.88      0.88       165\n",
      "           1       0.89      0.89      0.89       178\n",
      "\n",
      "    accuracy                           0.89       343\n",
      "   macro avg       0.89      0.89      0.89       343\n",
      "weighted avg       0.89      0.89      0.89       343\n",
      "\n"
     ]
    }
   ],
   "source": [
    "print(classification_report(ytest,pre_rnd))"
   ]
  },
  {
   "cell_type": "code",
   "execution_count": 45,
   "metadata": {},
   "outputs": [],
   "source": [
    "from catboost import CatBoostRegressor"
   ]
  },
  {
   "cell_type": "code",
   "execution_count": 46,
   "metadata": {},
   "outputs": [
    {
     "name": "stdout",
     "output_type": "stream",
     "text": [
      "Learning rate set to 0.03751\n",
      "0:\tlearn: 0.4913276\ttotal: 378ms\tremaining: 6m 17s\n",
      "1:\tlearn: 0.4837165\ttotal: 381ms\tremaining: 3m 9s\n",
      "2:\tlearn: 0.4767770\ttotal: 384ms\tremaining: 2m 7s\n",
      "3:\tlearn: 0.4699399\ttotal: 387ms\tremaining: 1m 36s\n",
      "4:\tlearn: 0.4635431\ttotal: 389ms\tremaining: 1m 17s\n",
      "5:\tlearn: 0.4562091\ttotal: 392ms\tremaining: 1m 4s\n",
      "6:\tlearn: 0.4508986\ttotal: 394ms\tremaining: 55.9s\n",
      "7:\tlearn: 0.4451291\ttotal: 396ms\tremaining: 49.2s\n",
      "8:\tlearn: 0.4403362\ttotal: 399ms\tremaining: 43.9s\n",
      "9:\tlearn: 0.4360162\ttotal: 401ms\tremaining: 39.7s\n",
      "10:\tlearn: 0.4302390\ttotal: 403ms\tremaining: 36.3s\n",
      "11:\tlearn: 0.4261072\ttotal: 406ms\tremaining: 33.4s\n",
      "12:\tlearn: 0.4209830\ttotal: 409ms\tremaining: 31.1s\n",
      "13:\tlearn: 0.4170980\ttotal: 411ms\tremaining: 29s\n",
      "14:\tlearn: 0.4130995\ttotal: 414ms\tremaining: 27.2s\n",
      "15:\tlearn: 0.4098807\ttotal: 419ms\tremaining: 25.7s\n",
      "16:\tlearn: 0.4067348\ttotal: 422ms\tremaining: 24.4s\n",
      "17:\tlearn: 0.4025418\ttotal: 424ms\tremaining: 23.1s\n",
      "18:\tlearn: 0.3993144\ttotal: 427ms\tremaining: 22s\n",
      "19:\tlearn: 0.3959021\ttotal: 429ms\tremaining: 21s\n",
      "20:\tlearn: 0.3929848\ttotal: 431ms\tremaining: 20.1s\n",
      "21:\tlearn: 0.3906324\ttotal: 433ms\tremaining: 19.2s\n",
      "22:\tlearn: 0.3877995\ttotal: 436ms\tremaining: 18.5s\n",
      "23:\tlearn: 0.3848338\ttotal: 439ms\tremaining: 17.8s\n",
      "24:\tlearn: 0.3816596\ttotal: 441ms\tremaining: 17.2s\n",
      "25:\tlearn: 0.3785676\ttotal: 443ms\tremaining: 16.6s\n",
      "26:\tlearn: 0.3757618\ttotal: 445ms\tremaining: 16.1s\n",
      "27:\tlearn: 0.3736179\ttotal: 448ms\tremaining: 15.5s\n",
      "28:\tlearn: 0.3704445\ttotal: 450ms\tremaining: 15.1s\n",
      "29:\tlearn: 0.3683864\ttotal: 453ms\tremaining: 14.6s\n",
      "30:\tlearn: 0.3653012\ttotal: 456ms\tremaining: 14.2s\n",
      "31:\tlearn: 0.3627094\ttotal: 458ms\tremaining: 13.9s\n",
      "32:\tlearn: 0.3609990\ttotal: 461ms\tremaining: 13.5s\n",
      "33:\tlearn: 0.3582920\ttotal: 464ms\tremaining: 13.2s\n",
      "34:\tlearn: 0.3554653\ttotal: 467ms\tremaining: 12.9s\n",
      "35:\tlearn: 0.3537440\ttotal: 470ms\tremaining: 12.6s\n",
      "36:\tlearn: 0.3518767\ttotal: 473ms\tremaining: 12.3s\n",
      "37:\tlearn: 0.3499753\ttotal: 475ms\tremaining: 12s\n",
      "38:\tlearn: 0.3477898\ttotal: 478ms\tremaining: 11.8s\n",
      "39:\tlearn: 0.3474245\ttotal: 479ms\tremaining: 11.5s\n",
      "40:\tlearn: 0.3459001\ttotal: 481ms\tremaining: 11.3s\n",
      "41:\tlearn: 0.3434005\ttotal: 484ms\tremaining: 11s\n",
      "42:\tlearn: 0.3419903\ttotal: 486ms\tremaining: 10.8s\n",
      "43:\tlearn: 0.3407428\ttotal: 488ms\tremaining: 10.6s\n",
      "44:\tlearn: 0.3391737\ttotal: 491ms\tremaining: 10.4s\n",
      "45:\tlearn: 0.3380177\ttotal: 495ms\tremaining: 10.3s\n",
      "46:\tlearn: 0.3365884\ttotal: 498ms\tremaining: 10.1s\n",
      "47:\tlearn: 0.3355294\ttotal: 500ms\tremaining: 9.92s\n",
      "48:\tlearn: 0.3346788\ttotal: 503ms\tremaining: 9.75s\n",
      "49:\tlearn: 0.3339044\ttotal: 505ms\tremaining: 9.59s\n",
      "50:\tlearn: 0.3325446\ttotal: 507ms\tremaining: 9.43s\n",
      "51:\tlearn: 0.3316475\ttotal: 509ms\tremaining: 9.28s\n",
      "52:\tlearn: 0.3298759\ttotal: 511ms\tremaining: 9.13s\n",
      "53:\tlearn: 0.3276622\ttotal: 513ms\tremaining: 8.98s\n",
      "54:\tlearn: 0.3264704\ttotal: 515ms\tremaining: 8.85s\n",
      "55:\tlearn: 0.3254187\ttotal: 517ms\tremaining: 8.72s\n",
      "56:\tlearn: 0.3241115\ttotal: 519ms\tremaining: 8.59s\n",
      "57:\tlearn: 0.3220809\ttotal: 523ms\tremaining: 8.49s\n",
      "58:\tlearn: 0.3211713\ttotal: 525ms\tremaining: 8.37s\n",
      "59:\tlearn: 0.3188533\ttotal: 527ms\tremaining: 8.26s\n",
      "60:\tlearn: 0.3178202\ttotal: 530ms\tremaining: 8.16s\n",
      "61:\tlearn: 0.3168406\ttotal: 532ms\tremaining: 8.05s\n",
      "62:\tlearn: 0.3156907\ttotal: 534ms\tremaining: 7.95s\n",
      "63:\tlearn: 0.3139526\ttotal: 537ms\tremaining: 7.86s\n",
      "64:\tlearn: 0.3132840\ttotal: 540ms\tremaining: 7.76s\n",
      "65:\tlearn: 0.3127014\ttotal: 542ms\tremaining: 7.67s\n",
      "66:\tlearn: 0.3120013\ttotal: 544ms\tremaining: 7.58s\n",
      "67:\tlearn: 0.3110731\ttotal: 547ms\tremaining: 7.5s\n",
      "68:\tlearn: 0.3102238\ttotal: 550ms\tremaining: 7.42s\n",
      "69:\tlearn: 0.3079721\ttotal: 553ms\tremaining: 7.35s\n",
      "70:\tlearn: 0.3070650\ttotal: 556ms\tremaining: 7.27s\n",
      "71:\tlearn: 0.3062412\ttotal: 558ms\tremaining: 7.19s\n",
      "72:\tlearn: 0.3050998\ttotal: 561ms\tremaining: 7.12s\n",
      "73:\tlearn: 0.3032588\ttotal: 563ms\tremaining: 7.04s\n",
      "74:\tlearn: 0.3027765\ttotal: 566ms\tremaining: 6.97s\n",
      "75:\tlearn: 0.3018788\ttotal: 568ms\tremaining: 6.9s\n",
      "76:\tlearn: 0.3010463\ttotal: 570ms\tremaining: 6.83s\n",
      "77:\tlearn: 0.3002880\ttotal: 574ms\tremaining: 6.78s\n",
      "78:\tlearn: 0.2987770\ttotal: 576ms\tremaining: 6.71s\n",
      "79:\tlearn: 0.2974425\ttotal: 579ms\tremaining: 6.66s\n",
      "80:\tlearn: 0.2959847\ttotal: 581ms\tremaining: 6.59s\n",
      "81:\tlearn: 0.2954411\ttotal: 583ms\tremaining: 6.53s\n",
      "82:\tlearn: 0.2941415\ttotal: 586ms\tremaining: 6.47s\n",
      "83:\tlearn: 0.2929624\ttotal: 588ms\tremaining: 6.41s\n",
      "84:\tlearn: 0.2918081\ttotal: 590ms\tremaining: 6.35s\n",
      "85:\tlearn: 0.2910919\ttotal: 592ms\tremaining: 6.29s\n",
      "86:\tlearn: 0.2898417\ttotal: 594ms\tremaining: 6.24s\n",
      "87:\tlearn: 0.2891133\ttotal: 596ms\tremaining: 6.18s\n",
      "88:\tlearn: 0.2884278\ttotal: 599ms\tremaining: 6.13s\n",
      "89:\tlearn: 0.2869178\ttotal: 601ms\tremaining: 6.08s\n",
      "90:\tlearn: 0.2852382\ttotal: 603ms\tremaining: 6.03s\n",
      "91:\tlearn: 0.2846651\ttotal: 606ms\tremaining: 5.98s\n",
      "92:\tlearn: 0.2833153\ttotal: 608ms\tremaining: 5.93s\n",
      "93:\tlearn: 0.2828604\ttotal: 610ms\tremaining: 5.88s\n",
      "94:\tlearn: 0.2822880\ttotal: 613ms\tremaining: 5.84s\n",
      "95:\tlearn: 0.2813947\ttotal: 615ms\tremaining: 5.79s\n",
      "96:\tlearn: 0.2809941\ttotal: 617ms\tremaining: 5.74s\n",
      "97:\tlearn: 0.2804363\ttotal: 619ms\tremaining: 5.7s\n",
      "98:\tlearn: 0.2794784\ttotal: 621ms\tremaining: 5.65s\n",
      "99:\tlearn: 0.2782155\ttotal: 623ms\tremaining: 5.61s\n",
      "100:\tlearn: 0.2774077\ttotal: 625ms\tremaining: 5.57s\n",
      "101:\tlearn: 0.2762589\ttotal: 628ms\tremaining: 5.53s\n",
      "102:\tlearn: 0.2751793\ttotal: 630ms\tremaining: 5.48s\n",
      "103:\tlearn: 0.2746852\ttotal: 633ms\tremaining: 5.45s\n",
      "104:\tlearn: 0.2740711\ttotal: 638ms\tremaining: 5.43s\n",
      "105:\tlearn: 0.2736009\ttotal: 640ms\tremaining: 5.4s\n",
      "106:\tlearn: 0.2726588\ttotal: 642ms\tremaining: 5.36s\n",
      "107:\tlearn: 0.2723344\ttotal: 644ms\tremaining: 5.32s\n",
      "108:\tlearn: 0.2708128\ttotal: 646ms\tremaining: 5.28s\n",
      "109:\tlearn: 0.2697963\ttotal: 649ms\tremaining: 5.25s\n",
      "110:\tlearn: 0.2682679\ttotal: 651ms\tremaining: 5.21s\n",
      "111:\tlearn: 0.2675952\ttotal: 653ms\tremaining: 5.18s\n",
      "112:\tlearn: 0.2669182\ttotal: 655ms\tremaining: 5.14s\n",
      "113:\tlearn: 0.2666114\ttotal: 657ms\tremaining: 5.11s\n",
      "114:\tlearn: 0.2656243\ttotal: 659ms\tremaining: 5.07s\n",
      "115:\tlearn: 0.2645297\ttotal: 662ms\tremaining: 5.04s\n",
      "116:\tlearn: 0.2635935\ttotal: 666ms\tremaining: 5.03s\n",
      "117:\tlearn: 0.2633500\ttotal: 668ms\tremaining: 4.99s\n",
      "118:\tlearn: 0.2625932\ttotal: 670ms\tremaining: 4.96s\n",
      "119:\tlearn: 0.2623100\ttotal: 673ms\tremaining: 4.93s\n",
      "120:\tlearn: 0.2620646\ttotal: 675ms\tremaining: 4.9s\n",
      "121:\tlearn: 0.2617671\ttotal: 677ms\tremaining: 4.87s\n",
      "122:\tlearn: 0.2614751\ttotal: 679ms\tremaining: 4.84s\n",
      "123:\tlearn: 0.2603345\ttotal: 681ms\tremaining: 4.81s\n",
      "124:\tlearn: 0.2597260\ttotal: 684ms\tremaining: 4.79s\n",
      "125:\tlearn: 0.2592230\ttotal: 686ms\tremaining: 4.76s\n",
      "126:\tlearn: 0.2590187\ttotal: 688ms\tremaining: 4.73s\n",
      "127:\tlearn: 0.2583687\ttotal: 690ms\tremaining: 4.7s\n",
      "128:\tlearn: 0.2572921\ttotal: 694ms\tremaining: 4.68s\n",
      "129:\tlearn: 0.2567103\ttotal: 696ms\tremaining: 4.66s\n",
      "130:\tlearn: 0.2559812\ttotal: 698ms\tremaining: 4.63s\n",
      "131:\tlearn: 0.2557442\ttotal: 701ms\tremaining: 4.61s\n",
      "132:\tlearn: 0.2550619\ttotal: 703ms\tremaining: 4.58s\n",
      "133:\tlearn: 0.2541246\ttotal: 706ms\tremaining: 4.56s\n",
      "134:\tlearn: 0.2535316\ttotal: 708ms\tremaining: 4.54s\n",
      "135:\tlearn: 0.2531560\ttotal: 711ms\tremaining: 4.51s\n",
      "136:\tlearn: 0.2525935\ttotal: 713ms\tremaining: 4.49s\n",
      "137:\tlearn: 0.2524018\ttotal: 715ms\tremaining: 4.47s\n",
      "138:\tlearn: 0.2509601\ttotal: 718ms\tremaining: 4.45s\n",
      "139:\tlearn: 0.2502897\ttotal: 720ms\tremaining: 4.42s\n",
      "140:\tlearn: 0.2500981\ttotal: 723ms\tremaining: 4.4s\n",
      "141:\tlearn: 0.2497069\ttotal: 725ms\tremaining: 4.38s\n",
      "142:\tlearn: 0.2494142\ttotal: 727ms\tremaining: 4.36s\n",
      "143:\tlearn: 0.2482127\ttotal: 729ms\tremaining: 4.33s\n",
      "144:\tlearn: 0.2478885\ttotal: 731ms\tremaining: 4.31s\n",
      "145:\tlearn: 0.2476946\ttotal: 733ms\tremaining: 4.29s\n",
      "146:\tlearn: 0.2472748\ttotal: 735ms\tremaining: 4.27s\n",
      "147:\tlearn: 0.2470011\ttotal: 737ms\tremaining: 4.24s\n",
      "148:\tlearn: 0.2467536\ttotal: 739ms\tremaining: 4.22s\n",
      "149:\tlearn: 0.2465544\ttotal: 741ms\tremaining: 4.2s\n",
      "150:\tlearn: 0.2461830\ttotal: 744ms\tremaining: 4.18s\n",
      "151:\tlearn: 0.2459083\ttotal: 746ms\tremaining: 4.16s\n",
      "152:\tlearn: 0.2450783\ttotal: 748ms\tremaining: 4.14s\n",
      "153:\tlearn: 0.2446599\ttotal: 752ms\tremaining: 4.13s\n",
      "154:\tlearn: 0.2444178\ttotal: 754ms\tremaining: 4.11s\n",
      "155:\tlearn: 0.2438798\ttotal: 756ms\tremaining: 4.09s\n",
      "156:\tlearn: 0.2429204\ttotal: 759ms\tremaining: 4.07s\n",
      "157:\tlearn: 0.2424668\ttotal: 761ms\tremaining: 4.05s\n",
      "158:\tlearn: 0.2415913\ttotal: 763ms\tremaining: 4.04s\n",
      "159:\tlearn: 0.2406996\ttotal: 765ms\tremaining: 4.02s\n",
      "160:\tlearn: 0.2401213\ttotal: 769ms\tremaining: 4s\n",
      "161:\tlearn: 0.2393543\ttotal: 771ms\tremaining: 3.99s\n",
      "162:\tlearn: 0.2392248\ttotal: 774ms\tremaining: 3.97s\n",
      "163:\tlearn: 0.2390306\ttotal: 778ms\tremaining: 3.96s\n",
      "164:\tlearn: 0.2387175\ttotal: 780ms\tremaining: 3.95s\n",
      "165:\tlearn: 0.2383745\ttotal: 785ms\tremaining: 3.94s\n",
      "166:\tlearn: 0.2381658\ttotal: 787ms\tremaining: 3.92s\n",
      "167:\tlearn: 0.2379529\ttotal: 789ms\tremaining: 3.91s\n",
      "168:\tlearn: 0.2371328\ttotal: 791ms\tremaining: 3.89s\n",
      "169:\tlearn: 0.2362927\ttotal: 793ms\tremaining: 3.87s\n",
      "170:\tlearn: 0.2360703\ttotal: 796ms\tremaining: 3.86s\n",
      "171:\tlearn: 0.2357258\ttotal: 798ms\tremaining: 3.84s\n",
      "172:\tlearn: 0.2348742\ttotal: 800ms\tremaining: 3.82s\n",
      "173:\tlearn: 0.2342869\ttotal: 802ms\tremaining: 3.81s\n",
      "174:\tlearn: 0.2330256\ttotal: 804ms\tremaining: 3.79s\n",
      "175:\tlearn: 0.2322422\ttotal: 807ms\tremaining: 3.78s\n",
      "176:\tlearn: 0.2311821\ttotal: 809ms\tremaining: 3.76s\n",
      "177:\tlearn: 0.2308235\ttotal: 812ms\tremaining: 3.75s\n",
      "178:\tlearn: 0.2307157\ttotal: 814ms\tremaining: 3.73s\n",
      "179:\tlearn: 0.2301641\ttotal: 816ms\tremaining: 3.71s\n",
      "180:\tlearn: 0.2290004\ttotal: 818ms\tremaining: 3.7s\n",
      "181:\tlearn: 0.2276567\ttotal: 821ms\tremaining: 3.69s\n",
      "182:\tlearn: 0.2274741\ttotal: 823ms\tremaining: 3.67s\n",
      "183:\tlearn: 0.2264198\ttotal: 825ms\tremaining: 3.66s\n",
      "184:\tlearn: 0.2260199\ttotal: 828ms\tremaining: 3.65s\n",
      "185:\tlearn: 0.2256833\ttotal: 832ms\tremaining: 3.64s\n",
      "186:\tlearn: 0.2245322\ttotal: 836ms\tremaining: 3.63s\n",
      "187:\tlearn: 0.2240300\ttotal: 838ms\tremaining: 3.62s\n",
      "188:\tlearn: 0.2234601\ttotal: 840ms\tremaining: 3.6s\n",
      "189:\tlearn: 0.2233060\ttotal: 842ms\tremaining: 3.59s\n",
      "190:\tlearn: 0.2231393\ttotal: 847ms\tremaining: 3.59s\n",
      "191:\tlearn: 0.2229962\ttotal: 849ms\tremaining: 3.57s\n",
      "192:\tlearn: 0.2224611\ttotal: 851ms\tremaining: 3.56s\n",
      "193:\tlearn: 0.2217011\ttotal: 853ms\tremaining: 3.54s\n",
      "194:\tlearn: 0.2214606\ttotal: 856ms\tremaining: 3.53s\n",
      "195:\tlearn: 0.2209539\ttotal: 858ms\tremaining: 3.52s\n",
      "196:\tlearn: 0.2201544\ttotal: 860ms\tremaining: 3.5s\n"
     ]
    },
    {
     "name": "stdout",
     "output_type": "stream",
     "text": [
      "197:\tlearn: 0.2198866\ttotal: 865ms\tremaining: 3.5s\n",
      "198:\tlearn: 0.2189923\ttotal: 867ms\tremaining: 3.49s\n",
      "199:\tlearn: 0.2178348\ttotal: 869ms\tremaining: 3.48s\n",
      "200:\tlearn: 0.2171744\ttotal: 871ms\tremaining: 3.46s\n",
      "201:\tlearn: 0.2164047\ttotal: 873ms\tremaining: 3.45s\n",
      "202:\tlearn: 0.2157917\ttotal: 875ms\tremaining: 3.44s\n",
      "203:\tlearn: 0.2147777\ttotal: 878ms\tremaining: 3.42s\n",
      "204:\tlearn: 0.2141246\ttotal: 880ms\tremaining: 3.41s\n",
      "205:\tlearn: 0.2132381\ttotal: 882ms\tremaining: 3.4s\n",
      "206:\tlearn: 0.2125429\ttotal: 884ms\tremaining: 3.39s\n",
      "207:\tlearn: 0.2117428\ttotal: 886ms\tremaining: 3.37s\n",
      "208:\tlearn: 0.2113663\ttotal: 888ms\tremaining: 3.36s\n",
      "209:\tlearn: 0.2111654\ttotal: 891ms\tremaining: 3.35s\n",
      "210:\tlearn: 0.2099768\ttotal: 894ms\tremaining: 3.34s\n",
      "211:\tlearn: 0.2095905\ttotal: 896ms\tremaining: 3.33s\n",
      "212:\tlearn: 0.2088847\ttotal: 898ms\tremaining: 3.32s\n",
      "213:\tlearn: 0.2083292\ttotal: 900ms\tremaining: 3.31s\n",
      "214:\tlearn: 0.2078062\ttotal: 902ms\tremaining: 3.29s\n",
      "215:\tlearn: 0.2075567\ttotal: 904ms\tremaining: 3.28s\n",
      "216:\tlearn: 0.2073324\ttotal: 906ms\tremaining: 3.27s\n",
      "217:\tlearn: 0.2067065\ttotal: 909ms\tremaining: 3.26s\n",
      "218:\tlearn: 0.2063028\ttotal: 911ms\tremaining: 3.25s\n",
      "219:\tlearn: 0.2056447\ttotal: 913ms\tremaining: 3.24s\n",
      "220:\tlearn: 0.2050657\ttotal: 915ms\tremaining: 3.23s\n",
      "221:\tlearn: 0.2040440\ttotal: 917ms\tremaining: 3.21s\n",
      "222:\tlearn: 0.2031826\ttotal: 921ms\tremaining: 3.21s\n",
      "223:\tlearn: 0.2022996\ttotal: 923ms\tremaining: 3.2s\n",
      "224:\tlearn: 0.2017105\ttotal: 925ms\tremaining: 3.19s\n",
      "225:\tlearn: 0.2014939\ttotal: 927ms\tremaining: 3.17s\n",
      "226:\tlearn: 0.2013386\ttotal: 929ms\tremaining: 3.16s\n",
      "227:\tlearn: 0.2009149\ttotal: 931ms\tremaining: 3.15s\n",
      "228:\tlearn: 0.2004783\ttotal: 933ms\tremaining: 3.14s\n",
      "229:\tlearn: 0.1996593\ttotal: 935ms\tremaining: 3.13s\n",
      "230:\tlearn: 0.1990870\ttotal: 938ms\tremaining: 3.12s\n",
      "231:\tlearn: 0.1985506\ttotal: 940ms\tremaining: 3.11s\n",
      "232:\tlearn: 0.1983286\ttotal: 942ms\tremaining: 3.1s\n",
      "233:\tlearn: 0.1973835\ttotal: 945ms\tremaining: 3.09s\n",
      "234:\tlearn: 0.1969801\ttotal: 950ms\tremaining: 3.09s\n",
      "235:\tlearn: 0.1965124\ttotal: 953ms\tremaining: 3.08s\n",
      "236:\tlearn: 0.1960156\ttotal: 955ms\tremaining: 3.07s\n",
      "237:\tlearn: 0.1953135\ttotal: 957ms\tremaining: 3.06s\n",
      "238:\tlearn: 0.1946520\ttotal: 960ms\tremaining: 3.06s\n",
      "239:\tlearn: 0.1944482\ttotal: 962ms\tremaining: 3.04s\n",
      "240:\tlearn: 0.1935959\ttotal: 964ms\tremaining: 3.04s\n",
      "241:\tlearn: 0.1931186\ttotal: 966ms\tremaining: 3.03s\n",
      "242:\tlearn: 0.1923428\ttotal: 968ms\tremaining: 3.02s\n",
      "243:\tlearn: 0.1920268\ttotal: 970ms\tremaining: 3s\n",
      "244:\tlearn: 0.1918254\ttotal: 972ms\tremaining: 3s\n",
      "245:\tlearn: 0.1914163\ttotal: 975ms\tremaining: 2.99s\n",
      "246:\tlearn: 0.1909951\ttotal: 978ms\tremaining: 2.98s\n",
      "247:\tlearn: 0.1901338\ttotal: 980ms\tremaining: 2.97s\n",
      "248:\tlearn: 0.1894483\ttotal: 982ms\tremaining: 2.96s\n",
      "249:\tlearn: 0.1886785\ttotal: 984ms\tremaining: 2.95s\n",
      "250:\tlearn: 0.1883454\ttotal: 986ms\tremaining: 2.94s\n",
      "251:\tlearn: 0.1881641\ttotal: 989ms\tremaining: 2.93s\n",
      "252:\tlearn: 0.1873578\ttotal: 991ms\tremaining: 2.93s\n",
      "253:\tlearn: 0.1869651\ttotal: 993ms\tremaining: 2.92s\n",
      "254:\tlearn: 0.1865979\ttotal: 996ms\tremaining: 2.91s\n",
      "255:\tlearn: 0.1864130\ttotal: 998ms\tremaining: 2.9s\n",
      "256:\tlearn: 0.1862307\ttotal: 1s\tremaining: 2.89s\n",
      "257:\tlearn: 0.1860608\ttotal: 1s\tremaining: 2.88s\n",
      "258:\tlearn: 0.1853003\ttotal: 1.01s\tremaining: 2.88s\n",
      "259:\tlearn: 0.1849494\ttotal: 1.01s\tremaining: 2.87s\n",
      "260:\tlearn: 0.1843590\ttotal: 1.01s\tremaining: 2.86s\n",
      "261:\tlearn: 0.1841970\ttotal: 1.01s\tremaining: 2.85s\n",
      "262:\tlearn: 0.1837458\ttotal: 1.02s\tremaining: 2.85s\n",
      "263:\tlearn: 0.1835941\ttotal: 1.02s\tremaining: 2.85s\n",
      "264:\tlearn: 0.1829782\ttotal: 1.02s\tremaining: 2.84s\n",
      "265:\tlearn: 0.1826500\ttotal: 1.03s\tremaining: 2.83s\n",
      "266:\tlearn: 0.1820121\ttotal: 1.03s\tremaining: 2.83s\n",
      "267:\tlearn: 0.1818698\ttotal: 1.03s\tremaining: 2.82s\n",
      "268:\tlearn: 0.1813521\ttotal: 1.03s\tremaining: 2.81s\n",
      "269:\tlearn: 0.1811076\ttotal: 1.04s\tremaining: 2.8s\n",
      "270:\tlearn: 0.1809700\ttotal: 1.04s\tremaining: 2.79s\n",
      "271:\tlearn: 0.1803933\ttotal: 1.04s\tremaining: 2.79s\n",
      "272:\tlearn: 0.1797678\ttotal: 1.04s\tremaining: 2.78s\n",
      "273:\tlearn: 0.1794483\ttotal: 1.04s\tremaining: 2.77s\n",
      "274:\tlearn: 0.1793152\ttotal: 1.05s\tremaining: 2.76s\n",
      "275:\tlearn: 0.1789601\ttotal: 1.05s\tremaining: 2.75s\n",
      "276:\tlearn: 0.1784067\ttotal: 1.05s\tremaining: 2.75s\n",
      "277:\tlearn: 0.1778123\ttotal: 1.05s\tremaining: 2.74s\n",
      "278:\tlearn: 0.1776596\ttotal: 1.05s\tremaining: 2.73s\n",
      "279:\tlearn: 0.1773614\ttotal: 1.06s\tremaining: 2.72s\n",
      "280:\tlearn: 0.1767949\ttotal: 1.06s\tremaining: 2.72s\n",
      "281:\tlearn: 0.1763163\ttotal: 1.06s\tremaining: 2.71s\n",
      "282:\tlearn: 0.1757606\ttotal: 1.07s\tremaining: 2.71s\n",
      "283:\tlearn: 0.1752206\ttotal: 1.07s\tremaining: 2.7s\n",
      "284:\tlearn: 0.1745983\ttotal: 1.07s\tremaining: 2.69s\n",
      "285:\tlearn: 0.1743161\ttotal: 1.07s\tremaining: 2.68s\n",
      "286:\tlearn: 0.1741688\ttotal: 1.08s\tremaining: 2.67s\n",
      "287:\tlearn: 0.1736468\ttotal: 1.08s\tremaining: 2.67s\n",
      "288:\tlearn: 0.1731503\ttotal: 1.08s\tremaining: 2.66s\n",
      "289:\tlearn: 0.1723050\ttotal: 1.08s\tremaining: 2.65s\n",
      "290:\tlearn: 0.1719348\ttotal: 1.08s\tremaining: 2.64s\n",
      "291:\tlearn: 0.1714250\ttotal: 1.09s\tremaining: 2.64s\n",
      "292:\tlearn: 0.1712799\ttotal: 1.09s\tremaining: 2.63s\n",
      "293:\tlearn: 0.1708023\ttotal: 1.09s\tremaining: 2.63s\n",
      "294:\tlearn: 0.1704835\ttotal: 1.09s\tremaining: 2.62s\n",
      "295:\tlearn: 0.1698575\ttotal: 1.1s\tremaining: 2.61s\n",
      "296:\tlearn: 0.1696712\ttotal: 1.1s\tremaining: 2.61s\n",
      "297:\tlearn: 0.1690886\ttotal: 1.1s\tremaining: 2.6s\n",
      "298:\tlearn: 0.1685101\ttotal: 1.11s\tremaining: 2.59s\n",
      "299:\tlearn: 0.1682369\ttotal: 1.11s\tremaining: 2.58s\n",
      "300:\tlearn: 0.1677037\ttotal: 1.11s\tremaining: 2.58s\n",
      "301:\tlearn: 0.1674400\ttotal: 1.11s\tremaining: 2.57s\n",
      "302:\tlearn: 0.1672706\ttotal: 1.11s\tremaining: 2.56s\n",
      "303:\tlearn: 0.1668043\ttotal: 1.12s\tremaining: 2.56s\n",
      "304:\tlearn: 0.1666641\ttotal: 1.12s\tremaining: 2.55s\n",
      "305:\tlearn: 0.1661321\ttotal: 1.12s\tremaining: 2.55s\n",
      "306:\tlearn: 0.1657064\ttotal: 1.13s\tremaining: 2.54s\n",
      "307:\tlearn: 0.1651103\ttotal: 1.13s\tremaining: 2.53s\n",
      "308:\tlearn: 0.1646680\ttotal: 1.13s\tremaining: 2.52s\n",
      "309:\tlearn: 0.1642494\ttotal: 1.13s\tremaining: 2.52s\n",
      "310:\tlearn: 0.1641096\ttotal: 1.13s\tremaining: 2.51s\n",
      "311:\tlearn: 0.1637071\ttotal: 1.14s\tremaining: 2.5s\n",
      "312:\tlearn: 0.1635751\ttotal: 1.14s\tremaining: 2.5s\n",
      "313:\tlearn: 0.1633020\ttotal: 1.14s\tremaining: 2.49s\n",
      "314:\tlearn: 0.1630030\ttotal: 1.14s\tremaining: 2.48s\n",
      "315:\tlearn: 0.1626290\ttotal: 1.14s\tremaining: 2.48s\n",
      "316:\tlearn: 0.1620736\ttotal: 1.15s\tremaining: 2.47s\n",
      "317:\tlearn: 0.1617725\ttotal: 1.15s\tremaining: 2.46s\n",
      "318:\tlearn: 0.1616285\ttotal: 1.15s\tremaining: 2.46s\n",
      "319:\tlearn: 0.1610980\ttotal: 1.15s\tremaining: 2.45s\n",
      "320:\tlearn: 0.1607286\ttotal: 1.16s\tremaining: 2.45s\n",
      "321:\tlearn: 0.1604527\ttotal: 1.16s\tremaining: 2.44s\n",
      "322:\tlearn: 0.1600570\ttotal: 1.16s\tremaining: 2.43s\n",
      "323:\tlearn: 0.1598134\ttotal: 1.16s\tremaining: 2.43s\n",
      "324:\tlearn: 0.1594570\ttotal: 1.17s\tremaining: 2.42s\n",
      "325:\tlearn: 0.1589101\ttotal: 1.17s\tremaining: 2.41s\n",
      "326:\tlearn: 0.1587158\ttotal: 1.17s\tremaining: 2.41s\n",
      "327:\tlearn: 0.1583961\ttotal: 1.17s\tremaining: 2.4s\n",
      "328:\tlearn: 0.1582708\ttotal: 1.17s\tremaining: 2.39s\n",
      "329:\tlearn: 0.1579799\ttotal: 1.18s\tremaining: 2.39s\n",
      "330:\tlearn: 0.1577990\ttotal: 1.18s\tremaining: 2.38s\n",
      "331:\tlearn: 0.1572195\ttotal: 1.18s\tremaining: 2.38s\n",
      "332:\tlearn: 0.1571075\ttotal: 1.19s\tremaining: 2.37s\n",
      "333:\tlearn: 0.1569254\ttotal: 1.19s\tremaining: 2.37s\n",
      "334:\tlearn: 0.1568201\ttotal: 1.19s\tremaining: 2.36s\n",
      "335:\tlearn: 0.1564780\ttotal: 1.19s\tremaining: 2.36s\n",
      "336:\tlearn: 0.1562635\ttotal: 1.2s\tremaining: 2.35s\n",
      "337:\tlearn: 0.1560452\ttotal: 1.2s\tremaining: 2.35s\n",
      "338:\tlearn: 0.1558115\ttotal: 1.2s\tremaining: 2.34s\n",
      "339:\tlearn: 0.1557128\ttotal: 1.21s\tremaining: 2.34s\n",
      "340:\tlearn: 0.1551672\ttotal: 1.21s\tremaining: 2.33s\n",
      "341:\tlearn: 0.1549176\ttotal: 1.21s\tremaining: 2.33s\n",
      "342:\tlearn: 0.1547452\ttotal: 1.21s\tremaining: 2.32s\n",
      "343:\tlearn: 0.1545900\ttotal: 1.21s\tremaining: 2.32s\n",
      "344:\tlearn: 0.1542294\ttotal: 1.22s\tremaining: 2.31s\n",
      "345:\tlearn: 0.1540894\ttotal: 1.22s\tremaining: 2.3s\n",
      "346:\tlearn: 0.1539829\ttotal: 1.22s\tremaining: 2.3s\n",
      "347:\tlearn: 0.1535774\ttotal: 1.22s\tremaining: 2.29s\n",
      "348:\tlearn: 0.1532779\ttotal: 1.23s\tremaining: 2.29s\n",
      "349:\tlearn: 0.1529857\ttotal: 1.23s\tremaining: 2.28s\n",
      "350:\tlearn: 0.1528915\ttotal: 1.23s\tremaining: 2.27s\n",
      "351:\tlearn: 0.1525876\ttotal: 1.23s\tremaining: 2.27s\n",
      "352:\tlearn: 0.1522161\ttotal: 1.24s\tremaining: 2.26s\n",
      "353:\tlearn: 0.1517883\ttotal: 1.24s\tremaining: 2.26s\n",
      "354:\tlearn: 0.1515821\ttotal: 1.24s\tremaining: 2.25s\n",
      "355:\tlearn: 0.1511711\ttotal: 1.24s\tremaining: 2.25s\n",
      "356:\tlearn: 0.1508430\ttotal: 1.25s\tremaining: 2.24s\n",
      "357:\tlearn: 0.1505443\ttotal: 1.25s\tremaining: 2.24s\n",
      "358:\tlearn: 0.1503771\ttotal: 1.25s\tremaining: 2.23s\n",
      "359:\tlearn: 0.1502659\ttotal: 1.25s\tremaining: 2.23s\n",
      "360:\tlearn: 0.1500229\ttotal: 1.25s\tremaining: 2.22s\n",
      "361:\tlearn: 0.1497147\ttotal: 1.26s\tremaining: 2.22s\n",
      "362:\tlearn: 0.1494368\ttotal: 1.26s\tremaining: 2.21s\n",
      "363:\tlearn: 0.1492374\ttotal: 1.26s\tremaining: 2.21s\n",
      "364:\tlearn: 0.1491045\ttotal: 1.27s\tremaining: 2.2s\n",
      "365:\tlearn: 0.1488846\ttotal: 1.27s\tremaining: 2.2s\n",
      "366:\tlearn: 0.1486688\ttotal: 1.27s\tremaining: 2.19s\n",
      "367:\tlearn: 0.1484447\ttotal: 1.27s\tremaining: 2.19s\n",
      "368:\tlearn: 0.1481643\ttotal: 1.27s\tremaining: 2.18s\n",
      "369:\tlearn: 0.1480190\ttotal: 1.28s\tremaining: 2.18s\n",
      "370:\tlearn: 0.1478947\ttotal: 1.28s\tremaining: 2.17s\n",
      "371:\tlearn: 0.1476971\ttotal: 1.28s\tremaining: 2.16s\n",
      "372:\tlearn: 0.1474687\ttotal: 1.28s\tremaining: 2.16s\n",
      "373:\tlearn: 0.1472475\ttotal: 1.29s\tremaining: 2.15s\n",
      "374:\tlearn: 0.1469650\ttotal: 1.29s\tremaining: 2.15s\n",
      "375:\tlearn: 0.1466977\ttotal: 1.29s\tremaining: 2.15s\n",
      "376:\tlearn: 0.1462468\ttotal: 1.29s\tremaining: 2.14s\n",
      "377:\tlearn: 0.1459855\ttotal: 1.3s\tremaining: 2.13s\n",
      "378:\tlearn: 0.1458029\ttotal: 1.3s\tremaining: 2.13s\n",
      "379:\tlearn: 0.1454184\ttotal: 1.3s\tremaining: 2.12s\n",
      "380:\tlearn: 0.1453258\ttotal: 1.3s\tremaining: 2.12s\n",
      "381:\tlearn: 0.1451080\ttotal: 1.3s\tremaining: 2.11s\n",
      "382:\tlearn: 0.1448524\ttotal: 1.31s\tremaining: 2.11s\n",
      "383:\tlearn: 0.1445957\ttotal: 1.31s\tremaining: 2.1s\n",
      "384:\tlearn: 0.1444180\ttotal: 1.31s\tremaining: 2.1s\n",
      "385:\tlearn: 0.1439190\ttotal: 1.31s\tremaining: 2.09s\n",
      "386:\tlearn: 0.1437842\ttotal: 1.32s\tremaining: 2.08s\n",
      "387:\tlearn: 0.1435832\ttotal: 1.32s\tremaining: 2.08s\n",
      "388:\tlearn: 0.1434517\ttotal: 1.32s\tremaining: 2.08s\n",
      "389:\tlearn: 0.1432109\ttotal: 1.32s\tremaining: 2.07s\n",
      "390:\tlearn: 0.1429368\ttotal: 1.33s\tremaining: 2.07s\n",
      "391:\tlearn: 0.1427839\ttotal: 1.33s\tremaining: 2.06s\n",
      "392:\tlearn: 0.1425801\ttotal: 1.33s\tremaining: 2.06s\n",
      "393:\tlearn: 0.1424833\ttotal: 1.34s\tremaining: 2.06s\n"
     ]
    },
    {
     "name": "stdout",
     "output_type": "stream",
     "text": [
      "394:\tlearn: 0.1422056\ttotal: 1.34s\tremaining: 2.05s\n",
      "395:\tlearn: 0.1420592\ttotal: 1.34s\tremaining: 2.05s\n",
      "396:\tlearn: 0.1417989\ttotal: 1.34s\tremaining: 2.04s\n",
      "397:\tlearn: 0.1415038\ttotal: 1.35s\tremaining: 2.04s\n",
      "398:\tlearn: 0.1412055\ttotal: 1.35s\tremaining: 2.04s\n",
      "399:\tlearn: 0.1410682\ttotal: 1.35s\tremaining: 2.03s\n",
      "400:\tlearn: 0.1408499\ttotal: 1.36s\tremaining: 2.03s\n",
      "401:\tlearn: 0.1406066\ttotal: 1.36s\tremaining: 2.02s\n",
      "402:\tlearn: 0.1403982\ttotal: 1.36s\tremaining: 2.02s\n",
      "403:\tlearn: 0.1403112\ttotal: 1.36s\tremaining: 2.01s\n",
      "404:\tlearn: 0.1399667\ttotal: 1.37s\tremaining: 2.01s\n",
      "405:\tlearn: 0.1399004\ttotal: 1.37s\tremaining: 2s\n",
      "406:\tlearn: 0.1397568\ttotal: 1.37s\tremaining: 2s\n",
      "407:\tlearn: 0.1396666\ttotal: 1.37s\tremaining: 1.99s\n",
      "408:\tlearn: 0.1394802\ttotal: 1.38s\tremaining: 2s\n",
      "409:\tlearn: 0.1393939\ttotal: 1.38s\tremaining: 1.99s\n",
      "410:\tlearn: 0.1390746\ttotal: 1.39s\tremaining: 1.99s\n",
      "411:\tlearn: 0.1390248\ttotal: 1.39s\tremaining: 1.98s\n",
      "412:\tlearn: 0.1387855\ttotal: 1.39s\tremaining: 1.97s\n",
      "413:\tlearn: 0.1387073\ttotal: 1.39s\tremaining: 1.97s\n",
      "414:\tlearn: 0.1383706\ttotal: 1.39s\tremaining: 1.96s\n",
      "415:\tlearn: 0.1381993\ttotal: 1.4s\tremaining: 1.96s\n",
      "416:\tlearn: 0.1380865\ttotal: 1.4s\tremaining: 1.96s\n",
      "417:\tlearn: 0.1378786\ttotal: 1.4s\tremaining: 1.95s\n",
      "418:\tlearn: 0.1375192\ttotal: 1.4s\tremaining: 1.95s\n",
      "419:\tlearn: 0.1370149\ttotal: 1.41s\tremaining: 1.94s\n",
      "420:\tlearn: 0.1368367\ttotal: 1.41s\tremaining: 1.94s\n",
      "421:\tlearn: 0.1365747\ttotal: 1.41s\tremaining: 1.93s\n",
      "422:\tlearn: 0.1364414\ttotal: 1.41s\tremaining: 1.93s\n",
      "423:\tlearn: 0.1361885\ttotal: 1.41s\tremaining: 1.92s\n",
      "424:\tlearn: 0.1361146\ttotal: 1.42s\tremaining: 1.92s\n",
      "425:\tlearn: 0.1360291\ttotal: 1.42s\tremaining: 1.91s\n",
      "426:\tlearn: 0.1359098\ttotal: 1.42s\tremaining: 1.91s\n",
      "427:\tlearn: 0.1357782\ttotal: 1.42s\tremaining: 1.9s\n",
      "428:\tlearn: 0.1357209\ttotal: 1.43s\tremaining: 1.9s\n",
      "429:\tlearn: 0.1352535\ttotal: 1.43s\tremaining: 1.89s\n",
      "430:\tlearn: 0.1350912\ttotal: 1.43s\tremaining: 1.89s\n",
      "431:\tlearn: 0.1346099\ttotal: 1.43s\tremaining: 1.88s\n",
      "432:\tlearn: 0.1342201\ttotal: 1.43s\tremaining: 1.88s\n",
      "433:\tlearn: 0.1341364\ttotal: 1.44s\tremaining: 1.87s\n",
      "434:\tlearn: 0.1339014\ttotal: 1.44s\tremaining: 1.87s\n",
      "435:\tlearn: 0.1337903\ttotal: 1.44s\tremaining: 1.87s\n",
      "436:\tlearn: 0.1337079\ttotal: 1.45s\tremaining: 1.86s\n",
      "437:\tlearn: 0.1335173\ttotal: 1.45s\tremaining: 1.86s\n",
      "438:\tlearn: 0.1333774\ttotal: 1.45s\tremaining: 1.85s\n",
      "439:\tlearn: 0.1333265\ttotal: 1.45s\tremaining: 1.85s\n",
      "440:\tlearn: 0.1329474\ttotal: 1.46s\tremaining: 1.85s\n",
      "441:\tlearn: 0.1328467\ttotal: 1.46s\tremaining: 1.84s\n",
      "442:\tlearn: 0.1327689\ttotal: 1.46s\tremaining: 1.84s\n",
      "443:\tlearn: 0.1326229\ttotal: 1.47s\tremaining: 1.84s\n",
      "444:\tlearn: 0.1324470\ttotal: 1.47s\tremaining: 1.83s\n",
      "445:\tlearn: 0.1323568\ttotal: 1.47s\tremaining: 1.83s\n",
      "446:\tlearn: 0.1321800\ttotal: 1.48s\tremaining: 1.82s\n",
      "447:\tlearn: 0.1317254\ttotal: 1.48s\tremaining: 1.82s\n",
      "448:\tlearn: 0.1314498\ttotal: 1.48s\tremaining: 1.82s\n",
      "449:\tlearn: 0.1312113\ttotal: 1.48s\tremaining: 1.81s\n",
      "450:\tlearn: 0.1308994\ttotal: 1.49s\tremaining: 1.81s\n",
      "451:\tlearn: 0.1307915\ttotal: 1.49s\tremaining: 1.8s\n",
      "452:\tlearn: 0.1307042\ttotal: 1.49s\tremaining: 1.8s\n",
      "453:\tlearn: 0.1305352\ttotal: 1.5s\tremaining: 1.8s\n",
      "454:\tlearn: 0.1303672\ttotal: 1.5s\tremaining: 1.79s\n",
      "455:\tlearn: 0.1301078\ttotal: 1.5s\tremaining: 1.79s\n",
      "456:\tlearn: 0.1300067\ttotal: 1.5s\tremaining: 1.79s\n",
      "457:\tlearn: 0.1298332\ttotal: 1.51s\tremaining: 1.78s\n",
      "458:\tlearn: 0.1297143\ttotal: 1.51s\tremaining: 1.78s\n",
      "459:\tlearn: 0.1295723\ttotal: 1.51s\tremaining: 1.78s\n",
      "460:\tlearn: 0.1294739\ttotal: 1.52s\tremaining: 1.77s\n",
      "461:\tlearn: 0.1290586\ttotal: 1.52s\tremaining: 1.77s\n",
      "462:\tlearn: 0.1287129\ttotal: 1.52s\tremaining: 1.76s\n",
      "463:\tlearn: 0.1285107\ttotal: 1.52s\tremaining: 1.76s\n",
      "464:\tlearn: 0.1281391\ttotal: 1.53s\tremaining: 1.76s\n",
      "465:\tlearn: 0.1280068\ttotal: 1.53s\tremaining: 1.75s\n",
      "466:\tlearn: 0.1279249\ttotal: 1.53s\tremaining: 1.75s\n",
      "467:\tlearn: 0.1278030\ttotal: 1.54s\tremaining: 1.75s\n",
      "468:\tlearn: 0.1276613\ttotal: 1.54s\tremaining: 1.74s\n",
      "469:\tlearn: 0.1274984\ttotal: 1.54s\tremaining: 1.74s\n",
      "470:\tlearn: 0.1274077\ttotal: 1.54s\tremaining: 1.74s\n",
      "471:\tlearn: 0.1273423\ttotal: 1.55s\tremaining: 1.73s\n",
      "472:\tlearn: 0.1271209\ttotal: 1.55s\tremaining: 1.73s\n",
      "473:\tlearn: 0.1270326\ttotal: 1.55s\tremaining: 1.72s\n",
      "474:\tlearn: 0.1267064\ttotal: 1.55s\tremaining: 1.72s\n",
      "475:\tlearn: 0.1263333\ttotal: 1.56s\tremaining: 1.72s\n",
      "476:\tlearn: 0.1261951\ttotal: 1.56s\tremaining: 1.71s\n",
      "477:\tlearn: 0.1258862\ttotal: 1.56s\tremaining: 1.71s\n",
      "478:\tlearn: 0.1254469\ttotal: 1.57s\tremaining: 1.7s\n",
      "479:\tlearn: 0.1253767\ttotal: 1.57s\tremaining: 1.7s\n",
      "480:\tlearn: 0.1252447\ttotal: 1.57s\tremaining: 1.7s\n",
      "481:\tlearn: 0.1250500\ttotal: 1.58s\tremaining: 1.69s\n",
      "482:\tlearn: 0.1246432\ttotal: 1.58s\tremaining: 1.69s\n",
      "483:\tlearn: 0.1244988\ttotal: 1.58s\tremaining: 1.69s\n",
      "484:\tlearn: 0.1243507\ttotal: 1.58s\tremaining: 1.68s\n",
      "485:\tlearn: 0.1240579\ttotal: 1.59s\tremaining: 1.68s\n",
      "486:\tlearn: 0.1240057\ttotal: 1.59s\tremaining: 1.68s\n",
      "487:\tlearn: 0.1236895\ttotal: 1.59s\tremaining: 1.67s\n",
      "488:\tlearn: 0.1234159\ttotal: 1.6s\tremaining: 1.67s\n",
      "489:\tlearn: 0.1231515\ttotal: 1.6s\tremaining: 1.66s\n",
      "490:\tlearn: 0.1229652\ttotal: 1.6s\tremaining: 1.66s\n",
      "491:\tlearn: 0.1228042\ttotal: 1.6s\tremaining: 1.66s\n",
      "492:\tlearn: 0.1226974\ttotal: 1.61s\tremaining: 1.66s\n",
      "493:\tlearn: 0.1225923\ttotal: 1.61s\tremaining: 1.65s\n",
      "494:\tlearn: 0.1225346\ttotal: 1.62s\tremaining: 1.65s\n",
      "495:\tlearn: 0.1224849\ttotal: 1.62s\tremaining: 1.64s\n",
      "496:\tlearn: 0.1224049\ttotal: 1.62s\tremaining: 1.64s\n",
      "497:\tlearn: 0.1222276\ttotal: 1.62s\tremaining: 1.64s\n",
      "498:\tlearn: 0.1221798\ttotal: 1.63s\tremaining: 1.63s\n",
      "499:\tlearn: 0.1221270\ttotal: 1.63s\tremaining: 1.63s\n",
      "500:\tlearn: 0.1219863\ttotal: 1.64s\tremaining: 1.63s\n",
      "501:\tlearn: 0.1216159\ttotal: 1.64s\tremaining: 1.63s\n",
      "502:\tlearn: 0.1215503\ttotal: 1.64s\tremaining: 1.62s\n",
      "503:\tlearn: 0.1213891\ttotal: 1.64s\tremaining: 1.62s\n",
      "504:\tlearn: 0.1213306\ttotal: 1.65s\tremaining: 1.61s\n",
      "505:\tlearn: 0.1211764\ttotal: 1.65s\tremaining: 1.61s\n",
      "506:\tlearn: 0.1210797\ttotal: 1.65s\tremaining: 1.61s\n",
      "507:\tlearn: 0.1210349\ttotal: 1.66s\tremaining: 1.61s\n",
      "508:\tlearn: 0.1209893\ttotal: 1.66s\tremaining: 1.6s\n",
      "509:\tlearn: 0.1208506\ttotal: 1.66s\tremaining: 1.6s\n",
      "510:\tlearn: 0.1206666\ttotal: 1.67s\tremaining: 1.6s\n",
      "511:\tlearn: 0.1204173\ttotal: 1.67s\tremaining: 1.59s\n",
      "512:\tlearn: 0.1203537\ttotal: 1.67s\tremaining: 1.59s\n",
      "513:\tlearn: 0.1203021\ttotal: 1.68s\tremaining: 1.58s\n",
      "514:\tlearn: 0.1200027\ttotal: 1.68s\tremaining: 1.58s\n",
      "515:\tlearn: 0.1199462\ttotal: 1.69s\tremaining: 1.58s\n",
      "516:\tlearn: 0.1197356\ttotal: 1.69s\tremaining: 1.58s\n",
      "517:\tlearn: 0.1196924\ttotal: 1.69s\tremaining: 1.57s\n",
      "518:\tlearn: 0.1196482\ttotal: 1.69s\tremaining: 1.57s\n",
      "519:\tlearn: 0.1194385\ttotal: 1.7s\tremaining: 1.56s\n",
      "520:\tlearn: 0.1192674\ttotal: 1.7s\tremaining: 1.56s\n",
      "521:\tlearn: 0.1191496\ttotal: 1.7s\tremaining: 1.56s\n",
      "522:\tlearn: 0.1188562\ttotal: 1.7s\tremaining: 1.55s\n",
      "523:\tlearn: 0.1186899\ttotal: 1.71s\tremaining: 1.55s\n",
      "524:\tlearn: 0.1184994\ttotal: 1.71s\tremaining: 1.55s\n",
      "525:\tlearn: 0.1184588\ttotal: 1.71s\tremaining: 1.54s\n",
      "526:\tlearn: 0.1182973\ttotal: 1.72s\tremaining: 1.54s\n",
      "527:\tlearn: 0.1181284\ttotal: 1.72s\tremaining: 1.54s\n",
      "528:\tlearn: 0.1179003\ttotal: 1.72s\tremaining: 1.53s\n",
      "529:\tlearn: 0.1178612\ttotal: 1.73s\tremaining: 1.53s\n",
      "530:\tlearn: 0.1175641\ttotal: 1.73s\tremaining: 1.53s\n",
      "531:\tlearn: 0.1174762\ttotal: 1.73s\tremaining: 1.52s\n",
      "532:\tlearn: 0.1174380\ttotal: 1.74s\tremaining: 1.52s\n",
      "533:\tlearn: 0.1173776\ttotal: 1.74s\tremaining: 1.52s\n",
      "534:\tlearn: 0.1171947\ttotal: 1.74s\tremaining: 1.51s\n",
      "535:\tlearn: 0.1170132\ttotal: 1.75s\tremaining: 1.51s\n",
      "536:\tlearn: 0.1168716\ttotal: 1.75s\tremaining: 1.51s\n",
      "537:\tlearn: 0.1167619\ttotal: 1.75s\tremaining: 1.5s\n",
      "538:\tlearn: 0.1166877\ttotal: 1.75s\tremaining: 1.5s\n",
      "539:\tlearn: 0.1166466\ttotal: 1.76s\tremaining: 1.5s\n",
      "540:\tlearn: 0.1166068\ttotal: 1.76s\tremaining: 1.49s\n",
      "541:\tlearn: 0.1164501\ttotal: 1.76s\tremaining: 1.49s\n",
      "542:\tlearn: 0.1162268\ttotal: 1.77s\tremaining: 1.49s\n",
      "543:\tlearn: 0.1161823\ttotal: 1.77s\tremaining: 1.49s\n",
      "544:\tlearn: 0.1161322\ttotal: 1.77s\tremaining: 1.48s\n",
      "545:\tlearn: 0.1160790\ttotal: 1.78s\tremaining: 1.48s\n",
      "546:\tlearn: 0.1160359\ttotal: 1.78s\tremaining: 1.47s\n",
      "547:\tlearn: 0.1158393\ttotal: 1.78s\tremaining: 1.47s\n",
      "548:\tlearn: 0.1156893\ttotal: 1.79s\tremaining: 1.47s\n",
      "549:\tlearn: 0.1155650\ttotal: 1.79s\tremaining: 1.46s\n",
      "550:\tlearn: 0.1154599\ttotal: 1.79s\tremaining: 1.46s\n",
      "551:\tlearn: 0.1154222\ttotal: 1.8s\tremaining: 1.46s\n",
      "552:\tlearn: 0.1153741\ttotal: 1.8s\tremaining: 1.46s\n",
      "553:\tlearn: 0.1152886\ttotal: 1.8s\tremaining: 1.45s\n",
      "554:\tlearn: 0.1149827\ttotal: 1.81s\tremaining: 1.45s\n"
     ]
    },
    {
     "name": "stdout",
     "output_type": "stream",
     "text": [
      "555:\tlearn: 0.1148496\ttotal: 1.81s\tremaining: 1.45s\n",
      "556:\tlearn: 0.1146951\ttotal: 1.81s\tremaining: 1.44s\n",
      "557:\tlearn: 0.1146546\ttotal: 1.82s\tremaining: 1.44s\n",
      "558:\tlearn: 0.1145547\ttotal: 1.82s\tremaining: 1.44s\n",
      "559:\tlearn: 0.1144572\ttotal: 1.82s\tremaining: 1.43s\n",
      "560:\tlearn: 0.1144076\ttotal: 1.83s\tremaining: 1.43s\n",
      "561:\tlearn: 0.1142611\ttotal: 1.83s\tremaining: 1.43s\n",
      "562:\tlearn: 0.1141297\ttotal: 1.83s\tremaining: 1.42s\n",
      "563:\tlearn: 0.1140538\ttotal: 1.84s\tremaining: 1.42s\n",
      "564:\tlearn: 0.1139450\ttotal: 1.84s\tremaining: 1.42s\n",
      "565:\tlearn: 0.1138057\ttotal: 1.84s\tremaining: 1.41s\n",
      "566:\tlearn: 0.1136860\ttotal: 1.84s\tremaining: 1.41s\n",
      "567:\tlearn: 0.1134895\ttotal: 1.85s\tremaining: 1.41s\n",
      "568:\tlearn: 0.1134226\ttotal: 1.85s\tremaining: 1.41s\n",
      "569:\tlearn: 0.1133784\ttotal: 1.86s\tremaining: 1.4s\n",
      "570:\tlearn: 0.1133400\ttotal: 1.86s\tremaining: 1.4s\n",
      "571:\tlearn: 0.1133043\ttotal: 1.86s\tremaining: 1.4s\n",
      "572:\tlearn: 0.1132295\ttotal: 1.87s\tremaining: 1.39s\n",
      "573:\tlearn: 0.1131924\ttotal: 1.87s\tremaining: 1.39s\n",
      "574:\tlearn: 0.1129675\ttotal: 1.87s\tremaining: 1.39s\n",
      "575:\tlearn: 0.1126757\ttotal: 1.88s\tremaining: 1.38s\n",
      "576:\tlearn: 0.1126410\ttotal: 1.88s\tremaining: 1.38s\n",
      "577:\tlearn: 0.1124997\ttotal: 1.89s\tremaining: 1.38s\n",
      "578:\tlearn: 0.1123856\ttotal: 1.89s\tremaining: 1.37s\n",
      "579:\tlearn: 0.1123439\ttotal: 1.89s\tremaining: 1.37s\n",
      "580:\tlearn: 0.1121035\ttotal: 1.89s\tremaining: 1.37s\n",
      "581:\tlearn: 0.1119694\ttotal: 1.9s\tremaining: 1.36s\n",
      "582:\tlearn: 0.1118185\ttotal: 1.9s\tremaining: 1.36s\n",
      "583:\tlearn: 0.1117725\ttotal: 1.9s\tremaining: 1.35s\n",
      "584:\tlearn: 0.1115305\ttotal: 1.91s\tremaining: 1.35s\n",
      "585:\tlearn: 0.1113565\ttotal: 1.91s\tremaining: 1.35s\n",
      "586:\tlearn: 0.1111629\ttotal: 1.91s\tremaining: 1.34s\n",
      "587:\tlearn: 0.1111271\ttotal: 1.91s\tremaining: 1.34s\n",
      "588:\tlearn: 0.1108643\ttotal: 1.91s\tremaining: 1.33s\n",
      "589:\tlearn: 0.1107317\ttotal: 1.92s\tremaining: 1.33s\n",
      "590:\tlearn: 0.1106885\ttotal: 1.92s\tremaining: 1.33s\n",
      "591:\tlearn: 0.1105795\ttotal: 1.92s\tremaining: 1.32s\n",
      "592:\tlearn: 0.1105451\ttotal: 1.92s\tremaining: 1.32s\n",
      "593:\tlearn: 0.1103980\ttotal: 1.93s\tremaining: 1.32s\n",
      "594:\tlearn: 0.1103546\ttotal: 1.93s\tremaining: 1.31s\n",
      "595:\tlearn: 0.1101071\ttotal: 1.93s\tremaining: 1.31s\n",
      "596:\tlearn: 0.1100362\ttotal: 1.93s\tremaining: 1.31s\n",
      "597:\tlearn: 0.1096769\ttotal: 1.94s\tremaining: 1.3s\n",
      "598:\tlearn: 0.1096366\ttotal: 1.94s\tremaining: 1.3s\n",
      "599:\tlearn: 0.1095958\ttotal: 1.94s\tremaining: 1.29s\n",
      "600:\tlearn: 0.1095629\ttotal: 1.94s\tremaining: 1.29s\n",
      "601:\tlearn: 0.1094574\ttotal: 1.95s\tremaining: 1.29s\n",
      "602:\tlearn: 0.1092689\ttotal: 1.95s\tremaining: 1.28s\n",
      "603:\tlearn: 0.1091910\ttotal: 1.95s\tremaining: 1.28s\n",
      "604:\tlearn: 0.1091479\ttotal: 1.95s\tremaining: 1.27s\n",
      "605:\tlearn: 0.1090515\ttotal: 1.95s\tremaining: 1.27s\n",
      "606:\tlearn: 0.1089795\ttotal: 1.96s\tremaining: 1.27s\n",
      "607:\tlearn: 0.1086803\ttotal: 1.96s\tremaining: 1.26s\n",
      "608:\tlearn: 0.1086368\ttotal: 1.96s\tremaining: 1.26s\n",
      "609:\tlearn: 0.1085492\ttotal: 1.96s\tremaining: 1.25s\n",
      "610:\tlearn: 0.1085027\ttotal: 1.97s\tremaining: 1.25s\n",
      "611:\tlearn: 0.1084716\ttotal: 1.97s\tremaining: 1.25s\n",
      "612:\tlearn: 0.1083690\ttotal: 1.97s\tremaining: 1.24s\n",
      "613:\tlearn: 0.1082271\ttotal: 1.97s\tremaining: 1.24s\n",
      "614:\tlearn: 0.1081055\ttotal: 1.98s\tremaining: 1.24s\n",
      "615:\tlearn: 0.1079908\ttotal: 1.98s\tremaining: 1.23s\n",
      "616:\tlearn: 0.1079406\ttotal: 1.98s\tremaining: 1.23s\n",
      "617:\tlearn: 0.1077817\ttotal: 1.98s\tremaining: 1.23s\n",
      "618:\tlearn: 0.1077135\ttotal: 1.98s\tremaining: 1.22s\n",
      "619:\tlearn: 0.1075424\ttotal: 1.99s\tremaining: 1.22s\n",
      "620:\tlearn: 0.1074234\ttotal: 1.99s\tremaining: 1.21s\n",
      "621:\tlearn: 0.1073031\ttotal: 1.99s\tremaining: 1.21s\n",
      "622:\tlearn: 0.1072040\ttotal: 1.99s\tremaining: 1.21s\n",
      "623:\tlearn: 0.1071610\ttotal: 2s\tremaining: 1.2s\n",
      "624:\tlearn: 0.1071238\ttotal: 2s\tremaining: 1.2s\n",
      "625:\tlearn: 0.1070257\ttotal: 2s\tremaining: 1.2s\n",
      "626:\tlearn: 0.1068234\ttotal: 2.01s\tremaining: 1.19s\n",
      "627:\tlearn: 0.1065752\ttotal: 2.01s\tremaining: 1.19s\n",
      "628:\tlearn: 0.1065160\ttotal: 2.01s\tremaining: 1.19s\n",
      "629:\tlearn: 0.1064124\ttotal: 2.01s\tremaining: 1.18s\n",
      "630:\tlearn: 0.1063751\ttotal: 2.02s\tremaining: 1.18s\n",
      "631:\tlearn: 0.1063085\ttotal: 2.02s\tremaining: 1.18s\n",
      "632:\tlearn: 0.1060758\ttotal: 2.02s\tremaining: 1.17s\n",
      "633:\tlearn: 0.1059327\ttotal: 2.02s\tremaining: 1.17s\n",
      "634:\tlearn: 0.1058697\ttotal: 2.02s\tremaining: 1.16s\n",
      "635:\tlearn: 0.1058225\ttotal: 2.03s\tremaining: 1.16s\n",
      "636:\tlearn: 0.1057282\ttotal: 2.03s\tremaining: 1.16s\n",
      "637:\tlearn: 0.1055354\ttotal: 2.03s\tremaining: 1.15s\n",
      "638:\tlearn: 0.1054997\ttotal: 2.04s\tremaining: 1.15s\n",
      "639:\tlearn: 0.1054701\ttotal: 2.04s\tremaining: 1.15s\n",
      "640:\tlearn: 0.1053359\ttotal: 2.04s\tremaining: 1.14s\n",
      "641:\tlearn: 0.1051088\ttotal: 2.04s\tremaining: 1.14s\n",
      "642:\tlearn: 0.1050798\ttotal: 2.04s\tremaining: 1.14s\n",
      "643:\tlearn: 0.1050412\ttotal: 2.05s\tremaining: 1.13s\n",
      "644:\tlearn: 0.1047613\ttotal: 2.05s\tremaining: 1.13s\n",
      "645:\tlearn: 0.1044799\ttotal: 2.05s\tremaining: 1.12s\n",
      "646:\tlearn: 0.1042500\ttotal: 2.06s\tremaining: 1.12s\n",
      "647:\tlearn: 0.1041967\ttotal: 2.06s\tremaining: 1.12s\n",
      "648:\tlearn: 0.1041653\ttotal: 2.06s\tremaining: 1.11s\n",
      "649:\tlearn: 0.1041059\ttotal: 2.07s\tremaining: 1.11s\n",
      "650:\tlearn: 0.1040773\ttotal: 2.07s\tremaining: 1.11s\n",
      "651:\tlearn: 0.1039866\ttotal: 2.07s\tremaining: 1.1s\n",
      "652:\tlearn: 0.1038775\ttotal: 2.08s\tremaining: 1.1s\n",
      "653:\tlearn: 0.1036062\ttotal: 2.08s\tremaining: 1.1s\n",
      "654:\tlearn: 0.1034908\ttotal: 2.08s\tremaining: 1.09s\n",
      "655:\tlearn: 0.1034312\ttotal: 2.08s\tremaining: 1.09s\n",
      "656:\tlearn: 0.1033758\ttotal: 2.08s\tremaining: 1.09s\n",
      "657:\tlearn: 0.1032707\ttotal: 2.09s\tremaining: 1.08s\n",
      "658:\tlearn: 0.1032397\ttotal: 2.09s\tremaining: 1.08s\n",
      "659:\tlearn: 0.1032022\ttotal: 2.09s\tremaining: 1.08s\n",
      "660:\tlearn: 0.1031740\ttotal: 2.1s\tremaining: 1.07s\n",
      "661:\tlearn: 0.1030078\ttotal: 2.1s\tremaining: 1.07s\n",
      "662:\tlearn: 0.1028970\ttotal: 2.1s\tremaining: 1.07s\n",
      "663:\tlearn: 0.1028678\ttotal: 2.1s\tremaining: 1.06s\n",
      "664:\tlearn: 0.1027030\ttotal: 2.1s\tremaining: 1.06s\n",
      "665:\tlearn: 0.1026548\ttotal: 2.11s\tremaining: 1.06s\n",
      "666:\tlearn: 0.1026289\ttotal: 2.11s\tremaining: 1.05s\n",
      "667:\tlearn: 0.1023675\ttotal: 2.11s\tremaining: 1.05s\n",
      "668:\tlearn: 0.1021158\ttotal: 2.11s\tremaining: 1.05s\n",
      "669:\tlearn: 0.1020860\ttotal: 2.12s\tremaining: 1.04s\n",
      "670:\tlearn: 0.1019711\ttotal: 2.12s\tremaining: 1.04s\n",
      "671:\tlearn: 0.1019566\ttotal: 2.12s\tremaining: 1.04s\n",
      "672:\tlearn: 0.1018271\ttotal: 2.13s\tremaining: 1.03s\n",
      "673:\tlearn: 0.1017321\ttotal: 2.13s\tremaining: 1.03s\n",
      "674:\tlearn: 0.1016585\ttotal: 2.13s\tremaining: 1.03s\n",
      "675:\tlearn: 0.1016363\ttotal: 2.13s\tremaining: 1.02s\n",
      "676:\tlearn: 0.1015362\ttotal: 2.14s\tremaining: 1.02s\n",
      "677:\tlearn: 0.1014621\ttotal: 2.14s\tremaining: 1.02s\n",
      "678:\tlearn: 0.1013243\ttotal: 2.14s\tremaining: 1.01s\n",
      "679:\tlearn: 0.1010781\ttotal: 2.15s\tremaining: 1.01s\n",
      "680:\tlearn: 0.1008411\ttotal: 2.15s\tremaining: 1.01s\n",
      "681:\tlearn: 0.1007097\ttotal: 2.15s\tremaining: 1s\n",
      "682:\tlearn: 0.1005832\ttotal: 2.15s\tremaining: 1000ms\n",
      "683:\tlearn: 0.1004784\ttotal: 2.16s\tremaining: 996ms\n",
      "684:\tlearn: 0.1003601\ttotal: 2.16s\tremaining: 993ms\n",
      "685:\tlearn: 0.1002592\ttotal: 2.16s\tremaining: 989ms\n",
      "686:\tlearn: 0.1000442\ttotal: 2.16s\tremaining: 986ms\n",
      "687:\tlearn: 0.1000148\ttotal: 2.17s\tremaining: 982ms\n",
      "688:\tlearn: 0.0998459\ttotal: 2.17s\tremaining: 979ms\n",
      "689:\tlearn: 0.0997883\ttotal: 2.17s\tremaining: 976ms\n",
      "690:\tlearn: 0.0997531\ttotal: 2.17s\tremaining: 973ms\n",
      "691:\tlearn: 0.0997211\ttotal: 2.18s\tremaining: 970ms\n",
      "692:\tlearn: 0.0995991\ttotal: 2.18s\tremaining: 967ms\n",
      "693:\tlearn: 0.0992198\ttotal: 2.19s\tremaining: 964ms\n",
      "694:\tlearn: 0.0991737\ttotal: 2.19s\tremaining: 961ms\n",
      "695:\tlearn: 0.0990401\ttotal: 2.19s\tremaining: 958ms\n",
      "696:\tlearn: 0.0990012\ttotal: 2.19s\tremaining: 954ms\n",
      "697:\tlearn: 0.0988270\ttotal: 2.2s\tremaining: 951ms\n",
      "698:\tlearn: 0.0987089\ttotal: 2.2s\tremaining: 948ms\n",
      "699:\tlearn: 0.0985128\ttotal: 2.21s\tremaining: 946ms\n",
      "700:\tlearn: 0.0984645\ttotal: 2.21s\tremaining: 942ms\n",
      "701:\tlearn: 0.0984417\ttotal: 2.21s\tremaining: 939ms\n",
      "702:\tlearn: 0.0984087\ttotal: 2.21s\tremaining: 936ms\n",
      "703:\tlearn: 0.0983904\ttotal: 2.22s\tremaining: 932ms\n",
      "704:\tlearn: 0.0982235\ttotal: 2.22s\tremaining: 929ms\n",
      "705:\tlearn: 0.0980365\ttotal: 2.22s\tremaining: 925ms\n",
      "706:\tlearn: 0.0980189\ttotal: 2.22s\tremaining: 922ms\n",
      "707:\tlearn: 0.0978597\ttotal: 2.23s\tremaining: 919ms\n",
      "708:\tlearn: 0.0977940\ttotal: 2.23s\tremaining: 915ms\n",
      "709:\tlearn: 0.0976750\ttotal: 2.23s\tremaining: 913ms\n",
      "710:\tlearn: 0.0975461\ttotal: 2.24s\tremaining: 909ms\n",
      "711:\tlearn: 0.0974949\ttotal: 2.24s\tremaining: 906ms\n",
      "712:\tlearn: 0.0973764\ttotal: 2.24s\tremaining: 903ms\n",
      "713:\tlearn: 0.0972450\ttotal: 2.24s\tremaining: 899ms\n",
      "714:\tlearn: 0.0971842\ttotal: 2.25s\tremaining: 896ms\n",
      "715:\tlearn: 0.0970580\ttotal: 2.25s\tremaining: 893ms\n",
      "716:\tlearn: 0.0968165\ttotal: 2.25s\tremaining: 890ms\n",
      "717:\tlearn: 0.0967095\ttotal: 2.26s\tremaining: 887ms\n",
      "718:\tlearn: 0.0966455\ttotal: 2.26s\tremaining: 884ms\n",
      "719:\tlearn: 0.0965509\ttotal: 2.26s\tremaining: 881ms\n",
      "720:\tlearn: 0.0964382\ttotal: 2.27s\tremaining: 877ms\n",
      "721:\tlearn: 0.0962645\ttotal: 2.27s\tremaining: 874ms\n",
      "722:\tlearn: 0.0962306\ttotal: 2.27s\tremaining: 871ms\n",
      "723:\tlearn: 0.0961460\ttotal: 2.28s\tremaining: 868ms\n",
      "724:\tlearn: 0.0960659\ttotal: 2.28s\tremaining: 865ms\n",
      "725:\tlearn: 0.0959577\ttotal: 2.28s\tremaining: 862ms\n"
     ]
    },
    {
     "name": "stdout",
     "output_type": "stream",
     "text": [
      "726:\tlearn: 0.0957927\ttotal: 2.29s\tremaining: 859ms\n",
      "727:\tlearn: 0.0956631\ttotal: 2.29s\tremaining: 855ms\n",
      "728:\tlearn: 0.0956048\ttotal: 2.29s\tremaining: 853ms\n",
      "729:\tlearn: 0.0955156\ttotal: 2.3s\tremaining: 850ms\n",
      "730:\tlearn: 0.0954127\ttotal: 2.3s\tremaining: 846ms\n",
      "731:\tlearn: 0.0953492\ttotal: 2.3s\tremaining: 843ms\n",
      "732:\tlearn: 0.0953230\ttotal: 2.31s\tremaining: 840ms\n",
      "733:\tlearn: 0.0952253\ttotal: 2.31s\tremaining: 837ms\n",
      "734:\tlearn: 0.0949717\ttotal: 2.31s\tremaining: 834ms\n",
      "735:\tlearn: 0.0947380\ttotal: 2.32s\tremaining: 831ms\n",
      "736:\tlearn: 0.0946711\ttotal: 2.32s\tremaining: 828ms\n",
      "737:\tlearn: 0.0946031\ttotal: 2.32s\tremaining: 825ms\n",
      "738:\tlearn: 0.0945555\ttotal: 2.33s\tremaining: 821ms\n",
      "739:\tlearn: 0.0944883\ttotal: 2.33s\tremaining: 818ms\n",
      "740:\tlearn: 0.0944309\ttotal: 2.33s\tremaining: 815ms\n",
      "741:\tlearn: 0.0941719\ttotal: 2.33s\tremaining: 812ms\n",
      "742:\tlearn: 0.0940685\ttotal: 2.34s\tremaining: 808ms\n",
      "743:\tlearn: 0.0938905\ttotal: 2.34s\tremaining: 805ms\n",
      "744:\tlearn: 0.0936683\ttotal: 2.34s\tremaining: 802ms\n",
      "745:\tlearn: 0.0935950\ttotal: 2.35s\tremaining: 799ms\n",
      "746:\tlearn: 0.0934883\ttotal: 2.35s\tremaining: 795ms\n",
      "747:\tlearn: 0.0931764\ttotal: 2.35s\tremaining: 792ms\n",
      "748:\tlearn: 0.0931141\ttotal: 2.35s\tremaining: 788ms\n",
      "749:\tlearn: 0.0928129\ttotal: 2.35s\tremaining: 785ms\n",
      "750:\tlearn: 0.0926079\ttotal: 2.36s\tremaining: 782ms\n",
      "751:\tlearn: 0.0924757\ttotal: 2.36s\tremaining: 778ms\n",
      "752:\tlearn: 0.0923866\ttotal: 2.36s\tremaining: 775ms\n",
      "753:\tlearn: 0.0923042\ttotal: 2.36s\tremaining: 771ms\n",
      "754:\tlearn: 0.0921095\ttotal: 2.37s\tremaining: 768ms\n",
      "755:\tlearn: 0.0919976\ttotal: 2.37s\tremaining: 765ms\n",
      "756:\tlearn: 0.0919435\ttotal: 2.37s\tremaining: 762ms\n",
      "757:\tlearn: 0.0918042\ttotal: 2.37s\tremaining: 758ms\n",
      "758:\tlearn: 0.0917736\ttotal: 2.38s\tremaining: 755ms\n",
      "759:\tlearn: 0.0915600\ttotal: 2.38s\tremaining: 751ms\n",
      "760:\tlearn: 0.0912779\ttotal: 2.38s\tremaining: 748ms\n",
      "761:\tlearn: 0.0910527\ttotal: 2.38s\tremaining: 745ms\n",
      "762:\tlearn: 0.0909658\ttotal: 2.39s\tremaining: 741ms\n",
      "763:\tlearn: 0.0908592\ttotal: 2.39s\tremaining: 738ms\n",
      "764:\tlearn: 0.0907487\ttotal: 2.39s\tremaining: 735ms\n",
      "765:\tlearn: 0.0906875\ttotal: 2.39s\tremaining: 731ms\n",
      "766:\tlearn: 0.0904895\ttotal: 2.4s\tremaining: 728ms\n",
      "767:\tlearn: 0.0904611\ttotal: 2.4s\tremaining: 725ms\n",
      "768:\tlearn: 0.0902705\ttotal: 2.4s\tremaining: 723ms\n",
      "769:\tlearn: 0.0901665\ttotal: 2.41s\tremaining: 719ms\n",
      "770:\tlearn: 0.0899851\ttotal: 2.41s\tremaining: 716ms\n",
      "771:\tlearn: 0.0897676\ttotal: 2.41s\tremaining: 713ms\n",
      "772:\tlearn: 0.0896192\ttotal: 2.42s\tremaining: 709ms\n",
      "773:\tlearn: 0.0895240\ttotal: 2.42s\tremaining: 706ms\n",
      "774:\tlearn: 0.0894205\ttotal: 2.42s\tremaining: 702ms\n",
      "775:\tlearn: 0.0893371\ttotal: 2.42s\tremaining: 699ms\n",
      "776:\tlearn: 0.0892617\ttotal: 2.42s\tremaining: 696ms\n",
      "777:\tlearn: 0.0892078\ttotal: 2.43s\tremaining: 693ms\n",
      "778:\tlearn: 0.0889961\ttotal: 2.43s\tremaining: 690ms\n",
      "779:\tlearn: 0.0888696\ttotal: 2.44s\tremaining: 687ms\n",
      "780:\tlearn: 0.0887108\ttotal: 2.44s\tremaining: 683ms\n",
      "781:\tlearn: 0.0886797\ttotal: 2.44s\tremaining: 680ms\n",
      "782:\tlearn: 0.0886488\ttotal: 2.44s\tremaining: 677ms\n",
      "783:\tlearn: 0.0885663\ttotal: 2.44s\tremaining: 674ms\n",
      "784:\tlearn: 0.0885403\ttotal: 2.45s\tremaining: 671ms\n",
      "785:\tlearn: 0.0883305\ttotal: 2.45s\tremaining: 668ms\n",
      "786:\tlearn: 0.0880698\ttotal: 2.45s\tremaining: 664ms\n",
      "787:\tlearn: 0.0879792\ttotal: 2.46s\tremaining: 661ms\n",
      "788:\tlearn: 0.0879251\ttotal: 2.46s\tremaining: 658ms\n",
      "789:\tlearn: 0.0878381\ttotal: 2.46s\tremaining: 655ms\n",
      "790:\tlearn: 0.0877627\ttotal: 2.46s\tremaining: 651ms\n",
      "791:\tlearn: 0.0876722\ttotal: 2.47s\tremaining: 648ms\n",
      "792:\tlearn: 0.0875703\ttotal: 2.47s\tremaining: 645ms\n",
      "793:\tlearn: 0.0873192\ttotal: 2.47s\tremaining: 642ms\n",
      "794:\tlearn: 0.0872719\ttotal: 2.48s\tremaining: 638ms\n",
      "795:\tlearn: 0.0870598\ttotal: 2.48s\tremaining: 635ms\n",
      "796:\tlearn: 0.0869720\ttotal: 2.48s\tremaining: 632ms\n",
      "797:\tlearn: 0.0869138\ttotal: 2.48s\tremaining: 629ms\n",
      "798:\tlearn: 0.0868300\ttotal: 2.49s\tremaining: 626ms\n",
      "799:\tlearn: 0.0867348\ttotal: 2.49s\tremaining: 622ms\n",
      "800:\tlearn: 0.0866802\ttotal: 2.49s\tremaining: 619ms\n",
      "801:\tlearn: 0.0866130\ttotal: 2.5s\tremaining: 617ms\n",
      "802:\tlearn: 0.0865065\ttotal: 2.5s\tremaining: 613ms\n",
      "803:\tlearn: 0.0864559\ttotal: 2.5s\tremaining: 610ms\n",
      "804:\tlearn: 0.0864321\ttotal: 2.5s\tremaining: 607ms\n",
      "805:\tlearn: 0.0863613\ttotal: 2.51s\tremaining: 604ms\n",
      "806:\tlearn: 0.0862960\ttotal: 2.51s\tremaining: 600ms\n",
      "807:\tlearn: 0.0862433\ttotal: 2.51s\tremaining: 597ms\n",
      "808:\tlearn: 0.0862289\ttotal: 2.52s\tremaining: 594ms\n",
      "809:\tlearn: 0.0861287\ttotal: 2.52s\tremaining: 591ms\n",
      "810:\tlearn: 0.0860796\ttotal: 2.52s\tremaining: 588ms\n",
      "811:\tlearn: 0.0860458\ttotal: 2.53s\tremaining: 585ms\n",
      "812:\tlearn: 0.0859979\ttotal: 2.53s\tremaining: 582ms\n",
      "813:\tlearn: 0.0859145\ttotal: 2.53s\tremaining: 579ms\n",
      "814:\tlearn: 0.0858132\ttotal: 2.54s\tremaining: 576ms\n",
      "815:\tlearn: 0.0857919\ttotal: 2.54s\tremaining: 573ms\n",
      "816:\tlearn: 0.0857088\ttotal: 2.55s\tremaining: 571ms\n",
      "817:\tlearn: 0.0855415\ttotal: 2.55s\tremaining: 567ms\n",
      "818:\tlearn: 0.0853299\ttotal: 2.56s\tremaining: 565ms\n",
      "819:\tlearn: 0.0852347\ttotal: 2.56s\tremaining: 562ms\n",
      "820:\tlearn: 0.0850645\ttotal: 2.56s\tremaining: 558ms\n",
      "821:\tlearn: 0.0849682\ttotal: 2.56s\tremaining: 555ms\n",
      "822:\tlearn: 0.0848748\ttotal: 2.57s\tremaining: 552ms\n",
      "823:\tlearn: 0.0847354\ttotal: 2.57s\tremaining: 549ms\n",
      "824:\tlearn: 0.0846898\ttotal: 2.57s\tremaining: 546ms\n",
      "825:\tlearn: 0.0846736\ttotal: 2.58s\tremaining: 543ms\n",
      "826:\tlearn: 0.0845858\ttotal: 2.58s\tremaining: 540ms\n",
      "827:\tlearn: 0.0844955\ttotal: 2.58s\tremaining: 537ms\n",
      "828:\tlearn: 0.0844115\ttotal: 2.59s\tremaining: 534ms\n",
      "829:\tlearn: 0.0842884\ttotal: 2.59s\tremaining: 531ms\n",
      "830:\tlearn: 0.0842390\ttotal: 2.59s\tremaining: 527ms\n",
      "831:\tlearn: 0.0841545\ttotal: 2.6s\tremaining: 524ms\n",
      "832:\tlearn: 0.0841078\ttotal: 2.6s\tremaining: 521ms\n",
      "833:\tlearn: 0.0840281\ttotal: 2.6s\tremaining: 518ms\n",
      "834:\tlearn: 0.0839804\ttotal: 2.6s\tremaining: 515ms\n",
      "835:\tlearn: 0.0839080\ttotal: 2.61s\tremaining: 512ms\n",
      "836:\tlearn: 0.0838480\ttotal: 2.61s\tremaining: 509ms\n",
      "837:\tlearn: 0.0836766\ttotal: 2.61s\tremaining: 505ms\n",
      "838:\tlearn: 0.0836462\ttotal: 2.62s\tremaining: 502ms\n",
      "839:\tlearn: 0.0834964\ttotal: 2.62s\tremaining: 499ms\n",
      "840:\tlearn: 0.0834055\ttotal: 2.62s\tremaining: 496ms\n",
      "841:\tlearn: 0.0833468\ttotal: 2.63s\tremaining: 493ms\n",
      "842:\tlearn: 0.0832782\ttotal: 2.63s\tremaining: 489ms\n",
      "843:\tlearn: 0.0832534\ttotal: 2.63s\tremaining: 486ms\n",
      "844:\tlearn: 0.0831819\ttotal: 2.63s\tremaining: 483ms\n",
      "845:\tlearn: 0.0830997\ttotal: 2.63s\tremaining: 480ms\n",
      "846:\tlearn: 0.0830101\ttotal: 2.64s\tremaining: 477ms\n",
      "847:\tlearn: 0.0829827\ttotal: 2.64s\tremaining: 474ms\n",
      "848:\tlearn: 0.0828961\ttotal: 2.65s\tremaining: 471ms\n",
      "849:\tlearn: 0.0826991\ttotal: 2.65s\tremaining: 468ms\n",
      "850:\tlearn: 0.0826062\ttotal: 2.65s\tremaining: 465ms\n",
      "851:\tlearn: 0.0825335\ttotal: 2.65s\tremaining: 461ms\n",
      "852:\tlearn: 0.0824921\ttotal: 2.66s\tremaining: 458ms\n",
      "853:\tlearn: 0.0824394\ttotal: 2.66s\tremaining: 455ms\n",
      "854:\tlearn: 0.0823442\ttotal: 2.66s\tremaining: 452ms\n",
      "855:\tlearn: 0.0822754\ttotal: 2.67s\tremaining: 449ms\n",
      "856:\tlearn: 0.0822002\ttotal: 2.67s\tremaining: 446ms\n",
      "857:\tlearn: 0.0821175\ttotal: 2.67s\tremaining: 443ms\n",
      "858:\tlearn: 0.0820810\ttotal: 2.68s\tremaining: 439ms\n",
      "859:\tlearn: 0.0819029\ttotal: 2.68s\tremaining: 436ms\n",
      "860:\tlearn: 0.0818426\ttotal: 2.68s\tremaining: 433ms\n",
      "861:\tlearn: 0.0817538\ttotal: 2.69s\tremaining: 430ms\n",
      "862:\tlearn: 0.0817319\ttotal: 2.69s\tremaining: 427ms\n",
      "863:\tlearn: 0.0816810\ttotal: 2.69s\tremaining: 424ms\n",
      "864:\tlearn: 0.0816393\ttotal: 2.69s\tremaining: 421ms\n",
      "865:\tlearn: 0.0816143\ttotal: 2.7s\tremaining: 417ms\n",
      "866:\tlearn: 0.0815423\ttotal: 2.7s\tremaining: 414ms\n",
      "867:\tlearn: 0.0814634\ttotal: 2.7s\tremaining: 411ms\n",
      "868:\tlearn: 0.0814420\ttotal: 2.7s\tremaining: 408ms\n",
      "869:\tlearn: 0.0812330\ttotal: 2.71s\tremaining: 405ms\n",
      "870:\tlearn: 0.0811466\ttotal: 2.71s\tremaining: 402ms\n",
      "871:\tlearn: 0.0809860\ttotal: 2.71s\tremaining: 398ms\n",
      "872:\tlearn: 0.0809639\ttotal: 2.72s\tremaining: 395ms\n",
      "873:\tlearn: 0.0809378\ttotal: 2.72s\tremaining: 392ms\n",
      "874:\tlearn: 0.0808861\ttotal: 2.72s\tremaining: 389ms\n",
      "875:\tlearn: 0.0808424\ttotal: 2.73s\tremaining: 386ms\n",
      "876:\tlearn: 0.0807805\ttotal: 2.73s\tremaining: 383ms\n",
      "877:\tlearn: 0.0806368\ttotal: 2.73s\tremaining: 379ms\n",
      "878:\tlearn: 0.0805481\ttotal: 2.73s\tremaining: 376ms\n",
      "879:\tlearn: 0.0805156\ttotal: 2.74s\tremaining: 373ms\n",
      "880:\tlearn: 0.0804522\ttotal: 2.74s\tremaining: 370ms\n",
      "881:\tlearn: 0.0804327\ttotal: 2.74s\tremaining: 367ms\n",
      "882:\tlearn: 0.0803807\ttotal: 2.74s\tremaining: 364ms\n",
      "883:\tlearn: 0.0803072\ttotal: 2.75s\tremaining: 361ms\n",
      "884:\tlearn: 0.0801458\ttotal: 2.75s\tremaining: 357ms\n",
      "885:\tlearn: 0.0801225\ttotal: 2.75s\tremaining: 354ms\n",
      "886:\tlearn: 0.0799672\ttotal: 2.76s\tremaining: 351ms\n",
      "887:\tlearn: 0.0798844\ttotal: 2.76s\tremaining: 348ms\n"
     ]
    },
    {
     "name": "stdout",
     "output_type": "stream",
     "text": [
      "888:\tlearn: 0.0798423\ttotal: 2.77s\tremaining: 345ms\n",
      "889:\tlearn: 0.0798017\ttotal: 2.77s\tremaining: 342ms\n",
      "890:\tlearn: 0.0796728\ttotal: 2.77s\tremaining: 339ms\n",
      "891:\tlearn: 0.0796396\ttotal: 2.77s\tremaining: 336ms\n",
      "892:\tlearn: 0.0795483\ttotal: 2.78s\tremaining: 334ms\n",
      "893:\tlearn: 0.0794296\ttotal: 2.79s\tremaining: 330ms\n",
      "894:\tlearn: 0.0792715\ttotal: 2.79s\tremaining: 327ms\n",
      "895:\tlearn: 0.0791367\ttotal: 2.79s\tremaining: 324ms\n",
      "896:\tlearn: 0.0789993\ttotal: 2.8s\tremaining: 321ms\n",
      "897:\tlearn: 0.0788679\ttotal: 2.8s\tremaining: 318ms\n",
      "898:\tlearn: 0.0788381\ttotal: 2.81s\tremaining: 315ms\n",
      "899:\tlearn: 0.0786834\ttotal: 2.81s\tremaining: 312ms\n",
      "900:\tlearn: 0.0785345\ttotal: 2.81s\tremaining: 309ms\n",
      "901:\tlearn: 0.0785155\ttotal: 2.81s\tremaining: 306ms\n",
      "902:\tlearn: 0.0784439\ttotal: 2.82s\tremaining: 303ms\n",
      "903:\tlearn: 0.0784047\ttotal: 2.82s\tremaining: 300ms\n",
      "904:\tlearn: 0.0783607\ttotal: 2.82s\tremaining: 297ms\n",
      "905:\tlearn: 0.0783208\ttotal: 2.83s\tremaining: 293ms\n",
      "906:\tlearn: 0.0782894\ttotal: 2.83s\tremaining: 290ms\n",
      "907:\tlearn: 0.0781248\ttotal: 2.83s\tremaining: 287ms\n",
      "908:\tlearn: 0.0779826\ttotal: 2.83s\tremaining: 284ms\n",
      "909:\tlearn: 0.0778965\ttotal: 2.84s\tremaining: 281ms\n",
      "910:\tlearn: 0.0777667\ttotal: 2.84s\tremaining: 277ms\n",
      "911:\tlearn: 0.0776381\ttotal: 2.84s\tremaining: 274ms\n",
      "912:\tlearn: 0.0775611\ttotal: 2.84s\tremaining: 271ms\n",
      "913:\tlearn: 0.0774852\ttotal: 2.85s\tremaining: 268ms\n",
      "914:\tlearn: 0.0774240\ttotal: 2.85s\tremaining: 265ms\n",
      "915:\tlearn: 0.0772616\ttotal: 2.85s\tremaining: 262ms\n",
      "916:\tlearn: 0.0771541\ttotal: 2.85s\tremaining: 258ms\n",
      "917:\tlearn: 0.0770655\ttotal: 2.86s\tremaining: 255ms\n",
      "918:\tlearn: 0.0770291\ttotal: 2.86s\tremaining: 252ms\n",
      "919:\tlearn: 0.0769919\ttotal: 2.86s\tremaining: 249ms\n",
      "920:\tlearn: 0.0769314\ttotal: 2.86s\tremaining: 246ms\n",
      "921:\tlearn: 0.0768601\ttotal: 2.87s\tremaining: 242ms\n",
      "922:\tlearn: 0.0768328\ttotal: 2.87s\tremaining: 239ms\n",
      "923:\tlearn: 0.0768021\ttotal: 2.87s\tremaining: 236ms\n",
      "924:\tlearn: 0.0767875\ttotal: 2.87s\tremaining: 233ms\n",
      "925:\tlearn: 0.0766358\ttotal: 2.87s\tremaining: 230ms\n",
      "926:\tlearn: 0.0765250\ttotal: 2.88s\tremaining: 227ms\n",
      "927:\tlearn: 0.0764463\ttotal: 2.88s\tremaining: 223ms\n",
      "928:\tlearn: 0.0763894\ttotal: 2.88s\tremaining: 220ms\n",
      "929:\tlearn: 0.0762245\ttotal: 2.88s\tremaining: 217ms\n",
      "930:\tlearn: 0.0761415\ttotal: 2.89s\tremaining: 214ms\n",
      "931:\tlearn: 0.0761048\ttotal: 2.89s\tremaining: 211ms\n",
      "932:\tlearn: 0.0760669\ttotal: 2.89s\tremaining: 208ms\n",
      "933:\tlearn: 0.0760235\ttotal: 2.9s\tremaining: 205ms\n",
      "934:\tlearn: 0.0759780\ttotal: 2.9s\tremaining: 202ms\n",
      "935:\tlearn: 0.0759350\ttotal: 2.9s\tremaining: 198ms\n",
      "936:\tlearn: 0.0758088\ttotal: 2.91s\tremaining: 195ms\n",
      "937:\tlearn: 0.0757647\ttotal: 2.91s\tremaining: 192ms\n",
      "938:\tlearn: 0.0757280\ttotal: 2.91s\tremaining: 189ms\n",
      "939:\tlearn: 0.0756842\ttotal: 2.92s\tremaining: 186ms\n",
      "940:\tlearn: 0.0756509\ttotal: 2.92s\tremaining: 183ms\n",
      "941:\tlearn: 0.0756176\ttotal: 2.92s\tremaining: 180ms\n",
      "942:\tlearn: 0.0755887\ttotal: 2.93s\tremaining: 177ms\n",
      "943:\tlearn: 0.0755689\ttotal: 2.93s\tremaining: 174ms\n",
      "944:\tlearn: 0.0754559\ttotal: 2.94s\tremaining: 171ms\n",
      "945:\tlearn: 0.0753467\ttotal: 2.94s\tremaining: 168ms\n",
      "946:\tlearn: 0.0753286\ttotal: 2.94s\tremaining: 165ms\n",
      "947:\tlearn: 0.0752803\ttotal: 2.94s\tremaining: 162ms\n",
      "948:\tlearn: 0.0752401\ttotal: 2.95s\tremaining: 158ms\n",
      "949:\tlearn: 0.0752220\ttotal: 2.95s\tremaining: 155ms\n",
      "950:\tlearn: 0.0750880\ttotal: 2.96s\tremaining: 152ms\n",
      "951:\tlearn: 0.0750723\ttotal: 2.96s\tremaining: 149ms\n",
      "952:\tlearn: 0.0749680\ttotal: 2.96s\tremaining: 146ms\n",
      "953:\tlearn: 0.0749410\ttotal: 2.96s\tremaining: 143ms\n",
      "954:\tlearn: 0.0749139\ttotal: 2.97s\tremaining: 140ms\n",
      "955:\tlearn: 0.0748747\ttotal: 2.97s\tremaining: 137ms\n",
      "956:\tlearn: 0.0747180\ttotal: 2.97s\tremaining: 133ms\n",
      "957:\tlearn: 0.0746986\ttotal: 2.97s\tremaining: 130ms\n",
      "958:\tlearn: 0.0746735\ttotal: 2.98s\tremaining: 127ms\n",
      "959:\tlearn: 0.0745860\ttotal: 2.98s\tremaining: 124ms\n",
      "960:\tlearn: 0.0745637\ttotal: 2.98s\tremaining: 121ms\n",
      "961:\tlearn: 0.0745277\ttotal: 2.98s\tremaining: 118ms\n",
      "962:\tlearn: 0.0744766\ttotal: 2.98s\tremaining: 115ms\n",
      "963:\tlearn: 0.0744547\ttotal: 2.99s\tremaining: 112ms\n",
      "964:\tlearn: 0.0743813\ttotal: 2.99s\tremaining: 108ms\n",
      "965:\tlearn: 0.0743634\ttotal: 2.99s\tremaining: 105ms\n",
      "966:\tlearn: 0.0743286\ttotal: 3s\tremaining: 102ms\n",
      "967:\tlearn: 0.0742730\ttotal: 3s\tremaining: 99.1ms\n",
      "968:\tlearn: 0.0741989\ttotal: 3s\tremaining: 96ms\n",
      "969:\tlearn: 0.0741909\ttotal: 3s\tremaining: 92.8ms\n",
      "970:\tlearn: 0.0741666\ttotal: 3s\tremaining: 89.7ms\n",
      "971:\tlearn: 0.0741231\ttotal: 3.01s\tremaining: 86.6ms\n",
      "972:\tlearn: 0.0740327\ttotal: 3.01s\tremaining: 83.5ms\n",
      "973:\tlearn: 0.0739218\ttotal: 3.01s\tremaining: 80.4ms\n",
      "974:\tlearn: 0.0738915\ttotal: 3.01s\tremaining: 77.3ms\n",
      "975:\tlearn: 0.0737787\ttotal: 3.02s\tremaining: 74.2ms\n",
      "976:\tlearn: 0.0736614\ttotal: 3.02s\tremaining: 71ms\n",
      "977:\tlearn: 0.0736249\ttotal: 3.02s\tremaining: 68ms\n",
      "978:\tlearn: 0.0735444\ttotal: 3.02s\tremaining: 64.9ms\n",
      "979:\tlearn: 0.0735227\ttotal: 3.02s\tremaining: 61.7ms\n",
      "980:\tlearn: 0.0734965\ttotal: 3.03s\tremaining: 58.7ms\n",
      "981:\tlearn: 0.0734240\ttotal: 3.03s\tremaining: 55.6ms\n",
      "982:\tlearn: 0.0732577\ttotal: 3.03s\tremaining: 52.5ms\n",
      "983:\tlearn: 0.0732272\ttotal: 3.04s\tremaining: 49.4ms\n",
      "984:\tlearn: 0.0731901\ttotal: 3.04s\tremaining: 46.3ms\n",
      "985:\tlearn: 0.0731145\ttotal: 3.04s\tremaining: 43.2ms\n",
      "986:\tlearn: 0.0730212\ttotal: 3.04s\tremaining: 40.1ms\n",
      "987:\tlearn: 0.0730040\ttotal: 3.05s\tremaining: 37ms\n",
      "988:\tlearn: 0.0729389\ttotal: 3.05s\tremaining: 33.9ms\n",
      "989:\tlearn: 0.0728217\ttotal: 3.05s\tremaining: 30.9ms\n",
      "990:\tlearn: 0.0727314\ttotal: 3.06s\tremaining: 27.8ms\n",
      "991:\tlearn: 0.0726670\ttotal: 3.06s\tremaining: 24.7ms\n",
      "992:\tlearn: 0.0726440\ttotal: 3.06s\tremaining: 21.6ms\n",
      "993:\tlearn: 0.0725769\ttotal: 3.07s\tremaining: 18.5ms\n",
      "994:\tlearn: 0.0725571\ttotal: 3.07s\tremaining: 15.4ms\n",
      "995:\tlearn: 0.0724741\ttotal: 3.07s\tremaining: 12.3ms\n",
      "996:\tlearn: 0.0724084\ttotal: 3.07s\tremaining: 9.25ms\n",
      "997:\tlearn: 0.0722910\ttotal: 3.08s\tremaining: 6.17ms\n",
      "998:\tlearn: 0.0722448\ttotal: 3.08s\tremaining: 3.08ms\n",
      "999:\tlearn: 0.0720933\ttotal: 3.08s\tremaining: 0us\n"
     ]
    },
    {
     "data": {
      "text/plain": [
       "<catboost.core.CatBoostRegressor at 0x1c17c571bc8>"
      ]
     },
     "execution_count": 46,
     "metadata": {},
     "output_type": "execute_result"
    }
   ],
   "source": [
    "cat=CatBoostRegressor()\n",
    "cat.fit(xtrain,ytrain)"
   ]
  },
  {
   "cell_type": "code",
   "execution_count": 47,
   "metadata": {},
   "outputs": [
    {
     "data": {
      "text/plain": [
       "89.12040252537227"
      ]
     },
     "execution_count": 47,
     "metadata": {},
     "output_type": "execute_result"
    }
   ],
   "source": [
    "cat.score(xtest,ytest)*100"
   ]
  },
  {
   "cell_type": "code",
   "execution_count": 48,
   "metadata": {},
   "outputs": [],
   "source": [
    "from catboost import CatBoostClassifier"
   ]
  },
  {
   "cell_type": "code",
   "execution_count": 49,
   "metadata": {},
   "outputs": [
    {
     "name": "stdout",
     "output_type": "stream",
     "text": [
      "Learning rate set to 0.03751\n",
      "0:\tlearn: 0.4913276\ttotal: 2.5ms\tremaining: 2.5s\n",
      "1:\tlearn: 0.4837165\ttotal: 4.84ms\tremaining: 2.42s\n",
      "2:\tlearn: 0.4767770\ttotal: 8.95ms\tremaining: 2.98s\n",
      "3:\tlearn: 0.4699399\ttotal: 11.5ms\tremaining: 2.86s\n",
      "4:\tlearn: 0.4635431\ttotal: 13.7ms\tremaining: 2.72s\n",
      "5:\tlearn: 0.4562091\ttotal: 16.3ms\tremaining: 2.7s\n",
      "6:\tlearn: 0.4508986\ttotal: 18.3ms\tremaining: 2.6s\n",
      "7:\tlearn: 0.4451291\ttotal: 20.7ms\tremaining: 2.57s\n",
      "8:\tlearn: 0.4403362\ttotal: 25.2ms\tremaining: 2.77s\n",
      "9:\tlearn: 0.4360162\ttotal: 27.8ms\tremaining: 2.75s\n",
      "10:\tlearn: 0.4302390\ttotal: 30.4ms\tremaining: 2.73s\n",
      "11:\tlearn: 0.4261072\ttotal: 32.8ms\tremaining: 2.7s\n",
      "12:\tlearn: 0.4209830\ttotal: 34.9ms\tremaining: 2.65s\n",
      "13:\tlearn: 0.4170980\ttotal: 39ms\tremaining: 2.74s\n",
      "14:\tlearn: 0.4130995\ttotal: 41.9ms\tremaining: 2.75s\n",
      "15:\tlearn: 0.4098807\ttotal: 45ms\tremaining: 2.77s\n",
      "16:\tlearn: 0.4067348\ttotal: 47.3ms\tremaining: 2.73s\n",
      "17:\tlearn: 0.4025418\ttotal: 49.9ms\tremaining: 2.72s\n",
      "18:\tlearn: 0.3993144\ttotal: 53.3ms\tremaining: 2.75s\n",
      "19:\tlearn: 0.3959021\ttotal: 55.8ms\tremaining: 2.73s\n",
      "20:\tlearn: 0.3929848\ttotal: 58.1ms\tremaining: 2.71s\n",
      "21:\tlearn: 0.3906324\ttotal: 60.8ms\tremaining: 2.7s\n",
      "22:\tlearn: 0.3877995\ttotal: 62.9ms\tremaining: 2.67s\n",
      "23:\tlearn: 0.3848338\ttotal: 65.1ms\tremaining: 2.65s\n",
      "24:\tlearn: 0.3816596\ttotal: 70.3ms\tremaining: 2.74s\n",
      "25:\tlearn: 0.3785676\ttotal: 72.6ms\tremaining: 2.72s\n",
      "26:\tlearn: 0.3757618\ttotal: 74.9ms\tremaining: 2.7s\n",
      "27:\tlearn: 0.3736179\ttotal: 77.1ms\tremaining: 2.68s\n",
      "28:\tlearn: 0.3704445\ttotal: 79.6ms\tremaining: 2.67s\n",
      "29:\tlearn: 0.3683864\ttotal: 82.6ms\tremaining: 2.67s\n",
      "30:\tlearn: 0.3653012\ttotal: 85.2ms\tremaining: 2.66s\n",
      "31:\tlearn: 0.3627094\ttotal: 87.5ms\tremaining: 2.65s\n",
      "32:\tlearn: 0.3609990\ttotal: 89.7ms\tremaining: 2.63s\n",
      "33:\tlearn: 0.3582920\ttotal: 91.8ms\tremaining: 2.61s\n",
      "34:\tlearn: 0.3554653\ttotal: 93.8ms\tremaining: 2.59s\n",
      "35:\tlearn: 0.3537440\ttotal: 98.1ms\tremaining: 2.63s\n",
      "36:\tlearn: 0.3518767\ttotal: 101ms\tremaining: 2.62s\n",
      "37:\tlearn: 0.3499753\ttotal: 103ms\tremaining: 2.6s\n",
      "38:\tlearn: 0.3477898\ttotal: 105ms\tremaining: 2.59s\n",
      "39:\tlearn: 0.3474245\ttotal: 106ms\tremaining: 2.55s\n",
      "40:\tlearn: 0.3459001\ttotal: 108ms\tremaining: 2.53s\n",
      "41:\tlearn: 0.3434005\ttotal: 112ms\tremaining: 2.56s\n",
      "42:\tlearn: 0.3419903\ttotal: 115ms\tremaining: 2.56s\n",
      "43:\tlearn: 0.3407428\ttotal: 117ms\tremaining: 2.54s\n",
      "44:\tlearn: 0.3391737\ttotal: 119ms\tremaining: 2.53s\n",
      "45:\tlearn: 0.3380177\ttotal: 122ms\tremaining: 2.52s\n",
      "46:\tlearn: 0.3365884\ttotal: 125ms\tremaining: 2.53s\n",
      "47:\tlearn: 0.3355294\ttotal: 127ms\tremaining: 2.53s\n",
      "48:\tlearn: 0.3346788\ttotal: 130ms\tremaining: 2.52s\n",
      "49:\tlearn: 0.3339044\ttotal: 132ms\tremaining: 2.51s\n",
      "50:\tlearn: 0.3325446\ttotal: 134ms\tremaining: 2.5s\n",
      "51:\tlearn: 0.3316475\ttotal: 137ms\tremaining: 2.49s\n",
      "52:\tlearn: 0.3298759\ttotal: 140ms\tremaining: 2.5s\n",
      "53:\tlearn: 0.3276622\ttotal: 142ms\tremaining: 2.5s\n",
      "54:\tlearn: 0.3264704\ttotal: 145ms\tremaining: 2.49s\n",
      "55:\tlearn: 0.3254187\ttotal: 149ms\tremaining: 2.51s\n",
      "56:\tlearn: 0.3241115\ttotal: 152ms\tremaining: 2.51s\n",
      "57:\tlearn: 0.3220809\ttotal: 157ms\tremaining: 2.55s\n",
      "58:\tlearn: 0.3211713\ttotal: 160ms\tremaining: 2.55s\n",
      "59:\tlearn: 0.3188533\ttotal: 163ms\tremaining: 2.55s\n",
      "60:\tlearn: 0.3178202\ttotal: 166ms\tremaining: 2.55s\n",
      "61:\tlearn: 0.3168406\ttotal: 169ms\tremaining: 2.56s\n",
      "62:\tlearn: 0.3156907\ttotal: 172ms\tremaining: 2.56s\n",
      "63:\tlearn: 0.3139526\ttotal: 175ms\tremaining: 2.56s\n",
      "64:\tlearn: 0.3132840\ttotal: 178ms\tremaining: 2.56s\n",
      "65:\tlearn: 0.3127014\ttotal: 181ms\tremaining: 2.56s\n",
      "66:\tlearn: 0.3120013\ttotal: 184ms\tremaining: 2.57s\n",
      "67:\tlearn: 0.3110731\ttotal: 188ms\tremaining: 2.57s\n",
      "68:\tlearn: 0.3102238\ttotal: 190ms\tremaining: 2.57s\n",
      "69:\tlearn: 0.3079721\ttotal: 193ms\tremaining: 2.56s\n",
      "70:\tlearn: 0.3070650\ttotal: 197ms\tremaining: 2.58s\n",
      "71:\tlearn: 0.3062412\ttotal: 200ms\tremaining: 2.58s\n",
      "72:\tlearn: 0.3050998\ttotal: 203ms\tremaining: 2.58s\n",
      "73:\tlearn: 0.3032588\ttotal: 206ms\tremaining: 2.58s\n",
      "74:\tlearn: 0.3027765\ttotal: 211ms\tremaining: 2.6s\n",
      "75:\tlearn: 0.3018788\ttotal: 214ms\tremaining: 2.6s\n",
      "76:\tlearn: 0.3010463\ttotal: 217ms\tremaining: 2.6s\n",
      "77:\tlearn: 0.3002880\ttotal: 221ms\tremaining: 2.61s\n",
      "78:\tlearn: 0.2987770\ttotal: 224ms\tremaining: 2.61s\n",
      "79:\tlearn: 0.2974425\ttotal: 227ms\tremaining: 2.61s\n",
      "80:\tlearn: 0.2959847\ttotal: 230ms\tremaining: 2.61s\n",
      "81:\tlearn: 0.2954411\ttotal: 233ms\tremaining: 2.61s\n",
      "82:\tlearn: 0.2941415\ttotal: 241ms\tremaining: 2.67s\n",
      "83:\tlearn: 0.2929624\ttotal: 247ms\tremaining: 2.69s\n",
      "84:\tlearn: 0.2918081\ttotal: 250ms\tremaining: 2.69s\n",
      "85:\tlearn: 0.2910919\ttotal: 252ms\tremaining: 2.68s\n",
      "86:\tlearn: 0.2898417\ttotal: 255ms\tremaining: 2.68s\n",
      "87:\tlearn: 0.2891133\ttotal: 258ms\tremaining: 2.67s\n",
      "88:\tlearn: 0.2884278\ttotal: 260ms\tremaining: 2.66s\n",
      "89:\tlearn: 0.2869178\ttotal: 263ms\tremaining: 2.66s\n",
      "90:\tlearn: 0.2852382\ttotal: 265ms\tremaining: 2.65s\n",
      "91:\tlearn: 0.2846651\ttotal: 267ms\tremaining: 2.64s\n",
      "92:\tlearn: 0.2833153\ttotal: 269ms\tremaining: 2.63s\n",
      "93:\tlearn: 0.2828604\ttotal: 272ms\tremaining: 2.62s\n",
      "94:\tlearn: 0.2822880\ttotal: 274ms\tremaining: 2.61s\n",
      "95:\tlearn: 0.2813947\ttotal: 276ms\tremaining: 2.6s\n",
      "96:\tlearn: 0.2809941\ttotal: 278ms\tremaining: 2.59s\n",
      "97:\tlearn: 0.2804363\ttotal: 281ms\tremaining: 2.58s\n",
      "98:\tlearn: 0.2794784\ttotal: 283ms\tremaining: 2.57s\n",
      "99:\tlearn: 0.2782155\ttotal: 285ms\tremaining: 2.56s\n",
      "100:\tlearn: 0.2774077\ttotal: 287ms\tremaining: 2.56s\n",
      "101:\tlearn: 0.2762589\ttotal: 291ms\tremaining: 2.56s\n",
      "102:\tlearn: 0.2751793\ttotal: 294ms\tremaining: 2.56s\n",
      "103:\tlearn: 0.2746852\ttotal: 297ms\tremaining: 2.56s\n",
      "104:\tlearn: 0.2740711\ttotal: 300ms\tremaining: 2.56s\n",
      "105:\tlearn: 0.2736009\ttotal: 303ms\tremaining: 2.55s\n",
      "106:\tlearn: 0.2726588\ttotal: 307ms\tremaining: 2.56s\n",
      "107:\tlearn: 0.2723344\ttotal: 310ms\tremaining: 2.56s\n",
      "108:\tlearn: 0.2708128\ttotal: 312ms\tremaining: 2.55s\n",
      "109:\tlearn: 0.2697963\ttotal: 314ms\tremaining: 2.54s\n",
      "110:\tlearn: 0.2682679\ttotal: 316ms\tremaining: 2.53s\n",
      "111:\tlearn: 0.2675952\ttotal: 319ms\tremaining: 2.52s\n",
      "112:\tlearn: 0.2669182\ttotal: 321ms\tremaining: 2.52s\n",
      "113:\tlearn: 0.2666114\ttotal: 323ms\tremaining: 2.51s\n",
      "114:\tlearn: 0.2656243\ttotal: 326ms\tremaining: 2.51s\n",
      "115:\tlearn: 0.2645297\ttotal: 329ms\tremaining: 2.5s\n",
      "116:\tlearn: 0.2635935\ttotal: 331ms\tremaining: 2.5s\n",
      "117:\tlearn: 0.2633500\ttotal: 334ms\tremaining: 2.49s\n",
      "118:\tlearn: 0.2625932\ttotal: 336ms\tremaining: 2.49s\n",
      "119:\tlearn: 0.2623100\ttotal: 341ms\tremaining: 2.5s\n",
      "120:\tlearn: 0.2620646\ttotal: 344ms\tremaining: 2.5s\n",
      "121:\tlearn: 0.2617671\ttotal: 348ms\tremaining: 2.5s\n",
      "122:\tlearn: 0.2614751\ttotal: 350ms\tremaining: 2.5s\n",
      "123:\tlearn: 0.2603345\ttotal: 352ms\tremaining: 2.49s\n",
      "124:\tlearn: 0.2597260\ttotal: 355ms\tremaining: 2.48s\n",
      "125:\tlearn: 0.2592230\ttotal: 358ms\tremaining: 2.48s\n",
      "126:\tlearn: 0.2590187\ttotal: 362ms\tremaining: 2.49s\n",
      "127:\tlearn: 0.2583687\ttotal: 365ms\tremaining: 2.49s\n",
      "128:\tlearn: 0.2572921\ttotal: 367ms\tremaining: 2.48s\n",
      "129:\tlearn: 0.2567103\ttotal: 370ms\tremaining: 2.47s\n",
      "130:\tlearn: 0.2559812\ttotal: 372ms\tremaining: 2.47s\n",
      "131:\tlearn: 0.2557442\ttotal: 374ms\tremaining: 2.46s\n",
      "132:\tlearn: 0.2550619\ttotal: 378ms\tremaining: 2.46s\n",
      "133:\tlearn: 0.2541246\ttotal: 380ms\tremaining: 2.46s\n",
      "134:\tlearn: 0.2535316\ttotal: 382ms\tremaining: 2.45s\n",
      "135:\tlearn: 0.2531560\ttotal: 384ms\tremaining: 2.44s\n",
      "136:\tlearn: 0.2525935\ttotal: 387ms\tremaining: 2.44s\n",
      "137:\tlearn: 0.2524018\ttotal: 389ms\tremaining: 2.43s\n",
      "138:\tlearn: 0.2509601\ttotal: 391ms\tremaining: 2.42s\n",
      "139:\tlearn: 0.2502897\ttotal: 394ms\tremaining: 2.42s\n",
      "140:\tlearn: 0.2500981\ttotal: 396ms\tremaining: 2.41s\n",
      "141:\tlearn: 0.2497069\ttotal: 398ms\tremaining: 2.41s\n",
      "142:\tlearn: 0.2494142\ttotal: 401ms\tremaining: 2.4s\n",
      "143:\tlearn: 0.2482127\ttotal: 405ms\tremaining: 2.41s\n",
      "144:\tlearn: 0.2478885\ttotal: 407ms\tremaining: 2.4s\n",
      "145:\tlearn: 0.2476946\ttotal: 409ms\tremaining: 2.39s\n",
      "146:\tlearn: 0.2472748\ttotal: 412ms\tremaining: 2.39s\n",
      "147:\tlearn: 0.2470011\ttotal: 414ms\tremaining: 2.38s\n",
      "148:\tlearn: 0.2467536\ttotal: 416ms\tremaining: 2.38s\n",
      "149:\tlearn: 0.2465544\ttotal: 418ms\tremaining: 2.37s\n",
      "150:\tlearn: 0.2461830\ttotal: 420ms\tremaining: 2.36s\n",
      "151:\tlearn: 0.2459083\ttotal: 422ms\tremaining: 2.36s\n",
      "152:\tlearn: 0.2450783\ttotal: 425ms\tremaining: 2.35s\n",
      "153:\tlearn: 0.2446599\ttotal: 427ms\tremaining: 2.35s\n",
      "154:\tlearn: 0.2444178\ttotal: 429ms\tremaining: 2.34s\n",
      "155:\tlearn: 0.2438798\ttotal: 433ms\tremaining: 2.34s\n",
      "156:\tlearn: 0.2429204\ttotal: 435ms\tremaining: 2.34s\n",
      "157:\tlearn: 0.2424668\ttotal: 437ms\tremaining: 2.33s\n",
      "158:\tlearn: 0.2415913\ttotal: 439ms\tremaining: 2.32s\n",
      "159:\tlearn: 0.2406996\ttotal: 441ms\tremaining: 2.32s\n",
      "160:\tlearn: 0.2401213\ttotal: 443ms\tremaining: 2.31s\n",
      "161:\tlearn: 0.2393543\ttotal: 446ms\tremaining: 2.31s\n",
      "162:\tlearn: 0.2392248\ttotal: 448ms\tremaining: 2.3s\n",
      "163:\tlearn: 0.2390306\ttotal: 450ms\tremaining: 2.29s\n",
      "164:\tlearn: 0.2387175\ttotal: 452ms\tremaining: 2.29s\n",
      "165:\tlearn: 0.2383745\ttotal: 454ms\tremaining: 2.28s\n",
      "166:\tlearn: 0.2381658\ttotal: 457ms\tremaining: 2.28s\n",
      "167:\tlearn: 0.2379529\ttotal: 459ms\tremaining: 2.27s\n",
      "168:\tlearn: 0.2371328\ttotal: 462ms\tremaining: 2.27s\n",
      "169:\tlearn: 0.2362927\ttotal: 465ms\tremaining: 2.27s\n",
      "170:\tlearn: 0.2360703\ttotal: 468ms\tremaining: 2.27s\n",
      "171:\tlearn: 0.2357258\ttotal: 471ms\tremaining: 2.27s\n",
      "172:\tlearn: 0.2348742\ttotal: 474ms\tremaining: 2.27s\n"
     ]
    },
    {
     "name": "stdout",
     "output_type": "stream",
     "text": [
      "173:\tlearn: 0.2342869\ttotal: 477ms\tremaining: 2.26s\n",
      "174:\tlearn: 0.2330256\ttotal: 479ms\tremaining: 2.26s\n",
      "175:\tlearn: 0.2322422\ttotal: 482ms\tremaining: 2.25s\n",
      "176:\tlearn: 0.2311821\ttotal: 484ms\tremaining: 2.25s\n",
      "177:\tlearn: 0.2308235\ttotal: 486ms\tremaining: 2.24s\n",
      "178:\tlearn: 0.2307157\ttotal: 489ms\tremaining: 2.24s\n",
      "179:\tlearn: 0.2301641\ttotal: 492ms\tremaining: 2.24s\n",
      "180:\tlearn: 0.2290004\ttotal: 495ms\tremaining: 2.24s\n",
      "181:\tlearn: 0.2276567\ttotal: 497ms\tremaining: 2.23s\n",
      "182:\tlearn: 0.2274741\ttotal: 499ms\tremaining: 2.23s\n",
      "183:\tlearn: 0.2264198\ttotal: 501ms\tremaining: 2.22s\n",
      "184:\tlearn: 0.2260199\ttotal: 503ms\tremaining: 2.22s\n",
      "185:\tlearn: 0.2256833\ttotal: 505ms\tremaining: 2.21s\n",
      "186:\tlearn: 0.2245322\ttotal: 508ms\tremaining: 2.21s\n",
      "187:\tlearn: 0.2240300\ttotal: 510ms\tremaining: 2.2s\n",
      "188:\tlearn: 0.2234601\ttotal: 512ms\tremaining: 2.2s\n",
      "189:\tlearn: 0.2233060\ttotal: 514ms\tremaining: 2.19s\n",
      "190:\tlearn: 0.2231393\ttotal: 516ms\tremaining: 2.19s\n",
      "191:\tlearn: 0.2229962\ttotal: 520ms\tremaining: 2.19s\n",
      "192:\tlearn: 0.2224611\ttotal: 522ms\tremaining: 2.18s\n",
      "193:\tlearn: 0.2217011\ttotal: 524ms\tremaining: 2.18s\n",
      "194:\tlearn: 0.2214606\ttotal: 527ms\tremaining: 2.17s\n",
      "195:\tlearn: 0.2209539\ttotal: 529ms\tremaining: 2.17s\n",
      "196:\tlearn: 0.2201544\ttotal: 532ms\tremaining: 2.17s\n",
      "197:\tlearn: 0.2198866\ttotal: 534ms\tremaining: 2.16s\n",
      "198:\tlearn: 0.2189923\ttotal: 537ms\tremaining: 2.16s\n",
      "199:\tlearn: 0.2178348\ttotal: 539ms\tremaining: 2.15s\n",
      "200:\tlearn: 0.2171744\ttotal: 541ms\tremaining: 2.15s\n",
      "201:\tlearn: 0.2164047\ttotal: 543ms\tremaining: 2.15s\n",
      "202:\tlearn: 0.2157917\ttotal: 547ms\tremaining: 2.15s\n",
      "203:\tlearn: 0.2147777\ttotal: 550ms\tremaining: 2.15s\n",
      "204:\tlearn: 0.2141246\ttotal: 552ms\tremaining: 2.14s\n",
      "205:\tlearn: 0.2132381\ttotal: 554ms\tremaining: 2.13s\n",
      "206:\tlearn: 0.2125429\ttotal: 556ms\tremaining: 2.13s\n",
      "207:\tlearn: 0.2117428\ttotal: 559ms\tremaining: 2.13s\n",
      "208:\tlearn: 0.2113663\ttotal: 563ms\tremaining: 2.13s\n",
      "209:\tlearn: 0.2111654\ttotal: 565ms\tremaining: 2.13s\n",
      "210:\tlearn: 0.2099768\ttotal: 568ms\tremaining: 2.12s\n",
      "211:\tlearn: 0.2095905\ttotal: 570ms\tremaining: 2.12s\n",
      "212:\tlearn: 0.2088847\ttotal: 574ms\tremaining: 2.12s\n",
      "213:\tlearn: 0.2083292\ttotal: 577ms\tremaining: 2.12s\n",
      "214:\tlearn: 0.2078062\ttotal: 579ms\tremaining: 2.11s\n",
      "215:\tlearn: 0.2075567\ttotal: 581ms\tremaining: 2.11s\n",
      "216:\tlearn: 0.2073324\ttotal: 584ms\tremaining: 2.1s\n",
      "217:\tlearn: 0.2067065\ttotal: 586ms\tremaining: 2.1s\n",
      "218:\tlearn: 0.2063028\ttotal: 589ms\tremaining: 2.1s\n",
      "219:\tlearn: 0.2056447\ttotal: 592ms\tremaining: 2.1s\n",
      "220:\tlearn: 0.2050657\ttotal: 594ms\tremaining: 2.09s\n",
      "221:\tlearn: 0.2040440\ttotal: 596ms\tremaining: 2.09s\n",
      "222:\tlearn: 0.2031826\ttotal: 598ms\tremaining: 2.08s\n",
      "223:\tlearn: 0.2022996\ttotal: 600ms\tremaining: 2.08s\n",
      "224:\tlearn: 0.2017105\ttotal: 603ms\tremaining: 2.08s\n",
      "225:\tlearn: 0.2014939\ttotal: 605ms\tremaining: 2.07s\n",
      "226:\tlearn: 0.2013386\ttotal: 607ms\tremaining: 2.07s\n",
      "227:\tlearn: 0.2009149\ttotal: 610ms\tremaining: 2.06s\n",
      "228:\tlearn: 0.2004783\ttotal: 612ms\tremaining: 2.06s\n",
      "229:\tlearn: 0.1996593\ttotal: 614ms\tremaining: 2.06s\n",
      "230:\tlearn: 0.1990870\ttotal: 617ms\tremaining: 2.05s\n",
      "231:\tlearn: 0.1985506\ttotal: 620ms\tremaining: 2.05s\n",
      "232:\tlearn: 0.1983286\ttotal: 622ms\tremaining: 2.05s\n",
      "233:\tlearn: 0.1973835\ttotal: 624ms\tremaining: 2.04s\n",
      "234:\tlearn: 0.1969801\ttotal: 626ms\tremaining: 2.04s\n",
      "235:\tlearn: 0.1965124\ttotal: 628ms\tremaining: 2.03s\n",
      "236:\tlearn: 0.1960156\ttotal: 631ms\tremaining: 2.03s\n",
      "237:\tlearn: 0.1953135\ttotal: 633ms\tremaining: 2.03s\n",
      "238:\tlearn: 0.1946520\ttotal: 636ms\tremaining: 2.02s\n",
      "239:\tlearn: 0.1944482\ttotal: 638ms\tremaining: 2.02s\n",
      "240:\tlearn: 0.1935959\ttotal: 641ms\tremaining: 2.02s\n",
      "241:\tlearn: 0.1931186\ttotal: 643ms\tremaining: 2.02s\n",
      "242:\tlearn: 0.1923428\ttotal: 646ms\tremaining: 2.01s\n",
      "243:\tlearn: 0.1920268\ttotal: 648ms\tremaining: 2.01s\n",
      "244:\tlearn: 0.1918254\ttotal: 650ms\tremaining: 2s\n",
      "245:\tlearn: 0.1914163\ttotal: 652ms\tremaining: 2s\n",
      "246:\tlearn: 0.1909951\ttotal: 655ms\tremaining: 2s\n",
      "247:\tlearn: 0.1901338\ttotal: 656ms\tremaining: 1.99s\n",
      "248:\tlearn: 0.1894483\ttotal: 659ms\tremaining: 1.99s\n",
      "249:\tlearn: 0.1886785\ttotal: 662ms\tremaining: 1.99s\n",
      "250:\tlearn: 0.1883454\ttotal: 664ms\tremaining: 1.98s\n",
      "251:\tlearn: 0.1881641\ttotal: 666ms\tremaining: 1.98s\n",
      "252:\tlearn: 0.1873578\ttotal: 668ms\tremaining: 1.97s\n",
      "253:\tlearn: 0.1869651\ttotal: 670ms\tremaining: 1.97s\n",
      "254:\tlearn: 0.1865979\ttotal: 672ms\tremaining: 1.96s\n",
      "255:\tlearn: 0.1864130\ttotal: 675ms\tremaining: 1.96s\n",
      "256:\tlearn: 0.1862307\ttotal: 677ms\tremaining: 1.96s\n",
      "257:\tlearn: 0.1860608\ttotal: 679ms\tremaining: 1.95s\n",
      "258:\tlearn: 0.1853003\ttotal: 681ms\tremaining: 1.95s\n",
      "259:\tlearn: 0.1849494\ttotal: 683ms\tremaining: 1.94s\n",
      "260:\tlearn: 0.1843590\ttotal: 685ms\tremaining: 1.94s\n",
      "261:\tlearn: 0.1841970\ttotal: 688ms\tremaining: 1.94s\n",
      "262:\tlearn: 0.1837458\ttotal: 691ms\tremaining: 1.94s\n",
      "263:\tlearn: 0.1835941\ttotal: 693ms\tremaining: 1.93s\n",
      "264:\tlearn: 0.1829782\ttotal: 695ms\tremaining: 1.93s\n",
      "265:\tlearn: 0.1826500\ttotal: 698ms\tremaining: 1.92s\n",
      "266:\tlearn: 0.1820121\ttotal: 700ms\tremaining: 1.92s\n",
      "267:\tlearn: 0.1818698\ttotal: 703ms\tremaining: 1.92s\n",
      "268:\tlearn: 0.1813521\ttotal: 704ms\tremaining: 1.91s\n",
      "269:\tlearn: 0.1811076\ttotal: 707ms\tremaining: 1.91s\n",
      "270:\tlearn: 0.1809700\ttotal: 709ms\tremaining: 1.91s\n",
      "271:\tlearn: 0.1803933\ttotal: 711ms\tremaining: 1.9s\n",
      "272:\tlearn: 0.1797678\ttotal: 713ms\tremaining: 1.9s\n",
      "273:\tlearn: 0.1794483\ttotal: 715ms\tremaining: 1.89s\n",
      "274:\tlearn: 0.1793152\ttotal: 719ms\tremaining: 1.9s\n",
      "275:\tlearn: 0.1789601\ttotal: 722ms\tremaining: 1.89s\n",
      "276:\tlearn: 0.1784067\ttotal: 724ms\tremaining: 1.89s\n",
      "277:\tlearn: 0.1778123\ttotal: 726ms\tremaining: 1.89s\n",
      "278:\tlearn: 0.1776596\ttotal: 728ms\tremaining: 1.88s\n",
      "279:\tlearn: 0.1773614\ttotal: 731ms\tremaining: 1.88s\n",
      "280:\tlearn: 0.1767949\ttotal: 734ms\tremaining: 1.88s\n",
      "281:\tlearn: 0.1763163\ttotal: 736ms\tremaining: 1.87s\n",
      "282:\tlearn: 0.1757606\ttotal: 739ms\tremaining: 1.87s\n",
      "283:\tlearn: 0.1752206\ttotal: 742ms\tremaining: 1.87s\n",
      "284:\tlearn: 0.1745983\ttotal: 745ms\tremaining: 1.87s\n",
      "285:\tlearn: 0.1743161\ttotal: 748ms\tremaining: 1.87s\n",
      "286:\tlearn: 0.1741688\ttotal: 750ms\tremaining: 1.86s\n",
      "287:\tlearn: 0.1736468\ttotal: 752ms\tremaining: 1.86s\n",
      "288:\tlearn: 0.1731503\ttotal: 754ms\tremaining: 1.85s\n",
      "289:\tlearn: 0.1723050\ttotal: 756ms\tremaining: 1.85s\n",
      "290:\tlearn: 0.1719348\ttotal: 761ms\tremaining: 1.85s\n",
      "291:\tlearn: 0.1714250\ttotal: 763ms\tremaining: 1.85s\n",
      "292:\tlearn: 0.1712799\ttotal: 766ms\tremaining: 1.85s\n",
      "293:\tlearn: 0.1708023\ttotal: 768ms\tremaining: 1.84s\n",
      "294:\tlearn: 0.1704835\ttotal: 770ms\tremaining: 1.84s\n",
      "295:\tlearn: 0.1698575\ttotal: 772ms\tremaining: 1.84s\n",
      "296:\tlearn: 0.1696712\ttotal: 777ms\tremaining: 1.84s\n",
      "297:\tlearn: 0.1690886\ttotal: 779ms\tremaining: 1.83s\n",
      "298:\tlearn: 0.1685101\ttotal: 782ms\tremaining: 1.83s\n",
      "299:\tlearn: 0.1682369\ttotal: 785ms\tremaining: 1.83s\n",
      "300:\tlearn: 0.1677037\ttotal: 789ms\tremaining: 1.83s\n",
      "301:\tlearn: 0.1674400\ttotal: 791ms\tremaining: 1.83s\n",
      "302:\tlearn: 0.1672706\ttotal: 793ms\tremaining: 1.82s\n",
      "303:\tlearn: 0.1668043\ttotal: 796ms\tremaining: 1.82s\n",
      "304:\tlearn: 0.1666641\ttotal: 798ms\tremaining: 1.82s\n",
      "305:\tlearn: 0.1661321\ttotal: 801ms\tremaining: 1.82s\n",
      "306:\tlearn: 0.1657064\ttotal: 803ms\tremaining: 1.81s\n",
      "307:\tlearn: 0.1651103\ttotal: 805ms\tremaining: 1.81s\n",
      "308:\tlearn: 0.1646680\ttotal: 807ms\tremaining: 1.8s\n",
      "309:\tlearn: 0.1642494\ttotal: 810ms\tremaining: 1.8s\n",
      "310:\tlearn: 0.1641096\ttotal: 812ms\tremaining: 1.8s\n",
      "311:\tlearn: 0.1637071\ttotal: 814ms\tremaining: 1.79s\n",
      "312:\tlearn: 0.1635751\ttotal: 819ms\tremaining: 1.8s\n",
      "313:\tlearn: 0.1633020\ttotal: 821ms\tremaining: 1.79s\n",
      "314:\tlearn: 0.1630030\ttotal: 823ms\tremaining: 1.79s\n",
      "315:\tlearn: 0.1626290\ttotal: 825ms\tremaining: 1.79s\n",
      "316:\tlearn: 0.1620736\ttotal: 827ms\tremaining: 1.78s\n",
      "317:\tlearn: 0.1617725\ttotal: 830ms\tremaining: 1.78s\n",
      "318:\tlearn: 0.1616285\ttotal: 832ms\tremaining: 1.77s\n",
      "319:\tlearn: 0.1610980\ttotal: 834ms\tremaining: 1.77s\n",
      "320:\tlearn: 0.1607286\ttotal: 836ms\tremaining: 1.77s\n",
      "321:\tlearn: 0.1604527\ttotal: 838ms\tremaining: 1.76s\n",
      "322:\tlearn: 0.1600570\ttotal: 840ms\tremaining: 1.76s\n",
      "323:\tlearn: 0.1598134\ttotal: 843ms\tremaining: 1.76s\n",
      "324:\tlearn: 0.1594570\ttotal: 846ms\tremaining: 1.76s\n",
      "325:\tlearn: 0.1589101\ttotal: 848ms\tremaining: 1.75s\n",
      "326:\tlearn: 0.1587158\ttotal: 850ms\tremaining: 1.75s\n",
      "327:\tlearn: 0.1583961\ttotal: 853ms\tremaining: 1.75s\n",
      "328:\tlearn: 0.1582708\ttotal: 855ms\tremaining: 1.74s\n",
      "329:\tlearn: 0.1579799\ttotal: 857ms\tremaining: 1.74s\n",
      "330:\tlearn: 0.1577990\ttotal: 859ms\tremaining: 1.74s\n",
      "331:\tlearn: 0.1572195\ttotal: 861ms\tremaining: 1.73s\n",
      "332:\tlearn: 0.1571075\ttotal: 863ms\tremaining: 1.73s\n",
      "333:\tlearn: 0.1569254\ttotal: 866ms\tremaining: 1.73s\n",
      "334:\tlearn: 0.1568201\ttotal: 868ms\tremaining: 1.72s\n",
      "335:\tlearn: 0.1564780\ttotal: 870ms\tremaining: 1.72s\n",
      "336:\tlearn: 0.1562635\ttotal: 872ms\tremaining: 1.72s\n",
      "337:\tlearn: 0.1560452\ttotal: 876ms\tremaining: 1.72s\n",
      "338:\tlearn: 0.1558115\ttotal: 878ms\tremaining: 1.71s\n",
      "339:\tlearn: 0.1557128\ttotal: 880ms\tremaining: 1.71s\n",
      "340:\tlearn: 0.1551672\ttotal: 882ms\tremaining: 1.7s\n",
      "341:\tlearn: 0.1549176\ttotal: 884ms\tremaining: 1.7s\n",
      "342:\tlearn: 0.1547452\ttotal: 886ms\tremaining: 1.7s\n",
      "343:\tlearn: 0.1545900\ttotal: 889ms\tremaining: 1.69s\n",
      "344:\tlearn: 0.1542294\ttotal: 891ms\tremaining: 1.69s\n",
      "345:\tlearn: 0.1540894\ttotal: 893ms\tremaining: 1.69s\n",
      "346:\tlearn: 0.1539829\ttotal: 895ms\tremaining: 1.68s\n",
      "347:\tlearn: 0.1535774\ttotal: 897ms\tremaining: 1.68s\n",
      "348:\tlearn: 0.1532779\ttotal: 899ms\tremaining: 1.68s\n",
      "349:\tlearn: 0.1529857\ttotal: 902ms\tremaining: 1.68s\n",
      "350:\tlearn: 0.1528915\ttotal: 905ms\tremaining: 1.67s\n",
      "351:\tlearn: 0.1525876\ttotal: 907ms\tremaining: 1.67s\n",
      "352:\tlearn: 0.1522161\ttotal: 909ms\tremaining: 1.67s\n",
      "353:\tlearn: 0.1517883\ttotal: 911ms\tremaining: 1.66s\n",
      "354:\tlearn: 0.1515821\ttotal: 913ms\tremaining: 1.66s\n",
      "355:\tlearn: 0.1511711\ttotal: 915ms\tremaining: 1.66s\n",
      "356:\tlearn: 0.1508430\ttotal: 917ms\tremaining: 1.65s\n",
      "357:\tlearn: 0.1505443\ttotal: 920ms\tremaining: 1.65s\n",
      "358:\tlearn: 0.1503771\ttotal: 922ms\tremaining: 1.65s\n",
      "359:\tlearn: 0.1502659\ttotal: 924ms\tremaining: 1.64s\n",
      "360:\tlearn: 0.1500229\ttotal: 926ms\tremaining: 1.64s\n",
      "361:\tlearn: 0.1497147\ttotal: 928ms\tremaining: 1.64s\n",
      "362:\tlearn: 0.1494368\ttotal: 932ms\tremaining: 1.64s\n",
      "363:\tlearn: 0.1492374\ttotal: 934ms\tremaining: 1.63s\n",
      "364:\tlearn: 0.1491045\ttotal: 936ms\tremaining: 1.63s\n",
      "365:\tlearn: 0.1488846\ttotal: 939ms\tremaining: 1.63s\n",
      "366:\tlearn: 0.1486688\ttotal: 941ms\tremaining: 1.62s\n",
      "367:\tlearn: 0.1484447\ttotal: 943ms\tremaining: 1.62s\n",
      "368:\tlearn: 0.1481643\ttotal: 945ms\tremaining: 1.62s\n",
      "369:\tlearn: 0.1480190\ttotal: 947ms\tremaining: 1.61s\n",
      "370:\tlearn: 0.1478947\ttotal: 949ms\tremaining: 1.61s\n",
      "371:\tlearn: 0.1476971\ttotal: 952ms\tremaining: 1.61s\n",
      "372:\tlearn: 0.1474687\ttotal: 954ms\tremaining: 1.6s\n",
      "373:\tlearn: 0.1472475\ttotal: 956ms\tremaining: 1.6s\n"
     ]
    },
    {
     "name": "stdout",
     "output_type": "stream",
     "text": [
      "374:\tlearn: 0.1469650\ttotal: 962ms\tremaining: 1.6s\n",
      "375:\tlearn: 0.1466977\ttotal: 964ms\tremaining: 1.6s\n",
      "376:\tlearn: 0.1462468\ttotal: 967ms\tremaining: 1.6s\n",
      "377:\tlearn: 0.1459855\ttotal: 970ms\tremaining: 1.59s\n",
      "378:\tlearn: 0.1458029\ttotal: 972ms\tremaining: 1.59s\n",
      "379:\tlearn: 0.1454184\ttotal: 985ms\tremaining: 1.61s\n",
      "380:\tlearn: 0.1453258\ttotal: 988ms\tremaining: 1.6s\n",
      "381:\tlearn: 0.1451080\ttotal: 994ms\tremaining: 1.61s\n",
      "382:\tlearn: 0.1448524\ttotal: 997ms\tremaining: 1.6s\n",
      "383:\tlearn: 0.1445957\ttotal: 999ms\tremaining: 1.6s\n",
      "384:\tlearn: 0.1444180\ttotal: 1s\tremaining: 1.6s\n",
      "385:\tlearn: 0.1439190\ttotal: 1s\tremaining: 1.6s\n",
      "386:\tlearn: 0.1437842\ttotal: 1.01s\tremaining: 1.59s\n",
      "387:\tlearn: 0.1435832\ttotal: 1.01s\tremaining: 1.59s\n",
      "388:\tlearn: 0.1434517\ttotal: 1.01s\tremaining: 1.59s\n",
      "389:\tlearn: 0.1432109\ttotal: 1.01s\tremaining: 1.59s\n",
      "390:\tlearn: 0.1429368\ttotal: 1.02s\tremaining: 1.58s\n",
      "391:\tlearn: 0.1427839\ttotal: 1.02s\tremaining: 1.58s\n",
      "392:\tlearn: 0.1425801\ttotal: 1.02s\tremaining: 1.58s\n",
      "393:\tlearn: 0.1424833\ttotal: 1.02s\tremaining: 1.58s\n",
      "394:\tlearn: 0.1422056\ttotal: 1.03s\tremaining: 1.57s\n",
      "395:\tlearn: 0.1420592\ttotal: 1.03s\tremaining: 1.57s\n",
      "396:\tlearn: 0.1417989\ttotal: 1.03s\tremaining: 1.57s\n",
      "397:\tlearn: 0.1415038\ttotal: 1.04s\tremaining: 1.57s\n",
      "398:\tlearn: 0.1412055\ttotal: 1.04s\tremaining: 1.56s\n",
      "399:\tlearn: 0.1410682\ttotal: 1.04s\tremaining: 1.56s\n",
      "400:\tlearn: 0.1408499\ttotal: 1.04s\tremaining: 1.56s\n",
      "401:\tlearn: 0.1406066\ttotal: 1.04s\tremaining: 1.55s\n",
      "402:\tlearn: 0.1403982\ttotal: 1.05s\tremaining: 1.55s\n",
      "403:\tlearn: 0.1403112\ttotal: 1.05s\tremaining: 1.55s\n",
      "404:\tlearn: 0.1399667\ttotal: 1.05s\tremaining: 1.54s\n",
      "405:\tlearn: 0.1399004\ttotal: 1.05s\tremaining: 1.54s\n",
      "406:\tlearn: 0.1397568\ttotal: 1.06s\tremaining: 1.54s\n",
      "407:\tlearn: 0.1396666\ttotal: 1.06s\tremaining: 1.54s\n",
      "408:\tlearn: 0.1394802\ttotal: 1.06s\tremaining: 1.53s\n",
      "409:\tlearn: 0.1393939\ttotal: 1.06s\tremaining: 1.53s\n",
      "410:\tlearn: 0.1390746\ttotal: 1.07s\tremaining: 1.53s\n",
      "411:\tlearn: 0.1390248\ttotal: 1.07s\tremaining: 1.52s\n",
      "412:\tlearn: 0.1387855\ttotal: 1.07s\tremaining: 1.52s\n",
      "413:\tlearn: 0.1387073\ttotal: 1.07s\tremaining: 1.52s\n",
      "414:\tlearn: 0.1383706\ttotal: 1.07s\tremaining: 1.52s\n",
      "415:\tlearn: 0.1381993\ttotal: 1.08s\tremaining: 1.51s\n",
      "416:\tlearn: 0.1380865\ttotal: 1.08s\tremaining: 1.51s\n",
      "417:\tlearn: 0.1378786\ttotal: 1.08s\tremaining: 1.51s\n",
      "418:\tlearn: 0.1375192\ttotal: 1.08s\tremaining: 1.5s\n",
      "419:\tlearn: 0.1370149\ttotal: 1.09s\tremaining: 1.5s\n",
      "420:\tlearn: 0.1368367\ttotal: 1.09s\tremaining: 1.5s\n",
      "421:\tlearn: 0.1365747\ttotal: 1.09s\tremaining: 1.5s\n",
      "422:\tlearn: 0.1364414\ttotal: 1.1s\tremaining: 1.5s\n",
      "423:\tlearn: 0.1361885\ttotal: 1.1s\tremaining: 1.49s\n",
      "424:\tlearn: 0.1361146\ttotal: 1.1s\tremaining: 1.49s\n",
      "425:\tlearn: 0.1360291\ttotal: 1.1s\tremaining: 1.49s\n",
      "426:\tlearn: 0.1359098\ttotal: 1.11s\tremaining: 1.49s\n",
      "427:\tlearn: 0.1357782\ttotal: 1.11s\tremaining: 1.48s\n",
      "428:\tlearn: 0.1357209\ttotal: 1.11s\tremaining: 1.48s\n",
      "429:\tlearn: 0.1352535\ttotal: 1.11s\tremaining: 1.48s\n",
      "430:\tlearn: 0.1350912\ttotal: 1.11s\tremaining: 1.47s\n",
      "431:\tlearn: 0.1346099\ttotal: 1.12s\tremaining: 1.47s\n",
      "432:\tlearn: 0.1342201\ttotal: 1.12s\tremaining: 1.47s\n",
      "433:\tlearn: 0.1341364\ttotal: 1.13s\tremaining: 1.47s\n",
      "434:\tlearn: 0.1339014\ttotal: 1.13s\tremaining: 1.46s\n",
      "435:\tlearn: 0.1337903\ttotal: 1.13s\tremaining: 1.46s\n",
      "436:\tlearn: 0.1337079\ttotal: 1.13s\tremaining: 1.46s\n",
      "437:\tlearn: 0.1335173\ttotal: 1.13s\tremaining: 1.46s\n",
      "438:\tlearn: 0.1333774\ttotal: 1.14s\tremaining: 1.45s\n",
      "439:\tlearn: 0.1333265\ttotal: 1.14s\tremaining: 1.45s\n",
      "440:\tlearn: 0.1329474\ttotal: 1.14s\tremaining: 1.45s\n",
      "441:\tlearn: 0.1328467\ttotal: 1.14s\tremaining: 1.44s\n",
      "442:\tlearn: 0.1327689\ttotal: 1.15s\tremaining: 1.44s\n",
      "443:\tlearn: 0.1326229\ttotal: 1.15s\tremaining: 1.44s\n",
      "444:\tlearn: 0.1324470\ttotal: 1.15s\tremaining: 1.44s\n",
      "445:\tlearn: 0.1323568\ttotal: 1.15s\tremaining: 1.43s\n",
      "446:\tlearn: 0.1321800\ttotal: 1.16s\tremaining: 1.43s\n",
      "447:\tlearn: 0.1317254\ttotal: 1.16s\tremaining: 1.43s\n",
      "448:\tlearn: 0.1314498\ttotal: 1.16s\tremaining: 1.42s\n",
      "449:\tlearn: 0.1312113\ttotal: 1.16s\tremaining: 1.42s\n",
      "450:\tlearn: 0.1308994\ttotal: 1.16s\tremaining: 1.42s\n",
      "451:\tlearn: 0.1307915\ttotal: 1.17s\tremaining: 1.42s\n",
      "452:\tlearn: 0.1307042\ttotal: 1.17s\tremaining: 1.41s\n",
      "453:\tlearn: 0.1305352\ttotal: 1.17s\tremaining: 1.41s\n",
      "454:\tlearn: 0.1303672\ttotal: 1.17s\tremaining: 1.41s\n",
      "455:\tlearn: 0.1301078\ttotal: 1.18s\tremaining: 1.41s\n",
      "456:\tlearn: 0.1300067\ttotal: 1.18s\tremaining: 1.4s\n",
      "457:\tlearn: 0.1298332\ttotal: 1.18s\tremaining: 1.4s\n",
      "458:\tlearn: 0.1297143\ttotal: 1.19s\tremaining: 1.4s\n",
      "459:\tlearn: 0.1295723\ttotal: 1.19s\tremaining: 1.39s\n",
      "460:\tlearn: 0.1294739\ttotal: 1.19s\tremaining: 1.39s\n",
      "461:\tlearn: 0.1290586\ttotal: 1.19s\tremaining: 1.39s\n",
      "462:\tlearn: 0.1287129\ttotal: 1.19s\tremaining: 1.39s\n",
      "463:\tlearn: 0.1285107\ttotal: 1.2s\tremaining: 1.38s\n",
      "464:\tlearn: 0.1281391\ttotal: 1.2s\tremaining: 1.38s\n",
      "465:\tlearn: 0.1280068\ttotal: 1.2s\tremaining: 1.38s\n",
      "466:\tlearn: 0.1279249\ttotal: 1.2s\tremaining: 1.37s\n",
      "467:\tlearn: 0.1278030\ttotal: 1.21s\tremaining: 1.37s\n",
      "468:\tlearn: 0.1276613\ttotal: 1.21s\tremaining: 1.37s\n",
      "469:\tlearn: 0.1274984\ttotal: 1.21s\tremaining: 1.37s\n",
      "470:\tlearn: 0.1274077\ttotal: 1.21s\tremaining: 1.36s\n",
      "471:\tlearn: 0.1273423\ttotal: 1.22s\tremaining: 1.36s\n",
      "472:\tlearn: 0.1271209\ttotal: 1.22s\tremaining: 1.36s\n",
      "473:\tlearn: 0.1270326\ttotal: 1.22s\tremaining: 1.36s\n",
      "474:\tlearn: 0.1267064\ttotal: 1.22s\tremaining: 1.35s\n",
      "475:\tlearn: 0.1263333\ttotal: 1.23s\tremaining: 1.35s\n",
      "476:\tlearn: 0.1261951\ttotal: 1.23s\tremaining: 1.35s\n",
      "477:\tlearn: 0.1258862\ttotal: 1.23s\tremaining: 1.34s\n",
      "478:\tlearn: 0.1254469\ttotal: 1.23s\tremaining: 1.34s\n",
      "479:\tlearn: 0.1253767\ttotal: 1.24s\tremaining: 1.34s\n",
      "480:\tlearn: 0.1252447\ttotal: 1.24s\tremaining: 1.33s\n",
      "481:\tlearn: 0.1250500\ttotal: 1.24s\tremaining: 1.33s\n",
      "482:\tlearn: 0.1246432\ttotal: 1.24s\tremaining: 1.33s\n",
      "483:\tlearn: 0.1244988\ttotal: 1.24s\tremaining: 1.33s\n",
      "484:\tlearn: 0.1243507\ttotal: 1.25s\tremaining: 1.32s\n",
      "485:\tlearn: 0.1240579\ttotal: 1.25s\tremaining: 1.32s\n",
      "486:\tlearn: 0.1240057\ttotal: 1.25s\tremaining: 1.32s\n",
      "487:\tlearn: 0.1236895\ttotal: 1.25s\tremaining: 1.32s\n",
      "488:\tlearn: 0.1234159\ttotal: 1.26s\tremaining: 1.31s\n",
      "489:\tlearn: 0.1231515\ttotal: 1.26s\tremaining: 1.31s\n",
      "490:\tlearn: 0.1229652\ttotal: 1.26s\tremaining: 1.31s\n",
      "491:\tlearn: 0.1228042\ttotal: 1.26s\tremaining: 1.3s\n",
      "492:\tlearn: 0.1226974\ttotal: 1.27s\tremaining: 1.3s\n",
      "493:\tlearn: 0.1225923\ttotal: 1.27s\tremaining: 1.3s\n",
      "494:\tlearn: 0.1225346\ttotal: 1.27s\tremaining: 1.3s\n",
      "495:\tlearn: 0.1224849\ttotal: 1.27s\tremaining: 1.29s\n",
      "496:\tlearn: 0.1224049\ttotal: 1.27s\tremaining: 1.29s\n",
      "497:\tlearn: 0.1222276\ttotal: 1.28s\tremaining: 1.29s\n",
      "498:\tlearn: 0.1221798\ttotal: 1.28s\tremaining: 1.28s\n",
      "499:\tlearn: 0.1221270\ttotal: 1.28s\tremaining: 1.28s\n",
      "500:\tlearn: 0.1219863\ttotal: 1.28s\tremaining: 1.28s\n",
      "501:\tlearn: 0.1216159\ttotal: 1.29s\tremaining: 1.28s\n",
      "502:\tlearn: 0.1215503\ttotal: 1.29s\tremaining: 1.27s\n",
      "503:\tlearn: 0.1213891\ttotal: 1.29s\tremaining: 1.27s\n",
      "504:\tlearn: 0.1213306\ttotal: 1.29s\tremaining: 1.27s\n",
      "505:\tlearn: 0.1211764\ttotal: 1.3s\tremaining: 1.26s\n",
      "506:\tlearn: 0.1210797\ttotal: 1.3s\tremaining: 1.26s\n",
      "507:\tlearn: 0.1210349\ttotal: 1.3s\tremaining: 1.26s\n",
      "508:\tlearn: 0.1209893\ttotal: 1.3s\tremaining: 1.26s\n",
      "509:\tlearn: 0.1208506\ttotal: 1.31s\tremaining: 1.25s\n",
      "510:\tlearn: 0.1206666\ttotal: 1.31s\tremaining: 1.25s\n",
      "511:\tlearn: 0.1204173\ttotal: 1.31s\tremaining: 1.25s\n",
      "512:\tlearn: 0.1203537\ttotal: 1.31s\tremaining: 1.25s\n",
      "513:\tlearn: 0.1203021\ttotal: 1.31s\tremaining: 1.24s\n",
      "514:\tlearn: 0.1200027\ttotal: 1.32s\tremaining: 1.24s\n",
      "515:\tlearn: 0.1199462\ttotal: 1.32s\tremaining: 1.24s\n",
      "516:\tlearn: 0.1197356\ttotal: 1.32s\tremaining: 1.23s\n",
      "517:\tlearn: 0.1196924\ttotal: 1.32s\tremaining: 1.23s\n",
      "518:\tlearn: 0.1196482\ttotal: 1.33s\tremaining: 1.23s\n",
      "519:\tlearn: 0.1194385\ttotal: 1.33s\tremaining: 1.23s\n",
      "520:\tlearn: 0.1192674\ttotal: 1.33s\tremaining: 1.22s\n",
      "521:\tlearn: 0.1191496\ttotal: 1.33s\tremaining: 1.22s\n",
      "522:\tlearn: 0.1188562\ttotal: 1.34s\tremaining: 1.22s\n",
      "523:\tlearn: 0.1186899\ttotal: 1.34s\tremaining: 1.22s\n",
      "524:\tlearn: 0.1184994\ttotal: 1.34s\tremaining: 1.21s\n",
      "525:\tlearn: 0.1184588\ttotal: 1.34s\tremaining: 1.21s\n",
      "526:\tlearn: 0.1182973\ttotal: 1.34s\tremaining: 1.21s\n",
      "527:\tlearn: 0.1181284\ttotal: 1.35s\tremaining: 1.2s\n",
      "528:\tlearn: 0.1179003\ttotal: 1.35s\tremaining: 1.2s\n",
      "529:\tlearn: 0.1178612\ttotal: 1.35s\tremaining: 1.2s\n",
      "530:\tlearn: 0.1175641\ttotal: 1.36s\tremaining: 1.2s\n",
      "531:\tlearn: 0.1174762\ttotal: 1.36s\tremaining: 1.2s\n",
      "532:\tlearn: 0.1174380\ttotal: 1.36s\tremaining: 1.19s\n",
      "533:\tlearn: 0.1173776\ttotal: 1.36s\tremaining: 1.19s\n",
      "534:\tlearn: 0.1171947\ttotal: 1.37s\tremaining: 1.19s\n",
      "535:\tlearn: 0.1170132\ttotal: 1.37s\tremaining: 1.18s\n",
      "536:\tlearn: 0.1168716\ttotal: 1.37s\tremaining: 1.18s\n",
      "537:\tlearn: 0.1167619\ttotal: 1.37s\tremaining: 1.18s\n",
      "538:\tlearn: 0.1166877\ttotal: 1.38s\tremaining: 1.18s\n",
      "539:\tlearn: 0.1166466\ttotal: 1.38s\tremaining: 1.17s\n",
      "540:\tlearn: 0.1166068\ttotal: 1.38s\tremaining: 1.17s\n",
      "541:\tlearn: 0.1164501\ttotal: 1.38s\tremaining: 1.17s\n",
      "542:\tlearn: 0.1162268\ttotal: 1.38s\tremaining: 1.17s\n",
      "543:\tlearn: 0.1161823\ttotal: 1.39s\tremaining: 1.16s\n",
      "544:\tlearn: 0.1161322\ttotal: 1.39s\tremaining: 1.16s\n",
      "545:\tlearn: 0.1160790\ttotal: 1.39s\tremaining: 1.16s\n",
      "546:\tlearn: 0.1160359\ttotal: 1.39s\tremaining: 1.15s\n",
      "547:\tlearn: 0.1158393\ttotal: 1.4s\tremaining: 1.15s\n",
      "548:\tlearn: 0.1156893\ttotal: 1.4s\tremaining: 1.15s\n",
      "549:\tlearn: 0.1155650\ttotal: 1.4s\tremaining: 1.15s\n",
      "550:\tlearn: 0.1154599\ttotal: 1.4s\tremaining: 1.14s\n",
      "551:\tlearn: 0.1154222\ttotal: 1.41s\tremaining: 1.14s\n",
      "552:\tlearn: 0.1153741\ttotal: 1.41s\tremaining: 1.14s\n",
      "553:\tlearn: 0.1152886\ttotal: 1.41s\tremaining: 1.14s\n",
      "554:\tlearn: 0.1149827\ttotal: 1.41s\tremaining: 1.13s\n",
      "555:\tlearn: 0.1148496\ttotal: 1.42s\tremaining: 1.13s\n",
      "556:\tlearn: 0.1146951\ttotal: 1.42s\tremaining: 1.13s\n",
      "557:\tlearn: 0.1146546\ttotal: 1.42s\tremaining: 1.13s\n",
      "558:\tlearn: 0.1145547\ttotal: 1.42s\tremaining: 1.12s\n",
      "559:\tlearn: 0.1144572\ttotal: 1.43s\tremaining: 1.12s\n",
      "560:\tlearn: 0.1144076\ttotal: 1.43s\tremaining: 1.12s\n",
      "561:\tlearn: 0.1142611\ttotal: 1.43s\tremaining: 1.11s\n",
      "562:\tlearn: 0.1141297\ttotal: 1.43s\tremaining: 1.11s\n",
      "563:\tlearn: 0.1140538\ttotal: 1.44s\tremaining: 1.11s\n",
      "564:\tlearn: 0.1139450\ttotal: 1.44s\tremaining: 1.11s\n",
      "565:\tlearn: 0.1138057\ttotal: 1.44s\tremaining: 1.1s\n"
     ]
    },
    {
     "name": "stdout",
     "output_type": "stream",
     "text": [
      "566:\tlearn: 0.1136860\ttotal: 1.44s\tremaining: 1.1s\n",
      "567:\tlearn: 0.1134895\ttotal: 1.45s\tremaining: 1.1s\n",
      "568:\tlearn: 0.1134226\ttotal: 1.45s\tremaining: 1.1s\n",
      "569:\tlearn: 0.1133784\ttotal: 1.45s\tremaining: 1.1s\n",
      "570:\tlearn: 0.1133400\ttotal: 1.46s\tremaining: 1.09s\n",
      "571:\tlearn: 0.1133043\ttotal: 1.46s\tremaining: 1.09s\n",
      "572:\tlearn: 0.1132295\ttotal: 1.46s\tremaining: 1.09s\n",
      "573:\tlearn: 0.1131924\ttotal: 1.46s\tremaining: 1.09s\n",
      "574:\tlearn: 0.1129675\ttotal: 1.47s\tremaining: 1.08s\n",
      "575:\tlearn: 0.1126757\ttotal: 1.47s\tremaining: 1.08s\n",
      "576:\tlearn: 0.1126410\ttotal: 1.47s\tremaining: 1.08s\n",
      "577:\tlearn: 0.1124997\ttotal: 1.47s\tremaining: 1.08s\n",
      "578:\tlearn: 0.1123856\ttotal: 1.48s\tremaining: 1.07s\n",
      "579:\tlearn: 0.1123439\ttotal: 1.48s\tremaining: 1.07s\n",
      "580:\tlearn: 0.1121035\ttotal: 1.48s\tremaining: 1.07s\n",
      "581:\tlearn: 0.1119694\ttotal: 1.48s\tremaining: 1.06s\n",
      "582:\tlearn: 0.1118185\ttotal: 1.49s\tremaining: 1.06s\n",
      "583:\tlearn: 0.1117725\ttotal: 1.49s\tremaining: 1.06s\n",
      "584:\tlearn: 0.1115305\ttotal: 1.49s\tremaining: 1.06s\n",
      "585:\tlearn: 0.1113565\ttotal: 1.49s\tremaining: 1.05s\n",
      "586:\tlearn: 0.1111629\ttotal: 1.5s\tremaining: 1.05s\n",
      "587:\tlearn: 0.1111271\ttotal: 1.5s\tremaining: 1.05s\n",
      "588:\tlearn: 0.1108643\ttotal: 1.5s\tremaining: 1.05s\n",
      "589:\tlearn: 0.1107317\ttotal: 1.5s\tremaining: 1.04s\n",
      "590:\tlearn: 0.1106885\ttotal: 1.51s\tremaining: 1.04s\n",
      "591:\tlearn: 0.1105795\ttotal: 1.51s\tremaining: 1.04s\n",
      "592:\tlearn: 0.1105451\ttotal: 1.51s\tremaining: 1.04s\n",
      "593:\tlearn: 0.1103980\ttotal: 1.51s\tremaining: 1.03s\n",
      "594:\tlearn: 0.1103546\ttotal: 1.51s\tremaining: 1.03s\n",
      "595:\tlearn: 0.1101071\ttotal: 1.52s\tremaining: 1.03s\n",
      "596:\tlearn: 0.1100362\ttotal: 1.52s\tremaining: 1.02s\n",
      "597:\tlearn: 0.1096769\ttotal: 1.52s\tremaining: 1.02s\n",
      "598:\tlearn: 0.1096366\ttotal: 1.52s\tremaining: 1.02s\n",
      "599:\tlearn: 0.1095958\ttotal: 1.52s\tremaining: 1.02s\n",
      "600:\tlearn: 0.1095629\ttotal: 1.53s\tremaining: 1.01s\n",
      "601:\tlearn: 0.1094574\ttotal: 1.53s\tremaining: 1.01s\n",
      "602:\tlearn: 0.1092689\ttotal: 1.53s\tremaining: 1.01s\n",
      "603:\tlearn: 0.1091910\ttotal: 1.53s\tremaining: 1.01s\n",
      "604:\tlearn: 0.1091479\ttotal: 1.54s\tremaining: 1s\n",
      "605:\tlearn: 0.1090515\ttotal: 1.54s\tremaining: 1s\n",
      "606:\tlearn: 0.1089795\ttotal: 1.54s\tremaining: 998ms\n",
      "607:\tlearn: 0.1086803\ttotal: 1.54s\tremaining: 995ms\n",
      "608:\tlearn: 0.1086368\ttotal: 1.54s\tremaining: 992ms\n",
      "609:\tlearn: 0.1085492\ttotal: 1.55s\tremaining: 990ms\n",
      "610:\tlearn: 0.1085027\ttotal: 1.55s\tremaining: 987ms\n",
      "611:\tlearn: 0.1084716\ttotal: 1.55s\tremaining: 984ms\n",
      "612:\tlearn: 0.1083690\ttotal: 1.55s\tremaining: 982ms\n",
      "613:\tlearn: 0.1082271\ttotal: 1.56s\tremaining: 979ms\n",
      "614:\tlearn: 0.1081055\ttotal: 1.56s\tremaining: 976ms\n",
      "615:\tlearn: 0.1079908\ttotal: 1.56s\tremaining: 974ms\n",
      "616:\tlearn: 0.1079406\ttotal: 1.56s\tremaining: 971ms\n",
      "617:\tlearn: 0.1077817\ttotal: 1.57s\tremaining: 969ms\n",
      "618:\tlearn: 0.1077135\ttotal: 1.57s\tremaining: 966ms\n",
      "619:\tlearn: 0.1075424\ttotal: 1.57s\tremaining: 963ms\n",
      "620:\tlearn: 0.1074234\ttotal: 1.57s\tremaining: 961ms\n",
      "621:\tlearn: 0.1073031\ttotal: 1.58s\tremaining: 958ms\n",
      "622:\tlearn: 0.1072040\ttotal: 1.58s\tremaining: 955ms\n",
      "623:\tlearn: 0.1071610\ttotal: 1.58s\tremaining: 952ms\n",
      "624:\tlearn: 0.1071238\ttotal: 1.58s\tremaining: 949ms\n",
      "625:\tlearn: 0.1070257\ttotal: 1.58s\tremaining: 947ms\n",
      "626:\tlearn: 0.1068234\ttotal: 1.59s\tremaining: 944ms\n",
      "627:\tlearn: 0.1065752\ttotal: 1.59s\tremaining: 941ms\n",
      "628:\tlearn: 0.1065160\ttotal: 1.59s\tremaining: 940ms\n",
      "629:\tlearn: 0.1064124\ttotal: 1.59s\tremaining: 937ms\n",
      "630:\tlearn: 0.1063751\ttotal: 1.6s\tremaining: 934ms\n",
      "631:\tlearn: 0.1063085\ttotal: 1.6s\tremaining: 931ms\n",
      "632:\tlearn: 0.1060758\ttotal: 1.6s\tremaining: 929ms\n",
      "633:\tlearn: 0.1059327\ttotal: 1.6s\tremaining: 926ms\n",
      "634:\tlearn: 0.1058697\ttotal: 1.61s\tremaining: 923ms\n",
      "635:\tlearn: 0.1058225\ttotal: 1.61s\tremaining: 920ms\n",
      "636:\tlearn: 0.1057282\ttotal: 1.61s\tremaining: 918ms\n",
      "637:\tlearn: 0.1055354\ttotal: 1.61s\tremaining: 916ms\n",
      "638:\tlearn: 0.1054997\ttotal: 1.62s\tremaining: 913ms\n",
      "639:\tlearn: 0.1054701\ttotal: 1.62s\tremaining: 911ms\n",
      "640:\tlearn: 0.1053359\ttotal: 1.62s\tremaining: 908ms\n",
      "641:\tlearn: 0.1051088\ttotal: 1.62s\tremaining: 905ms\n",
      "642:\tlearn: 0.1050798\ttotal: 1.63s\tremaining: 903ms\n",
      "643:\tlearn: 0.1050412\ttotal: 1.63s\tremaining: 900ms\n",
      "644:\tlearn: 0.1047613\ttotal: 1.63s\tremaining: 897ms\n",
      "645:\tlearn: 0.1044799\ttotal: 1.63s\tremaining: 895ms\n",
      "646:\tlearn: 0.1042500\ttotal: 1.63s\tremaining: 892ms\n",
      "647:\tlearn: 0.1041967\ttotal: 1.64s\tremaining: 889ms\n",
      "648:\tlearn: 0.1041653\ttotal: 1.64s\tremaining: 887ms\n",
      "649:\tlearn: 0.1041059\ttotal: 1.64s\tremaining: 884ms\n",
      "650:\tlearn: 0.1040773\ttotal: 1.64s\tremaining: 881ms\n",
      "651:\tlearn: 0.1039866\ttotal: 1.65s\tremaining: 879ms\n",
      "652:\tlearn: 0.1038775\ttotal: 1.65s\tremaining: 876ms\n",
      "653:\tlearn: 0.1036062\ttotal: 1.65s\tremaining: 874ms\n",
      "654:\tlearn: 0.1034908\ttotal: 1.66s\tremaining: 872ms\n",
      "655:\tlearn: 0.1034312\ttotal: 1.66s\tremaining: 869ms\n",
      "656:\tlearn: 0.1033758\ttotal: 1.66s\tremaining: 867ms\n",
      "657:\tlearn: 0.1032707\ttotal: 1.66s\tremaining: 864ms\n",
      "658:\tlearn: 0.1032397\ttotal: 1.66s\tremaining: 861ms\n",
      "659:\tlearn: 0.1032022\ttotal: 1.67s\tremaining: 859ms\n",
      "660:\tlearn: 0.1031740\ttotal: 1.67s\tremaining: 856ms\n",
      "661:\tlearn: 0.1030078\ttotal: 1.67s\tremaining: 853ms\n",
      "662:\tlearn: 0.1028970\ttotal: 1.67s\tremaining: 850ms\n",
      "663:\tlearn: 0.1028678\ttotal: 1.68s\tremaining: 849ms\n",
      "664:\tlearn: 0.1027030\ttotal: 1.68s\tremaining: 846ms\n",
      "665:\tlearn: 0.1026548\ttotal: 1.68s\tremaining: 844ms\n",
      "666:\tlearn: 0.1026289\ttotal: 1.68s\tremaining: 841ms\n",
      "667:\tlearn: 0.1023675\ttotal: 1.69s\tremaining: 838ms\n",
      "668:\tlearn: 0.1021158\ttotal: 1.69s\tremaining: 836ms\n",
      "669:\tlearn: 0.1020860\ttotal: 1.69s\tremaining: 833ms\n",
      "670:\tlearn: 0.1019711\ttotal: 1.69s\tremaining: 830ms\n",
      "671:\tlearn: 0.1019566\ttotal: 1.7s\tremaining: 828ms\n",
      "672:\tlearn: 0.1018271\ttotal: 1.7s\tremaining: 825ms\n",
      "673:\tlearn: 0.1017321\ttotal: 1.7s\tremaining: 822ms\n",
      "674:\tlearn: 0.1016585\ttotal: 1.7s\tremaining: 819ms\n",
      "675:\tlearn: 0.1016363\ttotal: 1.71s\tremaining: 817ms\n",
      "676:\tlearn: 0.1015362\ttotal: 1.71s\tremaining: 815ms\n",
      "677:\tlearn: 0.1014621\ttotal: 1.71s\tremaining: 812ms\n",
      "678:\tlearn: 0.1013243\ttotal: 1.71s\tremaining: 809ms\n",
      "679:\tlearn: 0.1010781\ttotal: 1.71s\tremaining: 807ms\n",
      "680:\tlearn: 0.1008411\ttotal: 1.72s\tremaining: 804ms\n",
      "681:\tlearn: 0.1007097\ttotal: 1.72s\tremaining: 801ms\n",
      "682:\tlearn: 0.1005832\ttotal: 1.72s\tremaining: 799ms\n",
      "683:\tlearn: 0.1004784\ttotal: 1.72s\tremaining: 796ms\n",
      "684:\tlearn: 0.1003601\ttotal: 1.73s\tremaining: 793ms\n",
      "685:\tlearn: 0.1002592\ttotal: 1.73s\tremaining: 791ms\n",
      "686:\tlearn: 0.1000442\ttotal: 1.73s\tremaining: 788ms\n",
      "687:\tlearn: 0.1000148\ttotal: 1.73s\tremaining: 785ms\n",
      "688:\tlearn: 0.0998459\ttotal: 1.73s\tremaining: 783ms\n",
      "689:\tlearn: 0.0997883\ttotal: 1.74s\tremaining: 781ms\n",
      "690:\tlearn: 0.0997531\ttotal: 1.74s\tremaining: 778ms\n",
      "691:\tlearn: 0.0997211\ttotal: 1.74s\tremaining: 775ms\n",
      "692:\tlearn: 0.0995991\ttotal: 1.74s\tremaining: 772ms\n",
      "693:\tlearn: 0.0992198\ttotal: 1.75s\tremaining: 770ms\n",
      "694:\tlearn: 0.0991737\ttotal: 1.75s\tremaining: 767ms\n",
      "695:\tlearn: 0.0990401\ttotal: 1.75s\tremaining: 764ms\n",
      "696:\tlearn: 0.0990012\ttotal: 1.75s\tremaining: 762ms\n",
      "697:\tlearn: 0.0988270\ttotal: 1.75s\tremaining: 759ms\n",
      "698:\tlearn: 0.0987089\ttotal: 1.76s\tremaining: 756ms\n",
      "699:\tlearn: 0.0985128\ttotal: 1.76s\tremaining: 754ms\n",
      "700:\tlearn: 0.0984645\ttotal: 1.76s\tremaining: 751ms\n",
      "701:\tlearn: 0.0984417\ttotal: 1.76s\tremaining: 749ms\n",
      "702:\tlearn: 0.0984087\ttotal: 1.77s\tremaining: 746ms\n",
      "703:\tlearn: 0.0983904\ttotal: 1.77s\tremaining: 744ms\n",
      "704:\tlearn: 0.0982235\ttotal: 1.77s\tremaining: 741ms\n",
      "705:\tlearn: 0.0980365\ttotal: 1.77s\tremaining: 739ms\n",
      "706:\tlearn: 0.0980189\ttotal: 1.78s\tremaining: 736ms\n",
      "707:\tlearn: 0.0978597\ttotal: 1.78s\tremaining: 734ms\n",
      "708:\tlearn: 0.0977940\ttotal: 1.78s\tremaining: 731ms\n",
      "709:\tlearn: 0.0976750\ttotal: 1.78s\tremaining: 728ms\n",
      "710:\tlearn: 0.0975461\ttotal: 1.78s\tremaining: 726ms\n",
      "711:\tlearn: 0.0974949\ttotal: 1.79s\tremaining: 723ms\n",
      "712:\tlearn: 0.0973764\ttotal: 1.79s\tremaining: 720ms\n",
      "713:\tlearn: 0.0972450\ttotal: 1.79s\tremaining: 718ms\n",
      "714:\tlearn: 0.0971842\ttotal: 1.79s\tremaining: 716ms\n",
      "715:\tlearn: 0.0970580\ttotal: 1.8s\tremaining: 713ms\n",
      "716:\tlearn: 0.0968165\ttotal: 1.8s\tremaining: 710ms\n",
      "717:\tlearn: 0.0967095\ttotal: 1.8s\tremaining: 708ms\n",
      "718:\tlearn: 0.0966455\ttotal: 1.8s\tremaining: 705ms\n",
      "719:\tlearn: 0.0965509\ttotal: 1.81s\tremaining: 703ms\n",
      "720:\tlearn: 0.0964382\ttotal: 1.81s\tremaining: 700ms\n",
      "721:\tlearn: 0.0962645\ttotal: 1.81s\tremaining: 697ms\n",
      "722:\tlearn: 0.0962306\ttotal: 1.81s\tremaining: 695ms\n",
      "723:\tlearn: 0.0961460\ttotal: 1.81s\tremaining: 692ms\n",
      "724:\tlearn: 0.0960659\ttotal: 1.82s\tremaining: 690ms\n",
      "725:\tlearn: 0.0959577\ttotal: 1.82s\tremaining: 687ms\n",
      "726:\tlearn: 0.0957927\ttotal: 1.82s\tremaining: 685ms\n",
      "727:\tlearn: 0.0956631\ttotal: 1.82s\tremaining: 682ms\n",
      "728:\tlearn: 0.0956048\ttotal: 1.83s\tremaining: 679ms\n",
      "729:\tlearn: 0.0955156\ttotal: 1.83s\tremaining: 677ms\n",
      "730:\tlearn: 0.0954127\ttotal: 1.83s\tremaining: 674ms\n",
      "731:\tlearn: 0.0953492\ttotal: 1.83s\tremaining: 672ms\n",
      "732:\tlearn: 0.0953230\ttotal: 1.84s\tremaining: 669ms\n",
      "733:\tlearn: 0.0952253\ttotal: 1.84s\tremaining: 667ms\n",
      "734:\tlearn: 0.0949717\ttotal: 1.84s\tremaining: 664ms\n",
      "735:\tlearn: 0.0947380\ttotal: 1.84s\tremaining: 661ms\n",
      "736:\tlearn: 0.0946711\ttotal: 1.85s\tremaining: 659ms\n",
      "737:\tlearn: 0.0946031\ttotal: 1.85s\tremaining: 657ms\n",
      "738:\tlearn: 0.0945555\ttotal: 1.85s\tremaining: 654ms\n",
      "739:\tlearn: 0.0944883\ttotal: 1.85s\tremaining: 651ms\n",
      "740:\tlearn: 0.0944309\ttotal: 1.86s\tremaining: 649ms\n",
      "741:\tlearn: 0.0941719\ttotal: 1.86s\tremaining: 649ms\n",
      "742:\tlearn: 0.0940685\ttotal: 1.87s\tremaining: 646ms\n",
      "743:\tlearn: 0.0938905\ttotal: 1.87s\tremaining: 643ms\n",
      "744:\tlearn: 0.0936683\ttotal: 1.87s\tremaining: 641ms\n",
      "745:\tlearn: 0.0935950\ttotal: 1.88s\tremaining: 638ms\n",
      "746:\tlearn: 0.0934883\ttotal: 1.88s\tremaining: 636ms\n",
      "747:\tlearn: 0.0931764\ttotal: 1.88s\tremaining: 633ms\n",
      "748:\tlearn: 0.0931141\ttotal: 1.88s\tremaining: 631ms\n",
      "749:\tlearn: 0.0928129\ttotal: 1.88s\tremaining: 628ms\n",
      "750:\tlearn: 0.0926079\ttotal: 1.89s\tremaining: 626ms\n",
      "751:\tlearn: 0.0924757\ttotal: 1.89s\tremaining: 623ms\n",
      "752:\tlearn: 0.0923866\ttotal: 1.89s\tremaining: 620ms\n",
      "753:\tlearn: 0.0923042\ttotal: 1.89s\tremaining: 618ms\n",
      "754:\tlearn: 0.0921095\ttotal: 1.9s\tremaining: 615ms\n",
      "755:\tlearn: 0.0919976\ttotal: 1.9s\tremaining: 613ms\n",
      "756:\tlearn: 0.0919435\ttotal: 1.9s\tremaining: 610ms\n",
      "757:\tlearn: 0.0918042\ttotal: 1.9s\tremaining: 608ms\n",
      "758:\tlearn: 0.0917736\ttotal: 1.91s\tremaining: 605ms\n",
      "759:\tlearn: 0.0915600\ttotal: 1.91s\tremaining: 602ms\n",
      "760:\tlearn: 0.0912779\ttotal: 1.91s\tremaining: 600ms\n",
      "761:\tlearn: 0.0910527\ttotal: 1.91s\tremaining: 597ms\n",
      "762:\tlearn: 0.0909658\ttotal: 1.91s\tremaining: 595ms\n",
      "763:\tlearn: 0.0908592\ttotal: 1.92s\tremaining: 592ms\n",
      "764:\tlearn: 0.0907487\ttotal: 1.92s\tremaining: 589ms\n",
      "765:\tlearn: 0.0906875\ttotal: 1.92s\tremaining: 587ms\n",
      "766:\tlearn: 0.0904895\ttotal: 1.92s\tremaining: 584ms\n"
     ]
    },
    {
     "name": "stdout",
     "output_type": "stream",
     "text": [
      "767:\tlearn: 0.0904611\ttotal: 1.93s\tremaining: 582ms\n",
      "768:\tlearn: 0.0902705\ttotal: 1.93s\tremaining: 579ms\n",
      "769:\tlearn: 0.0901665\ttotal: 1.93s\tremaining: 577ms\n",
      "770:\tlearn: 0.0899851\ttotal: 1.93s\tremaining: 575ms\n",
      "771:\tlearn: 0.0897676\ttotal: 1.94s\tremaining: 572ms\n",
      "772:\tlearn: 0.0896192\ttotal: 1.94s\tremaining: 569ms\n",
      "773:\tlearn: 0.0895240\ttotal: 1.94s\tremaining: 567ms\n",
      "774:\tlearn: 0.0894205\ttotal: 1.94s\tremaining: 564ms\n",
      "775:\tlearn: 0.0893371\ttotal: 1.95s\tremaining: 562ms\n",
      "776:\tlearn: 0.0892617\ttotal: 1.95s\tremaining: 559ms\n",
      "777:\tlearn: 0.0892078\ttotal: 1.95s\tremaining: 557ms\n",
      "778:\tlearn: 0.0889961\ttotal: 1.95s\tremaining: 554ms\n",
      "779:\tlearn: 0.0888696\ttotal: 1.95s\tremaining: 551ms\n",
      "780:\tlearn: 0.0887108\ttotal: 1.96s\tremaining: 549ms\n",
      "781:\tlearn: 0.0886797\ttotal: 1.96s\tremaining: 547ms\n",
      "782:\tlearn: 0.0886488\ttotal: 1.96s\tremaining: 544ms\n",
      "783:\tlearn: 0.0885663\ttotal: 1.96s\tremaining: 541ms\n",
      "784:\tlearn: 0.0885403\ttotal: 1.97s\tremaining: 539ms\n",
      "785:\tlearn: 0.0883305\ttotal: 1.97s\tremaining: 536ms\n",
      "786:\tlearn: 0.0880698\ttotal: 1.97s\tremaining: 534ms\n",
      "787:\tlearn: 0.0879792\ttotal: 1.97s\tremaining: 531ms\n",
      "788:\tlearn: 0.0879251\ttotal: 1.98s\tremaining: 528ms\n",
      "789:\tlearn: 0.0878381\ttotal: 1.98s\tremaining: 526ms\n",
      "790:\tlearn: 0.0877627\ttotal: 1.98s\tremaining: 523ms\n",
      "791:\tlearn: 0.0876722\ttotal: 1.98s\tremaining: 521ms\n",
      "792:\tlearn: 0.0875703\ttotal: 1.99s\tremaining: 518ms\n",
      "793:\tlearn: 0.0873192\ttotal: 1.99s\tremaining: 516ms\n",
      "794:\tlearn: 0.0872719\ttotal: 1.99s\tremaining: 513ms\n",
      "795:\tlearn: 0.0870598\ttotal: 1.99s\tremaining: 511ms\n",
      "796:\tlearn: 0.0869720\ttotal: 1.99s\tremaining: 508ms\n",
      "797:\tlearn: 0.0869138\ttotal: 2s\tremaining: 505ms\n",
      "798:\tlearn: 0.0868300\ttotal: 2s\tremaining: 503ms\n",
      "799:\tlearn: 0.0867348\ttotal: 2s\tremaining: 500ms\n",
      "800:\tlearn: 0.0866802\ttotal: 2s\tremaining: 498ms\n",
      "801:\tlearn: 0.0866130\ttotal: 2s\tremaining: 495ms\n",
      "802:\tlearn: 0.0865065\ttotal: 2.01s\tremaining: 493ms\n",
      "803:\tlearn: 0.0864559\ttotal: 2.01s\tremaining: 490ms\n",
      "804:\tlearn: 0.0864321\ttotal: 2.01s\tremaining: 487ms\n",
      "805:\tlearn: 0.0863613\ttotal: 2.01s\tremaining: 485ms\n",
      "806:\tlearn: 0.0862960\ttotal: 2.02s\tremaining: 483ms\n",
      "807:\tlearn: 0.0862433\ttotal: 2.02s\tremaining: 480ms\n",
      "808:\tlearn: 0.0862289\ttotal: 2.02s\tremaining: 477ms\n",
      "809:\tlearn: 0.0861287\ttotal: 2.02s\tremaining: 475ms\n",
      "810:\tlearn: 0.0860796\ttotal: 2.03s\tremaining: 472ms\n",
      "811:\tlearn: 0.0860458\ttotal: 2.03s\tremaining: 470ms\n",
      "812:\tlearn: 0.0859979\ttotal: 2.03s\tremaining: 467ms\n",
      "813:\tlearn: 0.0859145\ttotal: 2.03s\tremaining: 465ms\n",
      "814:\tlearn: 0.0858132\ttotal: 2.04s\tremaining: 462ms\n",
      "815:\tlearn: 0.0857919\ttotal: 2.04s\tremaining: 460ms\n",
      "816:\tlearn: 0.0857088\ttotal: 2.04s\tremaining: 457ms\n",
      "817:\tlearn: 0.0855415\ttotal: 2.04s\tremaining: 455ms\n",
      "818:\tlearn: 0.0853299\ttotal: 2.05s\tremaining: 453ms\n",
      "819:\tlearn: 0.0852347\ttotal: 2.05s\tremaining: 450ms\n",
      "820:\tlearn: 0.0850645\ttotal: 2.05s\tremaining: 447ms\n",
      "821:\tlearn: 0.0849682\ttotal: 2.05s\tremaining: 445ms\n",
      "822:\tlearn: 0.0848748\ttotal: 2.06s\tremaining: 442ms\n",
      "823:\tlearn: 0.0847354\ttotal: 2.06s\tremaining: 440ms\n",
      "824:\tlearn: 0.0846898\ttotal: 2.06s\tremaining: 437ms\n",
      "825:\tlearn: 0.0846736\ttotal: 2.06s\tremaining: 435ms\n",
      "826:\tlearn: 0.0845858\ttotal: 2.07s\tremaining: 432ms\n",
      "827:\tlearn: 0.0844955\ttotal: 2.07s\tremaining: 430ms\n",
      "828:\tlearn: 0.0844115\ttotal: 2.07s\tremaining: 427ms\n",
      "829:\tlearn: 0.0842884\ttotal: 2.08s\tremaining: 425ms\n",
      "830:\tlearn: 0.0842390\ttotal: 2.08s\tremaining: 423ms\n",
      "831:\tlearn: 0.0841545\ttotal: 2.08s\tremaining: 420ms\n",
      "832:\tlearn: 0.0841078\ttotal: 2.08s\tremaining: 418ms\n",
      "833:\tlearn: 0.0840281\ttotal: 2.09s\tremaining: 415ms\n",
      "834:\tlearn: 0.0839804\ttotal: 2.09s\tremaining: 413ms\n",
      "835:\tlearn: 0.0839080\ttotal: 2.09s\tremaining: 410ms\n",
      "836:\tlearn: 0.0838480\ttotal: 2.09s\tremaining: 408ms\n",
      "837:\tlearn: 0.0836766\ttotal: 2.09s\tremaining: 405ms\n",
      "838:\tlearn: 0.0836462\ttotal: 2.1s\tremaining: 402ms\n",
      "839:\tlearn: 0.0834964\ttotal: 2.1s\tremaining: 400ms\n",
      "840:\tlearn: 0.0834055\ttotal: 2.1s\tremaining: 398ms\n",
      "841:\tlearn: 0.0833468\ttotal: 2.11s\tremaining: 395ms\n",
      "842:\tlearn: 0.0832782\ttotal: 2.11s\tremaining: 393ms\n",
      "843:\tlearn: 0.0832534\ttotal: 2.11s\tremaining: 390ms\n",
      "844:\tlearn: 0.0831819\ttotal: 2.11s\tremaining: 388ms\n",
      "845:\tlearn: 0.0830997\ttotal: 2.12s\tremaining: 385ms\n",
      "846:\tlearn: 0.0830101\ttotal: 2.12s\tremaining: 382ms\n",
      "847:\tlearn: 0.0829827\ttotal: 2.12s\tremaining: 380ms\n",
      "848:\tlearn: 0.0828961\ttotal: 2.12s\tremaining: 377ms\n",
      "849:\tlearn: 0.0826991\ttotal: 2.12s\tremaining: 375ms\n",
      "850:\tlearn: 0.0826062\ttotal: 2.13s\tremaining: 372ms\n",
      "851:\tlearn: 0.0825335\ttotal: 2.13s\tremaining: 370ms\n",
      "852:\tlearn: 0.0824921\ttotal: 2.13s\tremaining: 367ms\n",
      "853:\tlearn: 0.0824394\ttotal: 2.13s\tremaining: 365ms\n",
      "854:\tlearn: 0.0823442\ttotal: 2.13s\tremaining: 362ms\n",
      "855:\tlearn: 0.0822754\ttotal: 2.14s\tremaining: 360ms\n",
      "856:\tlearn: 0.0822002\ttotal: 2.14s\tremaining: 357ms\n",
      "857:\tlearn: 0.0821175\ttotal: 2.14s\tremaining: 355ms\n",
      "858:\tlearn: 0.0820810\ttotal: 2.14s\tremaining: 352ms\n",
      "859:\tlearn: 0.0819029\ttotal: 2.15s\tremaining: 350ms\n",
      "860:\tlearn: 0.0818426\ttotal: 2.15s\tremaining: 347ms\n",
      "861:\tlearn: 0.0817538\ttotal: 2.15s\tremaining: 344ms\n",
      "862:\tlearn: 0.0817319\ttotal: 2.15s\tremaining: 342ms\n",
      "863:\tlearn: 0.0816810\ttotal: 2.15s\tremaining: 339ms\n",
      "864:\tlearn: 0.0816393\ttotal: 2.16s\tremaining: 337ms\n",
      "865:\tlearn: 0.0816143\ttotal: 2.16s\tremaining: 334ms\n",
      "866:\tlearn: 0.0815423\ttotal: 2.16s\tremaining: 332ms\n",
      "867:\tlearn: 0.0814634\ttotal: 2.17s\tremaining: 329ms\n",
      "868:\tlearn: 0.0814420\ttotal: 2.17s\tremaining: 327ms\n",
      "869:\tlearn: 0.0812330\ttotal: 2.17s\tremaining: 324ms\n",
      "870:\tlearn: 0.0811466\ttotal: 2.17s\tremaining: 322ms\n",
      "871:\tlearn: 0.0809860\ttotal: 2.17s\tremaining: 319ms\n",
      "872:\tlearn: 0.0809639\ttotal: 2.18s\tremaining: 317ms\n",
      "873:\tlearn: 0.0809378\ttotal: 2.18s\tremaining: 314ms\n",
      "874:\tlearn: 0.0808861\ttotal: 2.18s\tremaining: 312ms\n",
      "875:\tlearn: 0.0808424\ttotal: 2.18s\tremaining: 309ms\n",
      "876:\tlearn: 0.0807805\ttotal: 2.18s\tremaining: 306ms\n",
      "877:\tlearn: 0.0806368\ttotal: 2.19s\tremaining: 304ms\n",
      "878:\tlearn: 0.0805481\ttotal: 2.19s\tremaining: 302ms\n",
      "879:\tlearn: 0.0805156\ttotal: 2.19s\tremaining: 299ms\n",
      "880:\tlearn: 0.0804522\ttotal: 2.19s\tremaining: 296ms\n",
      "881:\tlearn: 0.0804327\ttotal: 2.2s\tremaining: 294ms\n",
      "882:\tlearn: 0.0803807\ttotal: 2.2s\tremaining: 291ms\n",
      "883:\tlearn: 0.0803072\ttotal: 2.2s\tremaining: 289ms\n",
      "884:\tlearn: 0.0801458\ttotal: 2.2s\tremaining: 286ms\n",
      "885:\tlearn: 0.0801225\ttotal: 2.21s\tremaining: 284ms\n",
      "886:\tlearn: 0.0799672\ttotal: 2.21s\tremaining: 281ms\n",
      "887:\tlearn: 0.0798844\ttotal: 2.21s\tremaining: 279ms\n",
      "888:\tlearn: 0.0798423\ttotal: 2.21s\tremaining: 276ms\n",
      "889:\tlearn: 0.0798017\ttotal: 2.21s\tremaining: 274ms\n",
      "890:\tlearn: 0.0796728\ttotal: 2.22s\tremaining: 271ms\n",
      "891:\tlearn: 0.0796396\ttotal: 2.22s\tremaining: 269ms\n",
      "892:\tlearn: 0.0795483\ttotal: 2.22s\tremaining: 266ms\n",
      "893:\tlearn: 0.0794296\ttotal: 2.22s\tremaining: 264ms\n",
      "894:\tlearn: 0.0792715\ttotal: 2.23s\tremaining: 261ms\n",
      "895:\tlearn: 0.0791367\ttotal: 2.23s\tremaining: 259ms\n",
      "896:\tlearn: 0.0789993\ttotal: 2.23s\tremaining: 256ms\n",
      "897:\tlearn: 0.0788679\ttotal: 2.23s\tremaining: 254ms\n",
      "898:\tlearn: 0.0788381\ttotal: 2.23s\tremaining: 251ms\n",
      "899:\tlearn: 0.0786834\ttotal: 2.24s\tremaining: 249ms\n",
      "900:\tlearn: 0.0785345\ttotal: 2.24s\tremaining: 246ms\n",
      "901:\tlearn: 0.0785155\ttotal: 2.24s\tremaining: 244ms\n",
      "902:\tlearn: 0.0784439\ttotal: 2.25s\tremaining: 241ms\n",
      "903:\tlearn: 0.0784047\ttotal: 2.25s\tremaining: 239ms\n",
      "904:\tlearn: 0.0783607\ttotal: 2.25s\tremaining: 236ms\n",
      "905:\tlearn: 0.0783208\ttotal: 2.25s\tremaining: 234ms\n",
      "906:\tlearn: 0.0782894\ttotal: 2.26s\tremaining: 231ms\n",
      "907:\tlearn: 0.0781248\ttotal: 2.26s\tremaining: 229ms\n",
      "908:\tlearn: 0.0779826\ttotal: 2.26s\tremaining: 226ms\n",
      "909:\tlearn: 0.0778965\ttotal: 2.26s\tremaining: 224ms\n",
      "910:\tlearn: 0.0777667\ttotal: 2.27s\tremaining: 221ms\n",
      "911:\tlearn: 0.0776381\ttotal: 2.27s\tremaining: 219ms\n",
      "912:\tlearn: 0.0775611\ttotal: 2.27s\tremaining: 216ms\n",
      "913:\tlearn: 0.0774852\ttotal: 2.27s\tremaining: 214ms\n",
      "914:\tlearn: 0.0774240\ttotal: 2.28s\tremaining: 212ms\n",
      "915:\tlearn: 0.0772616\ttotal: 2.28s\tremaining: 209ms\n",
      "916:\tlearn: 0.0771541\ttotal: 2.28s\tremaining: 207ms\n",
      "917:\tlearn: 0.0770655\ttotal: 2.29s\tremaining: 204ms\n",
      "918:\tlearn: 0.0770291\ttotal: 2.29s\tremaining: 202ms\n",
      "919:\tlearn: 0.0769919\ttotal: 2.29s\tremaining: 199ms\n",
      "920:\tlearn: 0.0769314\ttotal: 2.29s\tremaining: 197ms\n",
      "921:\tlearn: 0.0768601\ttotal: 2.29s\tremaining: 194ms\n",
      "922:\tlearn: 0.0768328\ttotal: 2.3s\tremaining: 192ms\n",
      "923:\tlearn: 0.0768021\ttotal: 2.3s\tremaining: 189ms\n",
      "924:\tlearn: 0.0767875\ttotal: 2.3s\tremaining: 187ms\n",
      "925:\tlearn: 0.0766358\ttotal: 2.31s\tremaining: 184ms\n",
      "926:\tlearn: 0.0765250\ttotal: 2.31s\tremaining: 182ms\n",
      "927:\tlearn: 0.0764463\ttotal: 2.31s\tremaining: 179ms\n",
      "928:\tlearn: 0.0763894\ttotal: 2.31s\tremaining: 177ms\n",
      "929:\tlearn: 0.0762245\ttotal: 2.31s\tremaining: 174ms\n",
      "930:\tlearn: 0.0761415\ttotal: 2.32s\tremaining: 172ms\n",
      "931:\tlearn: 0.0761048\ttotal: 2.32s\tremaining: 169ms\n",
      "932:\tlearn: 0.0760669\ttotal: 2.32s\tremaining: 167ms\n",
      "933:\tlearn: 0.0760235\ttotal: 2.32s\tremaining: 164ms\n",
      "934:\tlearn: 0.0759780\ttotal: 2.33s\tremaining: 162ms\n",
      "935:\tlearn: 0.0759350\ttotal: 2.33s\tremaining: 159ms\n",
      "936:\tlearn: 0.0758088\ttotal: 2.33s\tremaining: 157ms\n",
      "937:\tlearn: 0.0757647\ttotal: 2.34s\tremaining: 154ms\n",
      "938:\tlearn: 0.0757280\ttotal: 2.34s\tremaining: 152ms\n",
      "939:\tlearn: 0.0756842\ttotal: 2.34s\tremaining: 149ms\n",
      "940:\tlearn: 0.0756509\ttotal: 2.34s\tremaining: 147ms\n",
      "941:\tlearn: 0.0756176\ttotal: 2.35s\tremaining: 144ms\n",
      "942:\tlearn: 0.0755887\ttotal: 2.35s\tremaining: 142ms\n",
      "943:\tlearn: 0.0755689\ttotal: 2.35s\tremaining: 139ms\n",
      "944:\tlearn: 0.0754559\ttotal: 2.35s\tremaining: 137ms\n",
      "945:\tlearn: 0.0753467\ttotal: 2.35s\tremaining: 134ms\n",
      "946:\tlearn: 0.0753286\ttotal: 2.36s\tremaining: 132ms\n",
      "947:\tlearn: 0.0752803\ttotal: 2.36s\tremaining: 129ms\n",
      "948:\tlearn: 0.0752401\ttotal: 2.36s\tremaining: 127ms\n",
      "949:\tlearn: 0.0752220\ttotal: 2.37s\tremaining: 124ms\n",
      "950:\tlearn: 0.0750880\ttotal: 2.37s\tremaining: 122ms\n",
      "951:\tlearn: 0.0750723\ttotal: 2.37s\tremaining: 119ms\n",
      "952:\tlearn: 0.0749680\ttotal: 2.37s\tremaining: 117ms\n",
      "953:\tlearn: 0.0749410\ttotal: 2.37s\tremaining: 114ms\n",
      "954:\tlearn: 0.0749139\ttotal: 2.38s\tremaining: 112ms\n",
      "955:\tlearn: 0.0748747\ttotal: 2.38s\tremaining: 110ms\n",
      "956:\tlearn: 0.0747180\ttotal: 2.38s\tremaining: 107ms\n",
      "957:\tlearn: 0.0746986\ttotal: 2.38s\tremaining: 105ms\n",
      "958:\tlearn: 0.0746735\ttotal: 2.38s\tremaining: 102ms\n",
      "959:\tlearn: 0.0745860\ttotal: 2.39s\tremaining: 99.6ms\n",
      "960:\tlearn: 0.0745637\ttotal: 2.39s\tremaining: 97.1ms\n",
      "961:\tlearn: 0.0745277\ttotal: 2.39s\tremaining: 94.6ms\n",
      "962:\tlearn: 0.0744766\ttotal: 2.4s\tremaining: 92.1ms\n",
      "963:\tlearn: 0.0744547\ttotal: 2.4s\tremaining: 89.6ms\n",
      "964:\tlearn: 0.0743813\ttotal: 2.4s\tremaining: 87.1ms\n",
      "965:\tlearn: 0.0743634\ttotal: 2.4s\tremaining: 84.6ms\n",
      "966:\tlearn: 0.0743286\ttotal: 2.4s\tremaining: 82.1ms\n",
      "967:\tlearn: 0.0742730\ttotal: 2.41s\tremaining: 79.6ms\n",
      "968:\tlearn: 0.0741989\ttotal: 2.41s\tremaining: 77.1ms\n",
      "969:\tlearn: 0.0741909\ttotal: 2.41s\tremaining: 74.6ms\n",
      "970:\tlearn: 0.0741666\ttotal: 2.41s\tremaining: 72.1ms\n"
     ]
    },
    {
     "name": "stdout",
     "output_type": "stream",
     "text": [
      "971:\tlearn: 0.0741231\ttotal: 2.42s\tremaining: 69.6ms\n",
      "972:\tlearn: 0.0740327\ttotal: 2.42s\tremaining: 67.2ms\n",
      "973:\tlearn: 0.0739218\ttotal: 2.42s\tremaining: 64.7ms\n",
      "974:\tlearn: 0.0738915\ttotal: 2.42s\tremaining: 62.2ms\n",
      "975:\tlearn: 0.0737787\ttotal: 2.43s\tremaining: 59.7ms\n",
      "976:\tlearn: 0.0736614\ttotal: 2.43s\tremaining: 57.2ms\n",
      "977:\tlearn: 0.0736249\ttotal: 2.43s\tremaining: 54.7ms\n",
      "978:\tlearn: 0.0735444\ttotal: 2.43s\tremaining: 52.2ms\n",
      "979:\tlearn: 0.0735227\ttotal: 2.44s\tremaining: 49.7ms\n",
      "980:\tlearn: 0.0734965\ttotal: 2.44s\tremaining: 47.2ms\n",
      "981:\tlearn: 0.0734240\ttotal: 2.44s\tremaining: 44.7ms\n",
      "982:\tlearn: 0.0732577\ttotal: 2.44s\tremaining: 42.3ms\n",
      "983:\tlearn: 0.0732272\ttotal: 2.44s\tremaining: 39.8ms\n",
      "984:\tlearn: 0.0731901\ttotal: 2.45s\tremaining: 37.3ms\n",
      "985:\tlearn: 0.0731145\ttotal: 2.45s\tremaining: 34.8ms\n",
      "986:\tlearn: 0.0730212\ttotal: 2.45s\tremaining: 32.3ms\n",
      "987:\tlearn: 0.0730040\ttotal: 2.46s\tremaining: 29.8ms\n",
      "988:\tlearn: 0.0729389\ttotal: 2.46s\tremaining: 27.3ms\n",
      "989:\tlearn: 0.0728217\ttotal: 2.46s\tremaining: 24.8ms\n",
      "990:\tlearn: 0.0727314\ttotal: 2.46s\tremaining: 22.4ms\n",
      "991:\tlearn: 0.0726670\ttotal: 2.46s\tremaining: 19.9ms\n",
      "992:\tlearn: 0.0726440\ttotal: 2.47s\tremaining: 17.4ms\n",
      "993:\tlearn: 0.0725769\ttotal: 2.47s\tremaining: 14.9ms\n",
      "994:\tlearn: 0.0725571\ttotal: 2.47s\tremaining: 12.4ms\n",
      "995:\tlearn: 0.0724741\ttotal: 2.47s\tremaining: 9.93ms\n",
      "996:\tlearn: 0.0724084\ttotal: 2.48s\tremaining: 7.45ms\n",
      "997:\tlearn: 0.0722910\ttotal: 2.48s\tremaining: 4.97ms\n",
      "998:\tlearn: 0.0722448\ttotal: 2.48s\tremaining: 2.48ms\n",
      "999:\tlearn: 0.0720933\ttotal: 2.48s\tremaining: 0us\n"
     ]
    },
    {
     "data": {
      "text/plain": [
       "<catboost.core.CatBoostRegressor at 0x1c17c582948>"
      ]
     },
     "execution_count": 49,
     "metadata": {},
     "output_type": "execute_result"
    }
   ],
   "source": [
    "cat2=CatBoostRegressor()\n",
    "cat2.fit(xtrain,ytrain)"
   ]
  },
  {
   "cell_type": "code",
   "execution_count": 50,
   "metadata": {},
   "outputs": [
    {
     "data": {
      "text/plain": [
       "89.12040252537227"
      ]
     },
     "execution_count": 50,
     "metadata": {},
     "output_type": "execute_result"
    }
   ],
   "source": [
    "cat2.score(xtest,ytest)*100"
   ]
  },
  {
   "cell_type": "code",
   "execution_count": 51,
   "metadata": {},
   "outputs": [
    {
     "data": {
      "text/html": [
       "<div>\n",
       "<style scoped>\n",
       "    .dataframe tbody tr th:only-of-type {\n",
       "        vertical-align: middle;\n",
       "    }\n",
       "\n",
       "    .dataframe tbody tr th {\n",
       "        vertical-align: top;\n",
       "    }\n",
       "\n",
       "    .dataframe thead th {\n",
       "        text-align: right;\n",
       "    }\n",
       "</style>\n",
       "<table border=\"1\" class=\"dataframe\">\n",
       "  <thead>\n",
       "    <tr style=\"text-align: right;\">\n",
       "      <th></th>\n",
       "      <th>Model</th>\n",
       "      <th>Score</th>\n",
       "    </tr>\n",
       "  </thead>\n",
       "  <tbody>\n",
       "    <tr>\n",
       "      <th>4</th>\n",
       "      <td>AdaBoostClassifier</td>\n",
       "      <td>97.376093</td>\n",
       "    </tr>\n",
       "    <tr>\n",
       "      <th>0</th>\n",
       "      <td>DecisionTreeClassifier</td>\n",
       "      <td>94.460641</td>\n",
       "    </tr>\n",
       "    <tr>\n",
       "      <th>5</th>\n",
       "      <td>BaggingClassifier</td>\n",
       "      <td>92.711370</td>\n",
       "    </tr>\n",
       "    <tr>\n",
       "      <th>10</th>\n",
       "      <td>SVC</td>\n",
       "      <td>88.921283</td>\n",
       "    </tr>\n",
       "    <tr>\n",
       "      <th>8</th>\n",
       "      <td>GradientBoostingClassifier</td>\n",
       "      <td>81.924198</td>\n",
       "    </tr>\n",
       "    <tr>\n",
       "      <th>2</th>\n",
       "      <td>RandomForestClassifier</td>\n",
       "      <td>58.600583</td>\n",
       "    </tr>\n",
       "    <tr>\n",
       "      <th>6</th>\n",
       "      <td>GaussianNB</td>\n",
       "      <td>58.600583</td>\n",
       "    </tr>\n",
       "    <tr>\n",
       "      <th>7</th>\n",
       "      <td>AdaBoostClassifier</td>\n",
       "      <td>58.600583</td>\n",
       "    </tr>\n",
       "    <tr>\n",
       "      <th>3</th>\n",
       "      <td>KNeighborsClassifier</td>\n",
       "      <td>57.725948</td>\n",
       "    </tr>\n",
       "    <tr>\n",
       "      <th>1</th>\n",
       "      <td>LogisticRegression</td>\n",
       "      <td>55.685131</td>\n",
       "    </tr>\n",
       "    <tr>\n",
       "      <th>9</th>\n",
       "      <td>ExtraTreesClassifier</td>\n",
       "      <td>54.810496</td>\n",
       "    </tr>\n",
       "  </tbody>\n",
       "</table>\n",
       "</div>"
      ],
      "text/plain": [
       "                         Model      Score\n",
       "4           AdaBoostClassifier  97.376093\n",
       "0       DecisionTreeClassifier  94.460641\n",
       "5            BaggingClassifier  92.711370\n",
       "10                         SVC  88.921283\n",
       "8   GradientBoostingClassifier  81.924198\n",
       "2       RandomForestClassifier  58.600583\n",
       "6                   GaussianNB  58.600583\n",
       "7           AdaBoostClassifier  58.600583\n",
       "3         KNeighborsClassifier  57.725948\n",
       "1           LogisticRegression  55.685131\n",
       "9         ExtraTreesClassifier  54.810496"
      ]
     },
     "execution_count": 51,
     "metadata": {},
     "output_type": "execute_result"
    }
   ],
   "source": [
    "models = pd.DataFrame({\n",
    "    'Model': ['DecisionTreeClassifier','LogisticRegression','RandomForestClassifier',  'KNeighborsClassifier',\n",
    "             'AdaBoostClassifier','BaggingClassifier','GaussianNB','AdaBoostClassifier','GradientBoostingClassifier','ExtraTreesClassifier','SVC'],\n",
    "    'Score': [ accu_tre,accu_lo,accu_l, accu_kne, accu_ada,accu_bag,accu_l,accu_l,accu_etc,accu_siv,accu_rnd]\n",
    "})\n",
    "\n",
    "models.sort_values(by = 'Score', ascending = False)"
   ]
  },
  {
   "cell_type": "code",
   "execution_count": 52,
   "metadata": {},
   "outputs": [
    {
     "data": {
      "image/png": "[encoded data removed]",
      "text/plain": [
       "<Figure size 1296x864 with 1 Axes>"
      ]
     },
     "metadata": {},
     "output_type": "display_data"
    }
   ],
   "source": [
    "colors = [\"purple\", \"green\", \"orange\", \"magenta\",\"blue\",\"black\",\"red\"]\n",
    "\n",
    "sns.set_style(\"whitegrid\")\n",
    "plt.figure(figsize=(18,12))\n",
    "plt.ylabel(\"Accuracy %\")\n",
    "plt.xlabel(\"Algorithms\")\n",
    "sns.barplot(x=models['Model'],y=models['Score'], palette=colors )\n",
    "plt.show()"
   ]
  },
  {
   "cell_type": "code",
   "execution_count": 53,
   "metadata": {},
   "outputs": [
    {
     "data": {
      "text/html": [
       "<div>\n",
       "<style scoped>\n",
       "    .dataframe tbody tr th:only-of-type {\n",
       "        vertical-align: middle;\n",
       "    }\n",
       "\n",
       "    .dataframe tbody tr th {\n",
       "        vertical-align: top;\n",
       "    }\n",
       "\n",
       "    .dataframe thead th {\n",
       "        text-align: right;\n",
       "    }\n",
       "</style>\n",
       "<table border=\"1\" class=\"dataframe\">\n",
       "  <thead>\n",
       "    <tr style=\"text-align: right;\">\n",
       "      <th></th>\n",
       "      <th>xyz_campaign_id</th>\n",
       "      <th>fb_campaign_id</th>\n",
       "      <th>gender</th>\n",
       "      <th>interest</th>\n",
       "      <th>Impressions</th>\n",
       "      <th>Clicks</th>\n",
       "      <th>Spent</th>\n",
       "      <th>Total_Conversion</th>\n",
       "      <th>Approved_Conversion</th>\n",
       "    </tr>\n",
       "  </thead>\n",
       "  <tbody>\n",
       "    <tr>\n",
       "      <th>0</th>\n",
       "      <td>916</td>\n",
       "      <td>103916</td>\n",
       "      <td>1</td>\n",
       "      <td>15</td>\n",
       "      <td>7350</td>\n",
       "      <td>1</td>\n",
       "      <td>1.43</td>\n",
       "      <td>2</td>\n",
       "      <td>1</td>\n",
       "    </tr>\n",
       "    <tr>\n",
       "      <th>1</th>\n",
       "      <td>916</td>\n",
       "      <td>103917</td>\n",
       "      <td>1</td>\n",
       "      <td>16</td>\n",
       "      <td>17861</td>\n",
       "      <td>2</td>\n",
       "      <td>1.82</td>\n",
       "      <td>2</td>\n",
       "      <td>0</td>\n",
       "    </tr>\n",
       "    <tr>\n",
       "      <th>2</th>\n",
       "      <td>916</td>\n",
       "      <td>103920</td>\n",
       "      <td>1</td>\n",
       "      <td>20</td>\n",
       "      <td>693</td>\n",
       "      <td>0</td>\n",
       "      <td>0.00</td>\n",
       "      <td>1</td>\n",
       "      <td>0</td>\n",
       "    </tr>\n",
       "  </tbody>\n",
       "</table>\n",
       "</div>"
      ],
      "text/plain": [
       "   xyz_campaign_id  fb_campaign_id  gender  interest  Impressions  Clicks  \\\n",
       "0              916          103916       1        15         7350       1   \n",
       "1              916          103917       1        16        17861       2   \n",
       "2              916          103920       1        20          693       0   \n",
       "\n",
       "   Spent  Total_Conversion  Approved_Conversion  \n",
       "0   1.43                 2                    1  \n",
       "1   1.82                 2                    0  \n",
       "2   0.00                 1                    0  "
      ]
     },
     "execution_count": 53,
     "metadata": {},
     "output_type": "execute_result"
    }
   ],
   "source": [
    "df.head(3)"
   ]
  },
  {
   "cell_type": "code",
   "execution_count": 54,
   "metadata": {},
   "outputs": [],
   "source": [
    "import sklearn.cluster as cluster"
   ]
  },
  {
   "cell_type": "code",
   "execution_count": 55,
   "metadata": {},
   "outputs": [],
   "source": [
    "kmns=cluster.KMeans(n_clusters=5)"
   ]
  },
  {
   "cell_type": "code",
   "execution_count": 56,
   "metadata": {},
   "outputs": [],
   "source": [
    "kmns=kmns.fit(df[['fb_campaign_id','gender']])"
   ]
  },
  {
   "cell_type": "code",
   "execution_count": 57,
   "metadata": {
    "collapsed": true
   },
   "outputs": [
    {
     "data": {
      "text/plain": [
       "array([[1.44631353e+05, 5.77358491e-01],\n",
       "       [1.15950752e+05, 4.77876106e-01],\n",
       "       [1.79926211e+05, 4.52631579e-01],\n",
       "       [1.08261216e+05, 4.65686275e-01],\n",
       "       [1.23606080e+05, 4.54545455e-01]])"
      ]
     },
     "execution_count": 57,
     "metadata": {},
     "output_type": "execute_result"
    }
   ],
   "source": [
    "kmns.cluster_centers_"
   ]
  },
  {
   "cell_type": "code",
   "execution_count": 58,
   "metadata": {},
   "outputs": [],
   "source": [
    "df['fb_campaign_id by gender']=kmns.labels_"
   ]
  },
  {
   "cell_type": "code",
   "execution_count": 59,
   "metadata": {},
   "outputs": [],
   "source": [
    "from sklearn.cluster import KMeans "
   ]
  },
  {
   "cell_type": "code",
   "execution_count": 60,
   "metadata": {},
   "outputs": [],
   "source": [
    "k_range=range(1,15)\n",
    "wss=[]"
   ]
  },
  {
   "cell_type": "code",
   "execution_count": 61,
   "metadata": {},
   "outputs": [],
   "source": [
    "for k in k_range:\n",
    "    km=KMeans(n_clusters=k)\n",
    "    km.fit(df[['fb_campaign_id','gender']])\n",
    "    wss.append(km.inertia_)\n",
    "    "
   ]
  },
  {
   "cell_type": "code",
   "execution_count": 62,
   "metadata": {
    "collapsed": true
   },
   "outputs": [
    {
     "data": {
      "text/plain": [
       "[479939950687.25635,\n",
       " 117463820257.95444,\n",
       " 17108054764.829813,\n",
       " 5146795812.3366995,\n",
       " 1434957979.719618,\n",
       " 167329292.19149184,\n",
       " 57066298.774767615,\n",
       " 31894461.103239313,\n",
       " 11099599.688566549,\n",
       " 8069437.635316632,\n",
       " 6760678.005015261,\n",
       " 5268057.225010329,\n",
       " 4355726.542473888,\n",
       " 3588255.5320134424]"
      ]
     },
     "execution_count": 62,
     "metadata": {},
     "output_type": "execute_result"
    }
   ],
   "source": [
    "wss"
   ]
  },
  {
   "cell_type": "code",
   "execution_count": 63,
   "metadata": {
    "collapsed": true
   },
   "outputs": [
    {
     "data": {
      "text/plain": [
       "[<matplotlib.lines.Line2D at 0x1c101006ec8>]"
      ]
     },
     "execution_count": 63,
     "metadata": {},
     "output_type": "execute_result"
    },
    {
     "data": {
      "image/png": "[encoded data removed]",
      "text/plain": [
       "<Figure size 432x288 with 1 Axes>"
      ]
     },
     "metadata": {},
     "output_type": "display_data"
    }
   ],
   "source": [
    "plt.xlabel('fb_campaign_id')\n",
    "plt.ylabel('Gender')\n",
    "plt.plot(k_range,wss)"
   ]
  },
  {
   "cell_type": "code",
   "execution_count": 64,
   "metadata": {},
   "outputs": [],
   "source": [
    "kmns=cluster.KMeans(n_clusters=5)"
   ]
  },
  {
   "cell_type": "code",
   "execution_count": 65,
   "metadata": {},
   "outputs": [],
   "source": [
    "kmns=kmns.fit(df[['fb_campaign_id','interest']])"
   ]
  },
  {
   "cell_type": "code",
   "execution_count": 66,
   "metadata": {
    "collapsed": true
   },
   "outputs": [
    {
     "data": {
      "text/plain": [
       "array([[1.79926211e+05, 1.07000000e+02],\n",
       "       [1.15950752e+05, 2.58407080e+01],\n",
       "       [1.44631353e+05, 2.73169811e+01],\n",
       "       [1.08261216e+05, 2.41715686e+01],\n",
       "       [1.23606080e+05, 2.31590909e+01]])"
      ]
     },
     "execution_count": 66,
     "metadata": {},
     "output_type": "execute_result"
    }
   ],
   "source": [
    "kmns.cluster_centers_"
   ]
  },
  {
   "cell_type": "code",
   "execution_count": 67,
   "metadata": {},
   "outputs": [],
   "source": [
    "df['fb_campaign_id by interest']=kmns.labels_"
   ]
  },
  {
   "cell_type": "code",
   "execution_count": 68,
   "metadata": {},
   "outputs": [],
   "source": [
    "k_range=range(1,15)\n",
    "wss=[]"
   ]
  },
  {
   "cell_type": "code",
   "execution_count": 70,
   "metadata": {},
   "outputs": [],
   "source": [
    "for k in k_range:\n",
    "    km=KMeans(n_clusters=k)\n",
    "    km.fit(df[['fb_campaign_id','interest']])\n",
    "    wss.append(km.inertia_)"
   ]
  },
  {
   "cell_type": "code",
   "execution_count": 71,
   "metadata": {
    "collapsed": true
   },
   "outputs": [
    {
     "data": {
      "text/plain": [
       "[479940779970.504,\n",
       " 117464588328.53154,\n",
       " 17108311330.325737,\n",
       " 5147052273.715166,\n",
       " 1435213985.6675897,\n",
       " 167584948.330836,\n",
       " 57321827.02538334,\n",
       " 32150002.542510744,\n",
       " 11354796.660279922,\n",
       " 8318334.997775916,\n",
       " 6903845.6732438505,\n",
       " 5516821.687627688,\n",
       " 4452452.800692911,\n",
       " 3784205.793718436]"
      ]
     },
     "execution_count": 71,
     "metadata": {},
     "output_type": "execute_result"
    }
   ],
   "source": [
    "wss"
   ]
  },
  {
   "cell_type": "code",
   "execution_count": 72,
   "metadata": {
    "collapsed": true
   },
   "outputs": [
    {
     "data": {
      "text/plain": [
       "array([[ 150809.9047619 , 1055938.58730159],\n",
       "       [ 148480.93534483,  229308.11206897],\n",
       "       [ 151366.61320755,  563517.53773585],\n",
       "       [ 125073.41032609,   28488.44293478],\n",
       "       [ 144601.33333333, 2168477.        ]])"
      ]
     },
     "execution_count": 72,
     "metadata": {},
     "output_type": "execute_result"
    }
   ],
   "source": [
    "kmns=cluster.KMeans(n_clusters=5)\n",
    "kmns=kmns.fit(df[['fb_campaign_id','Impressions']])\n",
    "kmns.cluster_centers_"
   ]
  },
  {
   "cell_type": "code",
   "execution_count": 74,
   "metadata": {},
   "outputs": [],
   "source": [
    "df['fb_campaign_id by Impressions']=kmns.labels_"
   ]
  },
  {
   "cell_type": "code",
   "execution_count": 76,
   "metadata": {},
   "outputs": [],
   "source": [
    "k_range=range(1,15)\n",
    "wss=[]\n",
    "\n",
    "for k in k_range:\n",
    "    km=KMeans(n_clusters=k)\n",
    "    km.fit(df[['fb_campaign_id','Impressions']])\n",
    "    wss.append(km.inertia_)"
   ]
  },
  {
   "cell_type": "code",
   "execution_count": 77,
   "metadata": {
    "collapsed": true
   },
   "outputs": [
    {
     "data": {
      "text/plain": [
       "[112190589216371.66,\n",
       " 34143865444137.67,\n",
       " 18554926732563.785,\n",
       " 11053771082491.184,\n",
       " 6971545446189.01,\n",
       " 4888159699998.546,\n",
       " 3665688171529.625,\n",
       " 2866574794244.8486,\n",
       " 2302466723270.7754,\n",
       " 1792609029528.5078,\n",
       " 1454296735808.061,\n",
       " 1213326995488.5208,\n",
       " 1034212411208.6465,\n",
       " 887883295138.2712]"
      ]
     },
     "execution_count": 77,
     "metadata": {},
     "output_type": "execute_result"
    }
   ],
   "source": [
    "wss"
   ]
  },
  {
   "cell_type": "code",
   "execution_count": 78,
   "metadata": {},
   "outputs": [
    {
     "data": {
      "text/plain": [
       "array([[1.44631353e+05, 5.77641509e+01],\n",
       "       [1.08261216e+05, 3.97549020e+00],\n",
       "       [1.79926211e+05, 5.74000000e+01],\n",
       "       [1.23606080e+05, 9.65909091e-01],\n",
       "       [1.15950752e+05, 5.31415929e+00]])"
      ]
     },
     "execution_count": 78,
     "metadata": {},
     "output_type": "execute_result"
    }
   ],
   "source": [
    "kmns=cluster.KMeans(n_clusters=5)\n",
    "kmns=kmns.fit(df[['fb_campaign_id','Clicks']])\n",
    "kmns.cluster_centers_"
   ]
  },
  {
   "cell_type": "code",
   "execution_count": 80,
   "metadata": {},
   "outputs": [],
   "source": [
    "df['fb_campaign_id by Clicks']=kmns.labels_"
   ]
  },
  {
   "cell_type": "code",
   "execution_count": 82,
   "metadata": {},
   "outputs": [],
   "source": [
    "k_range=range(1,15)\n",
    "wss=[]\n",
    "\n",
    "for k in k_range:\n",
    "    km=KMeans(n_clusters=k)\n",
    "    km.fit(df[['fb_campaign_id','Clicks']])\n",
    "    wss.append(km.inertia_)"
   ]
  },
  {
   "cell_type": "code",
   "execution_count": 83,
   "metadata": {
    "collapsed": true
   },
   "outputs": [
    {
     "data": {
      "text/plain": [
       "[479943646769.8443,\n",
       " 117466700749.62524,\n",
       " 17110935247.071182,\n",
       " 5149676292.79979,\n",
       " 1437837262.6758447,\n",
       " 170208317.22562653,\n",
       " 59945283.58949361,\n",
       " 34773414.177258745,\n",
       " 13978196.993409341,\n",
       " 10942484.957408901,\n",
       " 9009858.838544697,\n",
       " 7722285.516942078,\n",
       " 6789555.54163359,\n",
       " 5890917.185114834]"
      ]
     },
     "execution_count": 83,
     "metadata": {},
     "output_type": "execute_result"
    }
   ],
   "source": [
    "wss"
   ]
  },
  {
   "cell_type": "code",
   "execution_count": 84,
   "metadata": {},
   "outputs": [
    {
     "data": {
      "text/plain": [
       "array([[1.08261216e+05, 5.69441177e+00],\n",
       "       [1.44631353e+05, 9.01728867e+01],\n",
       "       [1.79926211e+05, 8.28475788e+01],\n",
       "       [1.23606080e+05, 1.33250000e+00],\n",
       "       [1.15950752e+05, 7.80601770e+00]])"
      ]
     },
     "execution_count": 84,
     "metadata": {},
     "output_type": "execute_result"
    }
   ],
   "source": [
    "kmns=cluster.KMeans(n_clusters=5)\n",
    "kmns=kmns.fit(df[['fb_campaign_id','Spent']])\n",
    "kmns.cluster_centers_"
   ]
  },
  {
   "cell_type": "code",
   "execution_count": 88,
   "metadata": {},
   "outputs": [],
   "source": [
    "df['fb_campaign_id by Spent']=kmns.labels_"
   ]
  },
  {
   "cell_type": "code",
   "execution_count": 89,
   "metadata": {},
   "outputs": [],
   "source": [
    "k_range=range(1,15)\n",
    "wss=[]\n",
    "\n",
    "for k in k_range:\n",
    "    km=KMeans(n_clusters=k)\n",
    "    km.fit(df[['fb_campaign_id','Spent']])\n",
    "    wss.append(km.inertia_)"
   ]
  },
  {
   "cell_type": "code",
   "execution_count": 90,
   "metadata": {},
   "outputs": [
    {
     "data": {
      "text/plain": [
       "[479948576011.3635,\n",
       " 117470485606.45157,\n",
       " 17114715791.719646,\n",
       " 5153456828.295222,\n",
       " 1441616341.460682,\n",
       " 173987029.3387897,\n",
       " 63723956.41232087,\n",
       " 38551828.521830514,\n",
       " 17756186.85645949,\n",
       " 13579307.140499141,\n",
       " 10583762.06570531,\n",
       " 9535142.976704895,\n",
       " 8267317.142757503,\n",
       " 7074297.833076162]"
      ]
     },
     "execution_count": 90,
     "metadata": {},
     "output_type": "execute_result"
    }
   ],
   "source": [
    "wss"
   ]
  },
  {
   "cell_type": "code",
   "execution_count": 92,
   "metadata": {},
   "outputs": [
    {
     "data": {
      "text/plain": [
       "Index(['xyz_campaign_id', 'fb_campaign_id', 'gender', 'interest',\n",
       "       'Impressions', 'Clicks', 'Spent', 'Total_Conversion',\n",
       "       'Approved_Conversion', 'fb_campaign_id by gender',\n",
       "       'fb_campaign_id by interest', 'Age by Experience',\n",
       "       'fb_campaign_id by Impressions', 'fb_campaign_id by Clicks',\n",
       "       'fb_campaign_id by Spent'],\n",
       "      dtype='object')"
      ]
     },
     "execution_count": 92,
     "metadata": {},
     "output_type": "execute_result"
    }
   ],
   "source": [
    "df.head(3)\n",
    "df.columns"
   ]
  },
  {
   "cell_type": "code",
   "execution_count": 94,
   "metadata": {
    "collapsed": true
   },
   "outputs": [
    {
     "data": {
      "text/plain": [
       "<matplotlib.axes._subplots.AxesSubplot at 0x1c101bc2d08>"
      ]
     },
     "execution_count": 94,
     "metadata": {},
     "output_type": "execute_result"
    },
    {
     "data": {
      "image/png": "[encoded data removed]",
      "text/plain": [
       "<Figure size 432x288 with 1 Axes>"
      ]
     },
     "metadata": {},
     "output_type": "display_data"
    }
   ],
   "source": [
    "\n",
    "df.gender.value_counts().plot(kind='pie')"
   ]
  },
  {
   "cell_type": "code",
   "execution_count": 96,
   "metadata": {
    "collapsed": true
   },
   "outputs": [
    {
     "data": {
      "text/plain": [
       "<matplotlib.axes._subplots.AxesSubplot at 0x1c1020c58c8>"
      ]
     },
     "execution_count": 96,
     "metadata": {},
     "output_type": "execute_result"
    },
    {
     "data": {
      "image/png": "[encoded data removed]",
      "text/plain": [
       "<Figure size 1080x648 with 2 Axes>"
      ]
     },
     "metadata": {},
     "output_type": "display_data"
    }
   ],
   "source": [
    "plt.figure(figsize=(15,9))\n",
    "sns.heatmap(df.corr(),annot=True)"
   ]
  },
  {
   "cell_type": "code",
   "execution_count": 98,
   "metadata": {
    "collapsed": true
   },
   "outputs": [
    {
     "data": {
      "text/plain": [
       "<matplotlib.axes._subplots.AxesSubplot at 0x1c10d8d4248>"
      ]
     },
     "execution_count": 98,
     "metadata": {},
     "output_type": "execute_result"
    },
    {
     "data": {
      "image/png": "[encoded data removed]",
      "text/plain": [
       "<Figure size 432x288 with 1 Axes>"
      ]
     },
     "metadata": {},
     "output_type": "display_data"
    }
   ],
   "source": [
    "sns.scatterplot(x='fb_campaign_id',y='xyz_campaign_id',data=df)"
   ]
  },
  {
   "cell_type": "code",
   "execution_count": 99,
   "metadata": {
    "collapsed": true
   },
   "outputs": [
    {
     "data": {
      "image/png": "[encoded data removed]",
      "text/plain": [
       "<Figure size 1080x648 with 2 Axes>"
      ]
     },
     "metadata": {},
     "output_type": "display_data"
    }
   ],
   "source": [
    "plt.figure(figsize=(15,9))\n",
    "#cmap = sns.diverging_palette(230, 20, as_cmap=True)\n",
    "sns.heatmap(df.corr(),annot=True,cmap='Dark2_r',linewidths=2)\n",
    "plt.show()"
   ]
  },
  {
   "cell_type": "code",
   "execution_count": 101,
   "metadata": {
    "collapsed": true
   },
   "outputs": [
    {
     "data": {
      "text/plain": [
       "<matplotlib.axes._subplots.AxesSubplot at 0x1c10eff6088>"
      ]
     },
     "execution_count": 101,
     "metadata": {},
     "output_type": "execute_result"
    },
    {
     "data": {
      "image/png": "[encoded data removed]",
      "text/plain": [
       "<Figure size 1080x648 with 1 Axes>"
      ]
     },
     "metadata": {},
     "output_type": "display_data"
    }
   ],
   "source": [
    "plt.figure(figsize=(15,9))\n",
    "sns.boxplot(x='interest',y='gender',data=df)"
   ]
  },
  {
   "cell_type": "code",
   "execution_count": 103,
   "metadata": {
    "collapsed": true
   },
   "outputs": [
    {
     "data": {
      "text/plain": [
       "<matplotlib.axes._subplots.AxesSubplot at 0x1c114370488>"
      ]
     },
     "execution_count": 103,
     "metadata": {},
     "output_type": "execute_result"
    },
    {
     "data": {
      "image/png": "[encoded data removed]",
      "text/plain": [
       "<Figure size 1080x648 with 1 Axes>"
      ]
     },
     "metadata": {},
     "output_type": "display_data"
    }
   ],
   "source": [
    "plt.figure(figsize=(15,9))\n",
    "sns.boxenplot(x='gender',y='interest',data=df)"
   ]
  },
  {
   "cell_type": "code",
   "execution_count": 105,
   "metadata": {
    "collapsed": true
   },
   "outputs": [
    {
     "data": {
      "text/plain": [
       "<matplotlib.axes._subplots.AxesSubplot at 0x1c10d63ff08>"
      ]
     },
     "execution_count": 105,
     "metadata": {},
     "output_type": "execute_result"
    },
    {
     "data": {
      "image/png": "[encoded data removed]",
      "text/plain": [
       "<Figure size 1080x648 with 1 Axes>"
      ]
     },
     "metadata": {},
     "output_type": "display_data"
    }
   ],
   "source": [
    "plt.figure(figsize=(15,9))\n",
    "sns.barplot(x='Clicks',y='gender',data=df)"
   ]
  },
  {
   "cell_type": "code",
   "execution_count": 106,
   "metadata": {
    "collapsed": true
   },
   "outputs": [
    {
     "data": {
      "text/plain": [
       "<matplotlib.axes._subplots.AxesSubplot at 0x1c10c9999c8>"
      ]
     },
     "execution_count": 106,
     "metadata": {},
     "output_type": "execute_result"
    },
    {
     "data": {
      "image/png": "[encoded data removed]",
      "text/plain": [
       "<Figure size 1080x648 with 1 Axes>"
      ]
     },
     "metadata": {},
     "output_type": "display_data"
    }
   ],
   "source": [
    "plt.figure(figsize=(15,9))\n",
    "sns.distplot(df['Spent'])"
   ]
  },
  {
   "cell_type": "code",
   "execution_count": 107,
   "metadata": {},
   "outputs": [
    {
     "data": {
      "text/plain": [
       "<matplotlib.axes._subplots.AxesSubplot at 0x1c119e10cc8>"
      ]
     },
     "execution_count": 107,
     "metadata": {},
     "output_type": "execute_result"
    },
    {
     "data": {
      "image/png": "[encoded data removed]",
      "text/plain": [
       "<Figure size 1080x648 with 1 Axes>"
      ]
     },
     "metadata": {},
     "output_type": "display_data"
    }
   ],
   "source": [
    "plt.figure(figsize=(15,9))\n",
    "sns.lineplot(x='Total_Conversion',y='Approved_Conversion',data=df)"
   ]
  },
  {
   "cell_type": "code",
   "execution_count": 109,
   "metadata": {},
   "outputs": [
    {
     "data": {
      "text/plain": [
       "Index(['xyz_campaign_id', 'fb_campaign_id', 'gender', 'interest',\n",
       "       'Impressions', 'Clicks', 'Spent', 'Total_Conversion',\n",
       "       'Approved_Conversion', 'fb_campaign_id by gender',\n",
       "       'fb_campaign_id by interest', 'Age by Experience',\n",
       "       'fb_campaign_id by Impressions', 'fb_campaign_id by Clicks',\n",
       "       'fb_campaign_id by Spent'],\n",
       "      dtype='object')"
      ]
     },
     "execution_count": 109,
     "metadata": {},
     "output_type": "execute_result"
    }
   ],
   "source": [
    "df.columns"
   ]
  },
  {
   "cell_type": "code",
   "execution_count": 110,
   "metadata": {
    "collapsed": true
   },
   "outputs": [
    {
     "data": {
      "text/plain": [
       "<matplotlib.axes._subplots.AxesSubplot at 0x1c119e58a08>"
      ]
     },
     "execution_count": 110,
     "metadata": {},
     "output_type": "execute_result"
    },
    {
     "data": {
      "image/png": "[encoded data removed]",
      "text/plain": [
       "<Figure size 1080x648 with 1 Axes>"
      ]
     },
     "metadata": {},
     "output_type": "display_data"
    }
   ],
   "source": [
    "plt.figure(figsize=(15,9))\n",
    "sns.pointplot(x='Approved_Conversion',y='Total_Conversion',data=df)"
   ]
  },
  {
   "cell_type": "code",
   "execution_count": 111,
   "metadata": {
    "collapsed": true
   },
   "outputs": [
    {
     "data": {
      "text/plain": [
       "<seaborn.axisgrid.JointGrid at 0x1c11a34bc08>"
      ]
     },
     "execution_count": 111,
     "metadata": {},
     "output_type": "execute_result"
    },
    {
     "data": {
      "text/plain": [
       "<Figure size 1080x648 with 0 Axes>"
      ]
     },
     "metadata": {},
     "output_type": "display_data"
    },
    {
     "data": {
      "image/png": "[encoded data removed]",
      "text/plain": [
       "<Figure size 432x432 with 3 Axes>"
      ]
     },
     "metadata": {},
     "output_type": "display_data"
    }
   ],
   "source": [
    "plt.figure(figsize=(15,9))\n",
    "sns.jointplot(x='gender',y='interest',data=df,kind='kde',color='red')"
   ]
  },
  {
   "cell_type": "code",
   "execution_count": 112,
   "metadata": {
    "collapsed": true
   },
   "outputs": [
    {
     "data": {
      "text/plain": [
       "<matplotlib.axes._subplots.AxesSubplot at 0x1c11a800508>"
      ]
     },
     "execution_count": 112,
     "metadata": {},
     "output_type": "execute_result"
    },
    {
     "data": {
      "image/png": "[encoded data removed]",
      "text/plain": [
       "<Figure size 432x288 with 1 Axes>"
      ]
     },
     "metadata": {},
     "output_type": "display_data"
    }
   ],
   "source": [
    "sns.kdeplot(df['gender'])\n",
    "sns.kdeplot(df['Clicks'])\n",
    "sns.kdeplot(df['Spent'])"
   ]
  },
  {
   "cell_type": "code",
   "execution_count": 113,
   "metadata": {
    "collapsed": true
   },
   "outputs": [
    {
     "data": {
      "text/plain": [
       "<matplotlib.axes._subplots.AxesSubplot at 0x1c11b856908>"
      ]
     },
     "execution_count": 113,
     "metadata": {},
     "output_type": "execute_result"
    },
    {
     "data": {
      "image/png": "[encoded data removed]",
      "text/plain": [
       "<Figure size 432x288 with 1 Axes>"
      ]
     },
     "metadata": {},
     "output_type": "display_data"
    }
   ],
   "source": [
    "sns.violinplot(y=\"gender\",data=df)\n",
    "sns.violinplot(y=\"interest\",data=df,color='orange')\n",
    "sns.violinplot(y=\"Spent\",data=df,color='red')"
   ]
  },
  {
   "cell_type": "code",
   "execution_count": 114,
   "metadata": {
    "collapsed": true
   },
   "outputs": [
    {
     "data": {
      "text/plain": [
       "<matplotlib.axes._subplots.AxesSubplot at 0x1c11b8568c8>"
      ]
     },
     "execution_count": 114,
     "metadata": {},
     "output_type": "execute_result"
    },
    {
     "data": {
      "image/png": "[encoded data removed]",
      "text/plain": [
       "<Figure size 432x288 with 1 Axes>"
      ]
     },
     "metadata": {},
     "output_type": "display_data"
    }
   ],
   "source": [
    "sns.regplot(x=df[\"Total_Conversion\"], y=df[\"Approved_Conversion\"], \n",
    "data=df)"
   ]
  },
  {
   "cell_type": "code",
   "execution_count": 115,
   "metadata": {},
   "outputs": [
    {
     "data": {
      "text/plain": [
       "<matplotlib.axes._subplots.AxesSubplot at 0x1c11b980308>"
      ]
     },
     "execution_count": 115,
     "metadata": {},
     "output_type": "execute_result"
    },
    {
     "data": {
      "image/png": "[encoded data removed]",
      "text/plain": [
       "<Figure size 432x288 with 1 Axes>"
      ]
     },
     "metadata": {},
     "output_type": "display_data"
    }
   ],
   "source": [
    "df.boxplot(column=\"Clicks\")\n",
    "df.boxplot(column=\"Total_Conversion\",color='orange')\n",
    "df.boxplot(column=\"gender\",color='red')"
   ]
  },
  {
   "cell_type": "code",
   "execution_count": 116,
   "metadata": {},
   "outputs": [],
   "source": [
    "import sweetviz as sv"
   ]
  },
  {
   "cell_type": "code",
   "execution_count": 117,
   "metadata": {},
   "outputs": [
    {
     "data": {
      "application/vnd.jupyter.widget-view+json": {
       "model_id": "8efa531e9e134799847d0ce642d2d0df",
       "version_major": 2,
       "version_minor": 0
      },
      "text/plain": [
       "                                             |                                             | [  0%]   00:00 ->…"
      ]
     },
     "metadata": {},
     "output_type": "display_data"
    },
    {
     "name": "stdout",
     "output_type": "stream",
     "text": [
      "Report Analyze.html was generated! NOTEBOOK/COLAB USERS: the web browser MAY not pop up, regardless, the report IS saved in your notebook/colab files.\n"
     ]
    }
   ],
   "source": [
    "data=sv.analyze(df)\n",
    "data.show_html('Analyze.html')"
   ]
  },
  {
   "cell_type": "code",
   "execution_count": 118,
   "metadata": {},
   "outputs": [],
   "source": [
    "from IPython.display import IFrame"
   ]
  },
  {
   "cell_type": "code",
   "execution_count": 119,
   "metadata": {},
   "outputs": [
    {
     "data": {
      "text/html": [
       "\n",
       "        <iframe\n",
       "            width=\"1000\"\n",
       "            height=\"600\"\n",
       "            src=\"Analyze.html\"\n",
       "            frameborder=\"0\"\n",
       "            allowfullscreen\n",
       "        ></iframe>\n",
       "        "
      ],
      "text/plain": [
       "<IPython.lib.display.IFrame at 0x1c122127708>"
      ]
     },
     "execution_count": 119,
     "metadata": {},
     "output_type": "execute_result"
    }
   ],
   "source": [
    "IFrame(src='Analyze.html',width=1000,height=600)"
   ]
  },
  {
   "cell_type": "code",
   "execution_count": 120,
   "metadata": {},
   "outputs": [
    {
     "data": {
      "text/plain": [
       "Index(['xyz_campaign_id', 'fb_campaign_id', 'gender', 'interest',\n",
       "       'Impressions', 'Clicks', 'Spent', 'Total_Conversion',\n",
       "       'Approved_Conversion', 'fb_campaign_id by gender',\n",
       "       'fb_campaign_id by interest', 'Age by Experience',\n",
       "       'fb_campaign_id by Impressions', 'fb_campaign_id by Clicks',\n",
       "       'fb_campaign_id by Spent'],\n",
       "      dtype='object')"
      ]
     },
     "execution_count": 120,
     "metadata": {},
     "output_type": "execute_result"
    }
   ],
   "source": [
    "df.columns"
   ]
  },
  {
   "cell_type": "code",
   "execution_count": 121,
   "metadata": {},
   "outputs": [],
   "source": [
    "from sklearn.preprocessing import MinMaxScaler\n",
    "from sklearn.preprocessing import StandardScaler"
   ]
  },
  {
   "cell_type": "code",
   "execution_count": 122,
   "metadata": {},
   "outputs": [
    {
     "data": {
      "text/html": [
       "<div>\n",
       "<style scoped>\n",
       "    .dataframe tbody tr th:only-of-type {\n",
       "        vertical-align: middle;\n",
       "    }\n",
       "\n",
       "    .dataframe tbody tr th {\n",
       "        vertical-align: top;\n",
       "    }\n",
       "\n",
       "    .dataframe thead th {\n",
       "        text-align: right;\n",
       "    }\n",
       "</style>\n",
       "<table border=\"1\" class=\"dataframe\">\n",
       "  <thead>\n",
       "    <tr style=\"text-align: right;\">\n",
       "      <th></th>\n",
       "      <th>xyz_campaign_id</th>\n",
       "      <th>fb_campaign_id</th>\n",
       "      <th>gender</th>\n",
       "      <th>interest</th>\n",
       "      <th>Impressions</th>\n",
       "      <th>Clicks</th>\n",
       "      <th>Spent</th>\n",
       "      <th>Total_Conversion</th>\n",
       "      <th>Approved_Conversion</th>\n",
       "    </tr>\n",
       "  </thead>\n",
       "  <tbody>\n",
       "    <tr>\n",
       "      <th>0</th>\n",
       "      <td>0.0</td>\n",
       "      <td>0.000000</td>\n",
       "      <td>1.0</td>\n",
       "      <td>0.116071</td>\n",
       "      <td>0.002380</td>\n",
       "      <td>0.002375</td>\n",
       "      <td>0.002235</td>\n",
       "      <td>0.033333</td>\n",
       "      <td>0.047619</td>\n",
       "    </tr>\n",
       "    <tr>\n",
       "      <th>1</th>\n",
       "      <td>0.0</td>\n",
       "      <td>0.000013</td>\n",
       "      <td>1.0</td>\n",
       "      <td>0.125000</td>\n",
       "      <td>0.005824</td>\n",
       "      <td>0.004751</td>\n",
       "      <td>0.002844</td>\n",
       "      <td>0.033333</td>\n",
       "      <td>0.000000</td>\n",
       "    </tr>\n",
       "    <tr>\n",
       "      <th>2</th>\n",
       "      <td>0.0</td>\n",
       "      <td>0.000053</td>\n",
       "      <td>1.0</td>\n",
       "      <td>0.160714</td>\n",
       "      <td>0.000199</td>\n",
       "      <td>0.000000</td>\n",
       "      <td>0.000000</td>\n",
       "      <td>0.016667</td>\n",
       "      <td>0.000000</td>\n",
       "    </tr>\n",
       "    <tr>\n",
       "      <th>3</th>\n",
       "      <td>0.0</td>\n",
       "      <td>0.000158</td>\n",
       "      <td>1.0</td>\n",
       "      <td>0.232143</td>\n",
       "      <td>0.001367</td>\n",
       "      <td>0.002375</td>\n",
       "      <td>0.001953</td>\n",
       "      <td>0.016667</td>\n",
       "      <td>0.000000</td>\n",
       "    </tr>\n",
       "    <tr>\n",
       "      <th>4</th>\n",
       "      <td>0.0</td>\n",
       "      <td>0.000158</td>\n",
       "      <td>1.0</td>\n",
       "      <td>0.232143</td>\n",
       "      <td>0.001326</td>\n",
       "      <td>0.002375</td>\n",
       "      <td>0.002016</td>\n",
       "      <td>0.016667</td>\n",
       "      <td>0.047619</td>\n",
       "    </tr>\n",
       "    <tr>\n",
       "      <th>...</th>\n",
       "      <td>...</td>\n",
       "      <td>...</td>\n",
       "      <td>...</td>\n",
       "      <td>...</td>\n",
       "      <td>...</td>\n",
       "      <td>...</td>\n",
       "      <td>...</td>\n",
       "      <td>...</td>\n",
       "      <td>...</td>\n",
       "    </tr>\n",
       "    <tr>\n",
       "      <th>1138</th>\n",
       "      <td>1.0</td>\n",
       "      <td>0.999934</td>\n",
       "      <td>0.0</td>\n",
       "      <td>0.955357</td>\n",
       "      <td>0.370156</td>\n",
       "      <td>0.598575</td>\n",
       "      <td>0.559716</td>\n",
       "      <td>0.216667</td>\n",
       "      <td>0.095238</td>\n",
       "    </tr>\n",
       "    <tr>\n",
       "      <th>1139</th>\n",
       "      <td>1.0</td>\n",
       "      <td>0.999947</td>\n",
       "      <td>0.0</td>\n",
       "      <td>0.964286</td>\n",
       "      <td>0.208873</td>\n",
       "      <td>0.285036</td>\n",
       "      <td>0.271709</td>\n",
       "      <td>0.050000</td>\n",
       "      <td>0.000000</td>\n",
       "    </tr>\n",
       "    <tr>\n",
       "      <th>1140</th>\n",
       "      <td>1.0</td>\n",
       "      <td>0.999961</td>\n",
       "      <td>0.0</td>\n",
       "      <td>0.973214</td>\n",
       "      <td>0.049623</td>\n",
       "      <td>0.066508</td>\n",
       "      <td>0.062958</td>\n",
       "      <td>0.033333</td>\n",
       "      <td>0.000000</td>\n",
       "    </tr>\n",
       "    <tr>\n",
       "      <th>1141</th>\n",
       "      <td>1.0</td>\n",
       "      <td>0.999987</td>\n",
       "      <td>0.0</td>\n",
       "      <td>0.991071</td>\n",
       "      <td>0.258908</td>\n",
       "      <td>0.320665</td>\n",
       "      <td>0.310509</td>\n",
       "      <td>0.133333</td>\n",
       "      <td>0.095238</td>\n",
       "    </tr>\n",
       "    <tr>\n",
       "      <th>1142</th>\n",
       "      <td>1.0</td>\n",
       "      <td>1.000000</td>\n",
       "      <td>0.0</td>\n",
       "      <td>1.000000</td>\n",
       "      <td>0.168115</td>\n",
       "      <td>0.270784</td>\n",
       "      <td>0.258786</td>\n",
       "      <td>0.083333</td>\n",
       "      <td>0.095238</td>\n",
       "    </tr>\n",
       "  </tbody>\n",
       "</table>\n",
       "<p>1143 rows × 9 columns</p>\n",
       "</div>"
      ],
      "text/plain": [
       "      xyz_campaign_id  fb_campaign_id  gender  interest  Impressions  \\\n",
       "0                 0.0        0.000000     1.0  0.116071     0.002380   \n",
       "1                 0.0        0.000013     1.0  0.125000     0.005824   \n",
       "2                 0.0        0.000053     1.0  0.160714     0.000199   \n",
       "3                 0.0        0.000158     1.0  0.232143     0.001367   \n",
       "4                 0.0        0.000158     1.0  0.232143     0.001326   \n",
       "...               ...             ...     ...       ...          ...   \n",
       "1138              1.0        0.999934     0.0  0.955357     0.370156   \n",
       "1139              1.0        0.999947     0.0  0.964286     0.208873   \n",
       "1140              1.0        0.999961     0.0  0.973214     0.049623   \n",
       "1141              1.0        0.999987     0.0  0.991071     0.258908   \n",
       "1142              1.0        1.000000     0.0  1.000000     0.168115   \n",
       "\n",
       "        Clicks     Spent  Total_Conversion  Approved_Conversion  \n",
       "0     0.002375  0.002235          0.033333             0.047619  \n",
       "1     0.004751  0.002844          0.033333             0.000000  \n",
       "2     0.000000  0.000000          0.016667             0.000000  \n",
       "3     0.002375  0.001953          0.016667             0.000000  \n",
       "4     0.002375  0.002016          0.016667             0.047619  \n",
       "...        ...       ...               ...                  ...  \n",
       "1138  0.598575  0.559716          0.216667             0.095238  \n",
       "1139  0.285036  0.271709          0.050000             0.000000  \n",
       "1140  0.066508  0.062958          0.033333             0.000000  \n",
       "1141  0.320665  0.310509          0.133333             0.095238  \n",
       "1142  0.270784  0.258786          0.083333             0.095238  \n",
       "\n",
       "[1143 rows x 9 columns]"
      ]
     },
     "execution_count": 122,
     "metadata": {},
     "output_type": "execute_result"
    }
   ],
   "source": [
    "man=MinMaxScaler()\n",
    "feat=['xyz_campaign_id', 'fb_campaign_id', 'gender', 'interest',\n",
    "       'Impressions', 'Clicks', 'Spent', 'Total_Conversion',\n",
    "       'Approved_Conversion']\n",
    "df[feat]=man.fit_transform(df[feat])\n",
    "df[feat]"
   ]
  },
  {
   "cell_type": "code",
   "execution_count": 123,
   "metadata": {},
   "outputs": [
    {
     "data": {
      "text/html": [
       "<div>\n",
       "<style scoped>\n",
       "    .dataframe tbody tr th:only-of-type {\n",
       "        vertical-align: middle;\n",
       "    }\n",
       "\n",
       "    .dataframe tbody tr th {\n",
       "        vertical-align: top;\n",
       "    }\n",
       "\n",
       "    .dataframe thead th {\n",
       "        text-align: right;\n",
       "    }\n",
       "</style>\n",
       "<table border=\"1\" class=\"dataframe\">\n",
       "  <thead>\n",
       "    <tr style=\"text-align: right;\">\n",
       "      <th></th>\n",
       "      <th>xyz_campaign_id</th>\n",
       "      <th>fb_campaign_id</th>\n",
       "      <th>gender</th>\n",
       "      <th>interest</th>\n",
       "      <th>Impressions</th>\n",
       "      <th>Clicks</th>\n",
       "      <th>Spent</th>\n",
       "      <th>Total_Conversion</th>\n",
       "      <th>Approved_Conversion</th>\n",
       "    </tr>\n",
       "  </thead>\n",
       "  <tbody>\n",
       "    <tr>\n",
       "      <th>0</th>\n",
       "      <td>-1.245164</td>\n",
       "      <td>-1.457591</td>\n",
       "      <td>0.964750</td>\n",
       "      <td>-0.659472</td>\n",
       "      <td>-0.573793</td>\n",
       "      <td>-0.569573</td>\n",
       "      <td>-0.574772</td>\n",
       "      <td>-0.190922</td>\n",
       "      <td>0.032236</td>\n",
       "    </tr>\n",
       "    <tr>\n",
       "      <th>1</th>\n",
       "      <td>-1.245164</td>\n",
       "      <td>-1.457542</td>\n",
       "      <td>0.964750</td>\n",
       "      <td>-0.622353</td>\n",
       "      <td>-0.540171</td>\n",
       "      <td>-0.551988</td>\n",
       "      <td>-0.570282</td>\n",
       "      <td>-0.190922</td>\n",
       "      <td>-0.543486</td>\n",
       "    </tr>\n",
       "    <tr>\n",
       "      <th>2</th>\n",
       "      <td>-1.245164</td>\n",
       "      <td>-1.457396</td>\n",
       "      <td>0.964750</td>\n",
       "      <td>-0.473877</td>\n",
       "      <td>-0.595087</td>\n",
       "      <td>-0.587157</td>\n",
       "      <td>-0.591233</td>\n",
       "      <td>-0.414055</td>\n",
       "      <td>-0.543486</td>\n",
       "    </tr>\n",
       "    <tr>\n",
       "      <th>3</th>\n",
       "      <td>-1.245164</td>\n",
       "      <td>-1.457005</td>\n",
       "      <td>0.964750</td>\n",
       "      <td>-0.176924</td>\n",
       "      <td>-0.583680</td>\n",
       "      <td>-0.569573</td>\n",
       "      <td>-0.576844</td>\n",
       "      <td>-0.414055</td>\n",
       "      <td>-0.543486</td>\n",
       "    </tr>\n",
       "    <tr>\n",
       "      <th>4</th>\n",
       "      <td>-1.245164</td>\n",
       "      <td>-1.457005</td>\n",
       "      <td>0.964750</td>\n",
       "      <td>-0.176924</td>\n",
       "      <td>-0.584083</td>\n",
       "      <td>-0.569573</td>\n",
       "      <td>-0.576383</td>\n",
       "      <td>-0.414055</td>\n",
       "      <td>0.032236</td>\n",
       "    </tr>\n",
       "    <tr>\n",
       "      <th>...</th>\n",
       "      <td>...</td>\n",
       "      <td>...</td>\n",
       "      <td>...</td>\n",
       "      <td>...</td>\n",
       "      <td>...</td>\n",
       "      <td>...</td>\n",
       "      <td>...</td>\n",
       "      <td>...</td>\n",
       "      <td>...</td>\n",
       "    </tr>\n",
       "    <tr>\n",
       "      <th>1138</th>\n",
       "      <td>0.909863</td>\n",
       "      <td>2.254270</td>\n",
       "      <td>-1.036538</td>\n",
       "      <td>2.829719</td>\n",
       "      <td>3.016521</td>\n",
       "      <td>3.844193</td>\n",
       "      <td>3.532036</td>\n",
       "      <td>2.263541</td>\n",
       "      <td>0.607959</td>\n",
       "    </tr>\n",
       "    <tr>\n",
       "      <th>1139</th>\n",
       "      <td>0.909863</td>\n",
       "      <td>2.254319</td>\n",
       "      <td>-1.036538</td>\n",
       "      <td>2.866838</td>\n",
       "      <td>1.442036</td>\n",
       "      <td>1.523009</td>\n",
       "      <td>1.410369</td>\n",
       "      <td>0.032211</td>\n",
       "      <td>-0.543486</td>\n",
       "    </tr>\n",
       "    <tr>\n",
       "      <th>1140</th>\n",
       "      <td>0.909863</td>\n",
       "      <td>2.254368</td>\n",
       "      <td>-1.036538</td>\n",
       "      <td>2.903957</td>\n",
       "      <td>-0.112598</td>\n",
       "      <td>-0.094785</td>\n",
       "      <td>-0.127439</td>\n",
       "      <td>-0.190922</td>\n",
       "      <td>-0.543486</td>\n",
       "    </tr>\n",
       "    <tr>\n",
       "      <th>1141</th>\n",
       "      <td>0.909863</td>\n",
       "      <td>2.254465</td>\n",
       "      <td>-1.036538</td>\n",
       "      <td>2.978196</td>\n",
       "      <td>1.930492</td>\n",
       "      <td>1.786780</td>\n",
       "      <td>1.696198</td>\n",
       "      <td>1.147876</td>\n",
       "      <td>0.607959</td>\n",
       "    </tr>\n",
       "    <tr>\n",
       "      <th>1142</th>\n",
       "      <td>0.909863</td>\n",
       "      <td>2.254514</td>\n",
       "      <td>-1.036538</td>\n",
       "      <td>3.015315</td>\n",
       "      <td>1.044154</td>\n",
       "      <td>1.417501</td>\n",
       "      <td>1.315170</td>\n",
       "      <td>0.478477</td>\n",
       "      <td>0.607959</td>\n",
       "    </tr>\n",
       "  </tbody>\n",
       "</table>\n",
       "<p>1143 rows × 9 columns</p>\n",
       "</div>"
      ],
      "text/plain": [
       "      xyz_campaign_id  fb_campaign_id    gender  interest  Impressions  \\\n",
       "0           -1.245164       -1.457591  0.964750 -0.659472    -0.573793   \n",
       "1           -1.245164       -1.457542  0.964750 -0.622353    -0.540171   \n",
       "2           -1.245164       -1.457396  0.964750 -0.473877    -0.595087   \n",
       "3           -1.245164       -1.457005  0.964750 -0.176924    -0.583680   \n",
       "4           -1.245164       -1.457005  0.964750 -0.176924    -0.584083   \n",
       "...               ...             ...       ...       ...          ...   \n",
       "1138         0.909863        2.254270 -1.036538  2.829719     3.016521   \n",
       "1139         0.909863        2.254319 -1.036538  2.866838     1.442036   \n",
       "1140         0.909863        2.254368 -1.036538  2.903957    -0.112598   \n",
       "1141         0.909863        2.254465 -1.036538  2.978196     1.930492   \n",
       "1142         0.909863        2.254514 -1.036538  3.015315     1.044154   \n",
       "\n",
       "        Clicks     Spent  Total_Conversion  Approved_Conversion  \n",
       "0    -0.569573 -0.574772         -0.190922             0.032236  \n",
       "1    -0.551988 -0.570282         -0.190922            -0.543486  \n",
       "2    -0.587157 -0.591233         -0.414055            -0.543486  \n",
       "3    -0.569573 -0.576844         -0.414055            -0.543486  \n",
       "4    -0.569573 -0.576383         -0.414055             0.032236  \n",
       "...        ...       ...               ...                  ...  \n",
       "1138  3.844193  3.532036          2.263541             0.607959  \n",
       "1139  1.523009  1.410369          0.032211            -0.543486  \n",
       "1140 -0.094785 -0.127439         -0.190922            -0.543486  \n",
       "1141  1.786780  1.696198          1.147876             0.607959  \n",
       "1142  1.417501  1.315170          0.478477             0.607959  \n",
       "\n",
       "[1143 rows x 9 columns]"
      ]
     },
     "execution_count": 123,
     "metadata": {},
     "output_type": "execute_result"
    }
   ],
   "source": [
    "man=StandardScaler()\n",
    "feat=['xyz_campaign_id', 'fb_campaign_id', 'gender', 'interest',\n",
    "       'Impressions', 'Clicks', 'Spent', 'Total_Conversion',\n",
    "       'Approved_Conversion']\n",
    "df[feat]=man.fit_transform(df[feat])\n",
    "df[feat]"
   ]
  },
  {
   "cell_type": "code",
   "execution_count": null,
   "metadata": {},
   "outputs": [],
   "source": []
  }
 ],
 "metadata": {
  "kernelspec": {
   "display_name": "Python 3",
   "language": "python",
   "name": "python3"
  },
  "language_info": {
   "codemirror_mode": {
    "name": "ipython",
    "version": 3
   },
   "file_extension": ".py",
   "mimetype": "text/x-python",
   "name": "python",
   "nbconvert_exporter": "python",
   "pygments_lexer": "ipython3",
   "version": "3.7.6"
  }
 },
 "nbformat": 4,
 "nbformat_minor": 4
}
